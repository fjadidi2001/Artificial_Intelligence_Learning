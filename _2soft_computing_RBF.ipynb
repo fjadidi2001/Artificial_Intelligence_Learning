{
  "nbformat": 4,
  "nbformat_minor": 0,
  "metadata": {
    "colab": {
      "provenance": [],
      "authorship_tag": "ABX9TyOL1hth9Xqt/MHwMa2sQU1P",
      "include_colab_link": true
    },
    "kernelspec": {
      "name": "python3",
      "display_name": "Python 3"
    },
    "language_info": {
      "name": "python"
    }
  },
  "cells": [
    {
      "cell_type": "markdown",
      "metadata": {
        "id": "view-in-github",
        "colab_type": "text"
      },
      "source": [
        "<a href=\"https://colab.research.google.com/github/fjadidi2001/Artificial_Intelligence_Learning/blob/master/_2soft_computing_RBF.ipynb\" target=\"_parent\"><img src=\"https://colab.research.google.com/assets/colab-badge.svg\" alt=\"Open In Colab\"/></a>"
      ]
    },
    {
      "cell_type": "code",
      "source": [
        "import pandas as pd\n",
        "from sklearn.model_selection import train_test_split\n",
        "from sklearn.neural_network import MLPClassifier\n",
        "from sklearn.preprocessing import StandardScaler\n",
        "\n",
        "# Step 1: Load the Data\n",
        "spiral_100 = pd.read_csv('spiral_100.csv')\n",
        "spiral_150 = pd.read_csv('spiral_150.csv')\n",
        "spiral_200 = pd.read_csv('spiral_200.csv')\n",
        "spiral_test = pd.read_csv('spiral_g.csv')\n",
        "\n",
        "# Combine the datasets\n",
        "train_data = pd.concat([spiral_100, spiral_150, spiral_200], ignore_index=True)\n",
        "\n",
        "# Step 2: Preprocess the Data\n",
        "X_train = train_data.iloc[:, :-1].values  # Input features\n",
        "y_train = train_data.iloc[:, -1].values   # Output labels\n",
        "\n",
        "X_test = spiral_test.iloc[:, :-1].values\n",
        "y_test = spiral_test.iloc[:, -1].values\n",
        "\n",
        "# Convert output labels to -1 and 1\n",
        "y_train = 2 * y_train - 1\n",
        "y_test = 2 * y_test - 1\n",
        "\n",
        "# Step 3: Split the Data\n",
        "X_train, X_val, y_train, y_val = train_test_split(X_train, y_train, test_size=0.2, random_state=42)\n",
        "\n",
        "# Step 4: Train the RBF Network (Using MLPClassifier as an example)\n",
        "rbf_network = MLPClassifier(hidden_layer_sizes=(100,), activation='relu', solver='adam', max_iter=1000, random_state=42)\n",
        "rbf_network.fit(X_train, y_train)\n",
        "\n",
        "# Step 5: Evaluate the RBF Network\n",
        "accuracy = rbf_network.score(X_test, y_test)\n",
        "print(f'Test Accuracy: {accuracy * 100:.2f}%')\n"
      ],
      "metadata": {
        "colab": {
          "base_uri": "https://localhost:8080/"
        },
        "id": "XIH6R-UwM45j",
        "outputId": "09240663-fa72-4403-d444-62a525e6b49d"
      },
      "execution_count": null,
      "outputs": [
        {
          "output_type": "stream",
          "name": "stdout",
          "text": [
            "Test Accuracy: 58.41%\n"
          ]
        },
        {
          "output_type": "stream",
          "name": "stderr",
          "text": [
            "/usr/local/lib/python3.10/dist-packages/sklearn/neural_network/_multilayer_perceptron.py:686: ConvergenceWarning: Stochastic Optimizer: Maximum iterations (1000) reached and the optimization hasn't converged yet.\n",
            "  warnings.warn(\n"
          ]
        }
      ]
    }
  ]
}