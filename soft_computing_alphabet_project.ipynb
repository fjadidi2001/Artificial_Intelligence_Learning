{
  "nbformat": 4,
  "nbformat_minor": 0,
  "metadata": {
    "colab": {
      "provenance": [],
      "authorship_tag": "ABX9TyOjvmbJc9k8wh8E+27h9+hR",
      "include_colab_link": true
    },
    "kernelspec": {
      "name": "python3",
      "display_name": "Python 3"
    },
    "language_info": {
      "name": "python"
    }
  },
  "cells": [
    {
      "cell_type": "markdown",
      "metadata": {
        "id": "view-in-github",
        "colab_type": "text"
      },
      "source": [
        "<a href=\"https://colab.research.google.com/github/fjadidi2001/Artificial_Intelligence_Learning/blob/master/soft_computing_alphabet_project.ipynb\" target=\"_parent\"><img src=\"https://colab.research.google.com/assets/colab-badge.svg\" alt=\"Open In Colab\"/></a>"
      ]
    },
    {
      "cell_type": "code",
      "execution_count": 1,
      "metadata": {
        "colab": {
          "base_uri": "https://localhost:8080/"
        },
        "id": "W6RylE-aE9fj",
        "outputId": "85dfcfdf-5be3-4cd0-f633-18df60f33385"
      },
      "outputs": [
        {
          "output_type": "stream",
          "name": "stdout",
          "text": [
            "Model accuracy: 1.0\n",
            "a belongs to the lowercase alphabet\n"
          ]
        }
      ],
      "source": [
        "import pandas as pd\n",
        "from sklearn.model_selection import train_test_split\n",
        "from sklearn.feature_extraction.text import CountVectorizer\n",
        "from sklearn.naive_bayes import MultinomialNB\n",
        "from sklearn.metrics import accuracy_score\n",
        "\n",
        "# Sample dataset of alphabets\n",
        "data = {\n",
        "    'character': ['a', 'b', 'c', 'd', 'e', 'f', 'g', 'h', 'i', 'j', 'k', 'l', 'm', 'n', 'o', 'p', 'q', 'r', 's', 't', 'u', 'v', 'w', 'x', 'y', 'z'],\n",
        "    'label': ['lowercase'] * 26\n",
        "}\n",
        "df = pd.DataFrame(data)\n",
        "\n",
        "# Feature extraction\n",
        "vectorizer = CountVectorizer(analyzer='char')\n",
        "X = vectorizer.fit_transform(df['character'])\n",
        "\n",
        "# Target variable\n",
        "y = df['label']\n",
        "\n",
        "# Split the dataset into training and testing sets\n",
        "X_train, X_test, y_train, y_test = train_test_split(X, y, test_size=0.2, random_state=42)\n",
        "\n",
        "# Train the model\n",
        "model = MultinomialNB()\n",
        "model.fit(X_train, y_train)\n",
        "\n",
        "# Make predictions\n",
        "y_pred = model.predict(X_test)\n",
        "\n",
        "# Evaluate the model\n",
        "accuracy = accuracy_score(y_test, y_pred)\n",
        "print(f\"Model accuracy: {accuracy}\")\n",
        "\n",
        "# Recognize alphabet function\n",
        "def recognize_alphabet(input_char):\n",
        "    input_vector = vectorizer.transform([input_char])\n",
        "    prediction = model.predict(input_vector)\n",
        "    if prediction[0] == 'lowercase':\n",
        "        print(f\"{input_char} belongs to the lowercase alphabet\")\n",
        "    else:\n",
        "        print(f\"{input_char} does not belong to the lowercase alphabet\")\n",
        "\n",
        "# Test the recognition function\n",
        "input_char = 'a'\n",
        "recognize_alphabet(input_char)\n"
      ]
    }
  ]
}