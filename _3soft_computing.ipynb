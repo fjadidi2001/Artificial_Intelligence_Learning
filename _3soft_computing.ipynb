{
  "nbformat": 4,
  "nbformat_minor": 0,
  "metadata": {
    "colab": {
      "provenance": [],
      "authorship_tag": "ABX9TyNuuSC7BPl4cSdpqiZ3DaUa",
      "include_colab_link": true
    },
    "kernelspec": {
      "name": "python3",
      "display_name": "Python 3"
    },
    "language_info": {
      "name": "python"
    }
  },
  "cells": [
    {
      "cell_type": "markdown",
      "metadata": {
        "id": "view-in-github",
        "colab_type": "text"
      },
      "source": [
        "<a href=\"https://colab.research.google.com/github/fjadidi2001/Artificial_Intelligence_Learning/blob/master/_3soft_computing.ipynb\" target=\"_parent\"><img src=\"https://colab.research.google.com/assets/colab-badge.svg\" alt=\"Open In Colab\"/></a>"
      ]
    },
    {
      "cell_type": "code",
      "execution_count": 2,
      "metadata": {
        "colab": {
          "base_uri": "https://localhost:8080/"
        },
        "id": "33aIIglBouBD",
        "outputId": "4d5f8a02-b06e-43ec-ecbf-eb4f82f385f0"
      },
      "outputs": [
        {
          "output_type": "stream",
          "name": "stdout",
          "text": [
            "Best Position: -7.201608263512838e+39\n",
            "Best Value: -3.7349817301432526e+119\n"
          ]
        }
      ],
      "source": [
        "import numpy as np\n",
        "\n",
        "# Modified objective function to handle non-negative values\n",
        "def objective_function(x):\n",
        "    return x**3 + np.sqrt(np.maximum(x, 0)) - 1\n",
        "\n",
        "\n",
        "# Particle Swarm Optimization (PSO) algorithm\n",
        "def pso_algorithm(num_particles, num_iterations, w1, w2, w3):\n",
        "    # Initialize particles with random positions and velocities\n",
        "    particles_position = np.random.uniform(0, 10, num_particles)\n",
        "    particles_velocity = np.random.uniform(-1, 1, num_particles)\n",
        "\n",
        "    # Initialize best positions and values\n",
        "    personal_best_positions = particles_position.copy()\n",
        "    personal_best_values = objective_function(personal_best_positions)\n",
        "\n",
        "    # Initialize global best position and value\n",
        "    global_best_position = particles_position[np.argmin(personal_best_values)]\n",
        "    global_best_value = min(personal_best_values)\n",
        "\n",
        "    # PSO main loop\n",
        "    for iteration in range(num_iterations):\n",
        "        for i in range(num_particles):\n",
        "            # Update particle velocity and position\n",
        "            r1, r2 = np.random.rand(), np.random.rand()\n",
        "            particles_velocity[i] = w1 * particles_velocity[i] + w2 * r1 * (personal_best_positions[i] - particles_position[i]) + w3 * r2 * (global_best_position - particles_position[i])\n",
        "            particles_position[i] += particles_velocity[i]\n",
        "\n",
        "            # Update personal best\n",
        "            current_value = objective_function(particles_position[i])\n",
        "            if current_value < personal_best_values[i]:\n",
        "                personal_best_values[i] = current_value\n",
        "                personal_best_positions[i] = particles_position[i]\n",
        "\n",
        "                # Update global best\n",
        "                if current_value < global_best_value:\n",
        "                    global_best_value = current_value\n",
        "                    global_best_position = particles_position[i]\n",
        "\n",
        "    return global_best_position, global_best_value\n",
        "\n",
        "# Parameters\n",
        "num_particles = 20\n",
        "num_iterations = 100\n",
        "w1, w2, w3 = 1, 1, 1\n",
        "\n",
        "# Run PSO algorithm\n",
        "best_position, best_value = pso_algorithm(num_particles, num_iterations, w1, w2, w3)\n",
        "\n",
        "print(\"Best Position:\", best_position)\n",
        "print(\"Best Value:\", best_value)\n"
      ]
    }
  ]
}