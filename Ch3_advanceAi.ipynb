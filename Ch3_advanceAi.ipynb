{
  "nbformat": 4,
  "nbformat_minor": 0,
  "metadata": {
    "colab": {
      "provenance": [],
      "authorship_tag": "ABX9TyPQvMQnvgjr/tuoCXsLFDLw",
      "include_colab_link": true
    },
    "kernelspec": {
      "name": "python3",
      "display_name": "Python 3"
    },
    "language_info": {
      "name": "python"
    }
  },
  "cells": [
    {
      "cell_type": "markdown",
      "metadata": {
        "id": "view-in-github",
        "colab_type": "text"
      },
      "source": [
        "<a href=\"https://colab.research.google.com/github/fjadidi2001/Artificial_Intelligence_Learning/blob/master/Ch3_advanceAi.ipynb\" target=\"_parent\"><img src=\"https://colab.research.google.com/assets/colab-badge.svg\" alt=\"Open In Colab\"/></a>"
      ]
    },
    {
      "cell_type": "code",
      "source": [
        "# Example 3.1 Python SVM Classifications\n",
        "from sklearn import svm\n",
        "X = [[170, 70, 10], [180, 80,12], [170, 65, 8],[160, 55, 7]]\n",
        "#Height[cm], Weight[kg], Shoesize[UK]\n",
        "y = [0, 0, 1, 1] # four sets of known genders\n",
        "#Gender, 0: Male, 1: Female\n",
        "clf = svm.SVC()\n",
        "clf.fit(X, y)\n",
        "#Predict\n",
        "p = clf.predict([[160, 60, 7]])\n",
        "print(p)"
      ],
      "metadata": {
        "colab": {
          "base_uri": "https://localhost:8080/"
        },
        "id": "UX9P1UMP5sVE",
        "outputId": "849f8703-9608-432c-b503-44a7b33db7d7"
      },
      "execution_count": null,
      "outputs": [
        {
          "output_type": "stream",
          "name": "stdout",
          "text": [
            "[1]\n"
          ]
        }
      ]
    },
    {
      "cell_type": "code",
      "source": [
        "#EXERCISE 3.1 Python SVM Classifications\n",
        "from sklearn import svm\n",
        "X = [[170, 70, 10], [180, 80,12], [170, 65, 8],[160, 55, 7],[179, 53, 11],[150, 47, 8], [185 , 52, 9]]\n",
        "#Height[cm], Weight[kg], Shoesize[UK]\n",
        "y = [0, 0, 1, 1, 0, 1, 1]\n",
        "#Gender, 0: Male, 1: Female\n",
        "clf = svm.SVC() # LinearSVC only supports a linear kernel, is faster and can scale a lot better.\n",
        "clf.fit(X, y)\n",
        "#Predict\n",
        "p = clf.predict([[160, 60, 7]])\n",
        "print(p)"
      ],
      "metadata": {
        "colab": {
          "base_uri": "https://localhost:8080/"
        },
        "id": "67RPboOa6GNZ",
        "outputId": "e72759fe-f457-46fa-d5b3-9784a78bb993"
      },
      "execution_count": 6,
      "outputs": [
        {
          "output_type": "stream",
          "name": "stdout",
          "text": [
            "[1]\n"
          ]
        }
      ]
    },
    {
      "cell_type": "code",
      "source": [
        "#Example 3.2 Python SVM Iris Classifications\n",
        "from sklearn import svm, datasets\n",
        "iris = datasets.load_iris()\n",
        "# Take the first two features: Sepal length and Sepal width\n",
        "X = iris.data[:, :2]\n",
        "y = iris.target #0: Setosa, 1: Versicolour, 2:Virginica\n",
        "print(y)\n",
        "clf = svm.SVC()\n",
        "clf.fit(X, y)\n",
        "#Predict the flower for a given Sepal length and width\n",
        "p = clf.predict([[5.4, 3.2]])\n",
        "print(p)"
      ],
      "metadata": {
        "colab": {
          "base_uri": "https://localhost:8080/"
        },
        "id": "pDvdT0PggNvp",
        "outputId": "e72c9dd8-6343-43ab-febd-223551d926a6"
      },
      "execution_count": 7,
      "outputs": [
        {
          "output_type": "stream",
          "name": "stdout",
          "text": [
            "[0 0 0 0 0 0 0 0 0 0 0 0 0 0 0 0 0 0 0 0 0 0 0 0 0 0 0 0 0 0 0 0 0 0 0 0 0\n",
            " 0 0 0 0 0 0 0 0 0 0 0 0 0 1 1 1 1 1 1 1 1 1 1 1 1 1 1 1 1 1 1 1 1 1 1 1 1\n",
            " 1 1 1 1 1 1 1 1 1 1 1 1 1 1 1 1 1 1 1 1 1 1 1 1 1 1 2 2 2 2 2 2 2 2 2 2 2\n",
            " 2 2 2 2 2 2 2 2 2 2 2 2 2 2 2 2 2 2 2 2 2 2 2 2 2 2 2 2 2 2 2 2 2 2 2 2 2\n",
            " 2 2]\n",
            "[0]\n"
          ]
        }
      ]
    },
    {
      "cell_type": "code",
      "source": [
        "# EXERCISE 3.2\n",
        "from sklearn import svm, datasets\n",
        "iris = datasets.load_iris()\n",
        "X = iris.data[:, :4]\n",
        "y = iris.target\n",
        "print(y)\n",
        "clf = svm.SVC()\n",
        "clf.fit(X,y)\n",
        "p = clf.predict([[1.2, 2.8, 3.5, 6.2]])\n",
        "print(p)"
      ],
      "metadata": {
        "colab": {
          "base_uri": "https://localhost:8080/"
        },
        "id": "OzfvCUxfi6g8",
        "outputId": "a552f9e6-3d11-4827-d197-abc2ee74aefb"
      },
      "execution_count": 8,
      "outputs": [
        {
          "output_type": "stream",
          "name": "stdout",
          "text": [
            "[0 0 0 0 0 0 0 0 0 0 0 0 0 0 0 0 0 0 0 0 0 0 0 0 0 0 0 0 0 0 0 0 0 0 0 0 0\n",
            " 0 0 0 0 0 0 0 0 0 0 0 0 0 1 1 1 1 1 1 1 1 1 1 1 1 1 1 1 1 1 1 1 1 1 1 1 1\n",
            " 1 1 1 1 1 1 1 1 1 1 1 1 1 1 1 1 1 1 1 1 1 1 1 1 1 1 2 2 2 2 2 2 2 2 2 2 2\n",
            " 2 2 2 2 2 2 2 2 2 2 2 2 2 2 2 2 2 2 2 2 2 2 2 2 2 2 2 2 2 2 2 2 2 2 2 2 2\n",
            " 2 2]\n",
            "[2]\n"
          ]
        }
      ]
    }
  ]
}