{
  "nbformat": 4,
  "nbformat_minor": 0,
  "metadata": {
    "colab": {
      "provenance": [],
      "authorship_tag": "ABX9TyOATTl6/Ew62IaOMP1chQrw",
      "include_colab_link": true
    },
    "kernelspec": {
      "name": "python3",
      "display_name": "Python 3"
    },
    "language_info": {
      "name": "python"
    }
  },
  "cells": [
    {
      "cell_type": "markdown",
      "metadata": {
        "id": "view-in-github",
        "colab_type": "text"
      },
      "source": [
        "<a href=\"https://colab.research.google.com/github/fjadidi2001/Artificial_Intelligence_Learning/blob/master/third_project_advanceAI.ipynb\" target=\"_parent\"><img src=\"https://colab.research.google.com/assets/colab-badge.svg\" alt=\"Open In Colab\"/></a>"
      ]
    },
    {
      "cell_type": "code",
      "execution_count": 3,
      "metadata": {
        "colab": {
          "base_uri": "https://localhost:8080/"
        },
        "id": "gIBml8R-r3Vd",
        "outputId": "a37ae2b1-6dce-4cb8-b18c-3a86fe689470"
      },
      "outputs": [
        {
          "output_type": "stream",
          "name": "stdout",
          "text": [
            "Multiple Linear Regression:\n",
            "Training RMSE: 0.836815818815725\n",
            "Testing RMSE: 1.4203494220121675\n",
            "The model may be overfitting to the training data.\n",
            "\n",
            "Random Forest Regression:\n",
            "Training RMSE: 0.5390039954014608\n",
            "Testing RMSE: 1.8153065647208706\n",
            "The Random Forest model may be overfitting to the training data.\n"
          ]
        }
      ],
      "source": [
        "# Import necessary libraries\n",
        "import numpy as np\n",
        "import matplotlib.pyplot as plt\n",
        "from sklearn.model_selection import train_test_split\n",
        "from sklearn.linear_model import LinearRegression\n",
        "from sklearn.ensemble import RandomForestRegressor\n",
        "from sklearn.metrics import mean_squared_error, r2_score\n",
        "\n",
        "# Generate synthetic multidimensional data\n",
        "np.random.seed(42)\n",
        "n_features = 3  # Number of independent features\n",
        "X = 2 * np.random.rand(100, n_features)\n",
        "true_coefficients = np.array([3, 5, 2])  # True coefficients for features\n",
        "y = X.dot(true_coefficients) + 3 + np.random.randn(100)\n",
        "\n",
        "# Split the data into training and testing sets\n",
        "X_train, X_test, y_train, y_test = train_test_split(X, y, test_size=0.2, random_state=42)\n",
        "\n",
        "# 1. Multiple Linear Regression\n",
        "# Create and fit the linear regression model\n",
        "linear_reg_model = LinearRegression()\n",
        "linear_reg_model.fit(X_train, y_train)\n",
        "\n",
        "# Make predictions on both training and test sets\n",
        "linear_reg_train_predictions = linear_reg_model.predict(X_train)\n",
        "linear_reg_test_predictions = linear_reg_model.predict(X_test)\n",
        "\n",
        "# Calculate RMSE for both sets\n",
        "rmse_train = np.sqrt(mean_squared_error(y_train, linear_reg_train_predictions))\n",
        "rmse_test = np.sqrt(mean_squared_error(y_test, linear_reg_test_predictions))\n",
        "\n",
        "# Print results\n",
        "print(\"Multiple Linear Regression:\")\n",
        "print(\"Training RMSE:\", rmse_train)\n",
        "print(\"Testing RMSE:\", rmse_test)\n",
        "\n",
        "# Check for overfitting\n",
        "if rmse_train < rmse_test:\n",
        "    print(\"The model may be overfitting to the training data.\")\n",
        "else:\n",
        "    print(\"The model is not showing clear signs of overfitting.\")\n",
        "\n",
        "# 2. Random Forest Regression\n",
        "# Create and fit the random forest regression model\n",
        "random_forest_model = RandomForestRegressor(n_estimators=100, random_state=42)\n",
        "random_forest_model.fit(X_train, y_train)\n",
        "\n",
        "# Make predictions on both training and test sets\n",
        "random_forest_train_predictions = random_forest_model.predict(X_train)\n",
        "random_forest_test_predictions = random_forest_model.predict(X_test)\n",
        "\n",
        "# Calculate RMSE for both sets\n",
        "rmse_rf_train = np.sqrt(mean_squared_error(y_train, random_forest_train_predictions))\n",
        "rmse_rf_test = np.sqrt(mean_squared_error(y_test, random_forest_test_predictions))\n",
        "\n",
        "# Print results\n",
        "print(\"\\nRandom Forest Regression:\")\n",
        "print(\"Training RMSE:\", rmse_rf_train)\n",
        "print(\"Testing RMSE:\", rmse_rf_test)\n",
        "\n",
        "# Check for overfitting\n",
        "if rmse_rf_train < rmse_rf_test:\n",
        "    print(\"The Random Forest model may be overfitting to the training data.\")\n",
        "else:\n",
        "    print(\"The Random Forest model is not showing clear signs of overfitting.\")\n"
      ]
    }
  ]
}