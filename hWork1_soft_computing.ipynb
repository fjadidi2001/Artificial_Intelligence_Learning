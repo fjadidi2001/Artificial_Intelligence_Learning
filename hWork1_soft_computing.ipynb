{
  "nbformat": 4,
  "nbformat_minor": 0,
  "metadata": {
    "colab": {
      "provenance": [],
      "authorship_tag": "ABX9TyMeXuXsRkFrvNX+l/NP5NVs",
      "include_colab_link": true
    },
    "kernelspec": {
      "name": "python3",
      "display_name": "Python 3"
    },
    "language_info": {
      "name": "python"
    }
  },
  "cells": [
    {
      "cell_type": "markdown",
      "metadata": {
        "id": "view-in-github",
        "colab_type": "text"
      },
      "source": [
        "<a href=\"https://colab.research.google.com/github/fjadidi2001/Artificial_Intelligence_Learning/blob/master/hWork1_soft_computing.ipynb\" target=\"_parent\"><img src=\"https://colab.research.google.com/assets/colab-badge.svg\" alt=\"Open In Colab\"/></a>"
      ]
    },
    {
      "cell_type": "code",
      "execution_count": 5,
      "metadata": {
        "colab": {
          "base_uri": "https://localhost:8080/"
        },
        "id": "G4Rox6oiycKu",
        "outputId": "0e2313b4-e000-488b-dc24-1b44bf193643"
      },
      "outputs": [
        {
          "output_type": "stream",
          "name": "stdout",
          "text": [
            "The valve position is 68.97% open.\n"
          ]
        }
      ],
      "source": [
        "\n",
        "import numpy as np\n",
        "import skfuzzy as fuzz\n",
        "from skfuzzy import control as ctrl\n",
        "\n",
        "# Define the fuzzy variables\n",
        "level = ctrl.Antecedent(np.arange(0, 101, 1), 'level')\n",
        "valve = ctrl.Consequent(np.arange(0, 101, 1), 'valve')\n",
        "\n",
        "# Define the membership functions\n",
        "level['low'] = fuzz.trimf(level.universe, [0, 25, 50])\n",
        "level['okay'] = fuzz.trimf(level.universe, [25, 50, 75])\n",
        "level['high'] = fuzz.trimf(level.universe, [50, 75, 100])\n",
        "\n",
        "valve['closefast'] = fuzz.trimf(valve.universe, [0, 25, 50])\n",
        "valve['nochange'] = fuzz.trimf(valve.universe, [25, 50, 75])\n",
        "valve['openfast'] = fuzz.trimf(valve.universe, [50, 75, 100])\n",
        "\n",
        "# Define the rules\n",
        "rule1 = ctrl.Rule(level['okay'], valve['nochange'])\n",
        "rule2 = ctrl.Rule(level['low'], valve['openfast'])\n",
        "rule3 = ctrl.Rule(level['high'], valve['closefast'])\n",
        "\n",
        "# Create the control system\n",
        "control_system = ctrl.ControlSystem(rules=[rule1, rule2, rule3])\n",
        "\n",
        "# Simulation\n",
        "simulation = ctrl.ControlSystemSimulation(control_system)\n",
        "\n",
        "# Set input level\n",
        "simulation.input['level'] = 30\n",
        "\n",
        "# Compute\n",
        "simulation.compute()\n",
        "\n",
        "# Print the output valve position\n",
        "print(f\"The valve position is {simulation.output['valve']:.2f}% open.\")\n"
      ]
    },
    {
      "cell_type": "code",
      "source": [
        "import numpy as np\n",
        "import skfuzzy as fuzz\n",
        "from skfuzzy import control as ctrl\n",
        "\n",
        "# Define the fuzzy variables\n",
        "level = ctrl.Antecedent(np.arange(0, 101, 1), 'level')\n",
        "valve = ctrl.Consequent(np.arange(0, 101, 1), 'valve')\n",
        "\n",
        "# Define the membership functions\n",
        "level['low'] = fuzz.trimf(level.universe, [0, 25, 50])\n",
        "level['okay'] = fuzz.trimf(level.universe, [25, 50, 75])\n",
        "level['high'] = fuzz.trimf(level.universe, [50, 75, 100])\n",
        "\n",
        "valve['closefast'] = fuzz.trimf(valve.universe, [0, 25, 50])\n",
        "valve['nochange'] = fuzz.trimf(valve.universe, [25, 50, 75])\n",
        "valve['openfast'] = fuzz.trimf(valve.universe, [50, 75, 100])\n",
        "\n",
        "# Define the rules using the Mamdani method\n",
        "rule1 = ctrl.Rule(level['okay'], valve['nochange'])\n",
        "rule2 = ctrl.Rule(level['low'], valve['openfast'])\n",
        "rule3 = ctrl.Rule(level['high'], valve['closefast'])\n",
        "\n",
        "# Create the control system using the specified method settings\n",
        "fis_ctrl = ctrl.ControlSystem(rules=[rule1, rule2, rule3],\n",
        "                              aggregation_method=np.fmax,\n",
        "                              aggregation_functions=np.fmax,\n",
        "                              activation_func=np.fmin,\n",
        "                              accumulation_func=np.fmax)\n",
        "\n",
        "# Simulation\n",
        "simulation = ctrl.ControlSystemSimulation(fis_ctrl)\n",
        "\n",
        "# Set input level\n",
        "simulation.input['level'] = 30\n",
        "\n",
        "# Compute\n",
        "simulation.compute()\n",
        "\n",
        "# Print the output valve position\n",
        "print(f\"The valve position is {simulation.output['valve']:.2f}% open.\")\n"
      ],
      "metadata": {
        "colab": {
          "base_uri": "https://localhost:8080/",
          "height": 245
        },
        "id": "JQFsQ40U3mwa",
        "outputId": "e1dbfed1-591d-4f51-f3e7-34e8462881b4"
      },
      "execution_count": 7,
      "outputs": [
        {
          "output_type": "error",
          "ename": "TypeError",
          "evalue": "ignored",
          "traceback": [
            "\u001b[0;31m---------------------------------------------------------------------------\u001b[0m",
            "\u001b[0;31mTypeError\u001b[0m                                 Traceback (most recent call last)",
            "\u001b[0;32m<ipython-input-7-bab7a42d7c16>\u001b[0m in \u001b[0;36m<cell line: 24>\u001b[0;34m()\u001b[0m\n\u001b[1;32m     22\u001b[0m \u001b[0;34m\u001b[0m\u001b[0m\n\u001b[1;32m     23\u001b[0m \u001b[0;31m# Create the control system using the specified method settings\u001b[0m\u001b[0;34m\u001b[0m\u001b[0;34m\u001b[0m\u001b[0m\n\u001b[0;32m---> 24\u001b[0;31m fis_ctrl = ctrl.ControlSystem(rules=[rule1, rule2, rule3],\n\u001b[0m\u001b[1;32m     25\u001b[0m                               \u001b[0maggregation_method\u001b[0m\u001b[0;34m=\u001b[0m\u001b[0mnp\u001b[0m\u001b[0;34m.\u001b[0m\u001b[0mfmax\u001b[0m\u001b[0;34m,\u001b[0m\u001b[0;34m\u001b[0m\u001b[0;34m\u001b[0m\u001b[0m\n\u001b[1;32m     26\u001b[0m                               \u001b[0maggregation_functions\u001b[0m\u001b[0;34m=\u001b[0m\u001b[0mnp\u001b[0m\u001b[0;34m.\u001b[0m\u001b[0mfmax\u001b[0m\u001b[0;34m,\u001b[0m\u001b[0;34m\u001b[0m\u001b[0;34m\u001b[0m\u001b[0m\n",
            "\u001b[0;31mTypeError\u001b[0m: ControlSystem.__init__() got an unexpected keyword argument 'aggregation_method'"
          ]
        }
      ]
    },
    {
      "cell_type": "code",
      "source": [
        "import numpy as np\n",
        "import skfuzzy as fuzz\n",
        "from skfuzzy import control as ctrl\n",
        "\n",
        "# Define the fuzzy variables\n",
        "level = ctrl.Antecedent(np.arange(0, 101, 1), 'level')\n",
        "valve = ctrl.Consequent(np.arange(0, 101, 1), 'valve')\n",
        "\n",
        "# Define the membership functions\n",
        "level['low'] = fuzz.trimf(level.universe, [0, 25, 50])\n",
        "level['okay'] = fuzz.trimf(level.universe, [25, 50, 75])\n",
        "level['high'] = fuzz.trimf(level.universe, [50, 75, 100])\n",
        "\n",
        "valve['closefast'] = fuzz.trimf(valve.universe, [0, 25, 50])\n",
        "valve['nochange'] = fuzz.trimf(valve.universe, [25, 50, 75])\n",
        "valve['openfast'] = fuzz.trimf(valve.universe, [50, 75, 100])\n",
        "\n",
        "# Define the rules using the Mamdani method\n",
        "rule1 = ctrl.Rule(level['okay'], valve['nochange'])\n",
        "rule2 = ctrl.Rule(level['low'], valve['openfast'])\n",
        "rule3 = ctrl.Rule(level['high'], valve['closefast'])\n",
        "\n",
        "# Create the control system using the Mamdani inference method\n",
        "fis_ctrl = ctrl.FuzzyControlSystem([rule1, rule2, rule3], aggregation=np.fmax, defuzzify_method='centroid')\n",
        "\n",
        "# Simulation\n",
        "simulation = ctrl.ControlSystemSimulation(fis_ctrl)\n",
        "\n",
        "# Set input level\n",
        "simulation.input['level'] = 30\n",
        "\n",
        "# Compute\n",
        "simulation.compute()\n",
        "\n",
        "# Print the output valve position\n",
        "print(f\"The valve position is {simulation.output['valve']:.2f}% open.\")\n"
      ],
      "metadata": {
        "colab": {
          "base_uri": "https://localhost:8080/",
          "height": 245
        },
        "id": "bmQYM_Lx33Q7",
        "outputId": "c1176ee6-d503-4978-bbe4-6b9ad1b5e3a4"
      },
      "execution_count": 8,
      "outputs": [
        {
          "output_type": "error",
          "ename": "AttributeError",
          "evalue": "ignored",
          "traceback": [
            "\u001b[0;31m---------------------------------------------------------------------------\u001b[0m",
            "\u001b[0;31mAttributeError\u001b[0m                            Traceback (most recent call last)",
            "\u001b[0;32m<ipython-input-8-2b7e8e6470ad>\u001b[0m in \u001b[0;36m<cell line: 24>\u001b[0;34m()\u001b[0m\n\u001b[1;32m     22\u001b[0m \u001b[0;34m\u001b[0m\u001b[0m\n\u001b[1;32m     23\u001b[0m \u001b[0;31m# Create the control system using the Mamdani inference method\u001b[0m\u001b[0;34m\u001b[0m\u001b[0;34m\u001b[0m\u001b[0m\n\u001b[0;32m---> 24\u001b[0;31m \u001b[0mfis_ctrl\u001b[0m \u001b[0;34m=\u001b[0m \u001b[0mctrl\u001b[0m\u001b[0;34m.\u001b[0m\u001b[0mFuzzyControlSystem\u001b[0m\u001b[0;34m(\u001b[0m\u001b[0;34m[\u001b[0m\u001b[0mrule1\u001b[0m\u001b[0;34m,\u001b[0m \u001b[0mrule2\u001b[0m\u001b[0;34m,\u001b[0m \u001b[0mrule3\u001b[0m\u001b[0;34m]\u001b[0m\u001b[0;34m,\u001b[0m \u001b[0maggregation\u001b[0m\u001b[0;34m=\u001b[0m\u001b[0mnp\u001b[0m\u001b[0;34m.\u001b[0m\u001b[0mfmax\u001b[0m\u001b[0;34m,\u001b[0m \u001b[0mdefuzzify_method\u001b[0m\u001b[0;34m=\u001b[0m\u001b[0;34m'centroid'\u001b[0m\u001b[0;34m)\u001b[0m\u001b[0;34m\u001b[0m\u001b[0;34m\u001b[0m\u001b[0m\n\u001b[0m\u001b[1;32m     25\u001b[0m \u001b[0;34m\u001b[0m\u001b[0m\n\u001b[1;32m     26\u001b[0m \u001b[0;31m# Simulation\u001b[0m\u001b[0;34m\u001b[0m\u001b[0;34m\u001b[0m\u001b[0m\n",
            "\u001b[0;31mAttributeError\u001b[0m: module 'skfuzzy.control' has no attribute 'FuzzyControlSystem'"
          ]
        }
      ]
    },
    {
      "cell_type": "code",
      "source": [
        "import numpy as np\n",
        "import skfuzzy as fuzz\n",
        "from skfuzzy import control as ctrl\n",
        "\n",
        "# New Antecedent/Consequent objects hold universe variables and membership functions\n",
        "level = ctrl.Antecedent(np.arange(0, 101, 1), 'level')\n",
        "valve = ctrl.Consequent(np.arange(0, 101, 1), 'valve')\n",
        "\n",
        "# Define the membership functions using the names provided\n",
        "level['low'] = fuzz.trimf(level.universe, [0, 25, 50])\n",
        "level['okay'] = fuzz.trimf(level.universe, [25, 50, 75])\n",
        "level['high'] = fuzz.trimf(level.universe, [50, 75, 100])\n",
        "\n",
        "valve['closefast'] = fuzz.trimf(valve.universe, [0, 25, 50])\n",
        "valve['nochange'] = fuzz.trimf(valve.universe, [25, 50, 75])\n",
        "valve['openfast'] = fuzz.trimf(valve.universe, [50, 75, 100])\n",
        "\n",
        "# Define the rules using the Mamdani implication method\n",
        "rule1 = ctrl.Rule(antecedent=level['okay'], consequent=valve['nochange'])\n",
        "rule2 = ctrl.Rule(antecedent=level['low'], consequent=valve['openfast'])\n",
        "rule3 = ctrl.Rule(antecedent=level['high'], consequent=valve['closefast'])\n",
        "\n",
        "# Create a ControlSystem using the specified properties\n",
        "fis_ctrl = ctrl.ControlSystem(rules=[rule1, rule2, rule3], aggregation_method=np.fmax, aggregation_functions=np.fmax, activation_func=np.fmin, accumulation_func=np.fmax)\n",
        "\n",
        "# Create a simulation\n",
        "fis_simulation = ctrl.ControlSystemSimulation(fis_ctrl)\n",
        "\n",
        "# Set the input level\n",
        "fis_simulation.input['level'] = 30\n",
        "\n",
        "# Compute\n",
        "fis_simulation.compute()\n",
        "\n",
        "# Print the output valve position\n",
        "print(f\"The valve position is {fis_simulation.output['valve']:.2f}% open.\")\n"
      ],
      "metadata": {
        "colab": {
          "base_uri": "https://localhost:8080/",
          "height": 263
        },
        "id": "N0i9x0gQ5wPa",
        "outputId": "ea6d7a1f-c59a-4079-ec1f-500447b79986"
      },
      "execution_count": 10,
      "outputs": [
        {
          "output_type": "error",
          "ename": "TypeError",
          "evalue": "ignored",
          "traceback": [
            "\u001b[0;31m---------------------------------------------------------------------------\u001b[0m",
            "\u001b[0;31mTypeError\u001b[0m                                 Traceback (most recent call last)",
            "\u001b[0;32m<ipython-input-10-95aa86e6c1eb>\u001b[0m in \u001b[0;36m<cell line: 24>\u001b[0;34m()\u001b[0m\n\u001b[1;32m     22\u001b[0m \u001b[0;34m\u001b[0m\u001b[0m\n\u001b[1;32m     23\u001b[0m \u001b[0;31m# Create a ControlSystem using the specified properties\u001b[0m\u001b[0;34m\u001b[0m\u001b[0;34m\u001b[0m\u001b[0m\n\u001b[0;32m---> 24\u001b[0;31m \u001b[0mfis_ctrl\u001b[0m \u001b[0;34m=\u001b[0m \u001b[0mctrl\u001b[0m\u001b[0;34m.\u001b[0m\u001b[0mControlSystem\u001b[0m\u001b[0;34m(\u001b[0m\u001b[0mrules\u001b[0m\u001b[0;34m=\u001b[0m\u001b[0;34m[\u001b[0m\u001b[0mrule1\u001b[0m\u001b[0;34m,\u001b[0m \u001b[0mrule2\u001b[0m\u001b[0;34m,\u001b[0m \u001b[0mrule3\u001b[0m\u001b[0;34m]\u001b[0m\u001b[0;34m,\u001b[0m \u001b[0maggregation_method\u001b[0m\u001b[0;34m=\u001b[0m\u001b[0mnp\u001b[0m\u001b[0;34m.\u001b[0m\u001b[0mfmax\u001b[0m\u001b[0;34m,\u001b[0m \u001b[0maggregation_functions\u001b[0m\u001b[0;34m=\u001b[0m\u001b[0mnp\u001b[0m\u001b[0;34m.\u001b[0m\u001b[0mfmax\u001b[0m\u001b[0;34m,\u001b[0m \u001b[0mactivation_func\u001b[0m\u001b[0;34m=\u001b[0m\u001b[0mnp\u001b[0m\u001b[0;34m.\u001b[0m\u001b[0mfmin\u001b[0m\u001b[0;34m,\u001b[0m \u001b[0maccumulation_func\u001b[0m\u001b[0;34m=\u001b[0m\u001b[0mnp\u001b[0m\u001b[0;34m.\u001b[0m\u001b[0mfmax\u001b[0m\u001b[0;34m)\u001b[0m\u001b[0;34m\u001b[0m\u001b[0;34m\u001b[0m\u001b[0m\n\u001b[0m\u001b[1;32m     25\u001b[0m \u001b[0;34m\u001b[0m\u001b[0m\n\u001b[1;32m     26\u001b[0m \u001b[0;31m# Create a simulation\u001b[0m\u001b[0;34m\u001b[0m\u001b[0;34m\u001b[0m\u001b[0m\n",
            "\u001b[0;31mTypeError\u001b[0m: ControlSystem.__init__() got an unexpected keyword argument 'aggregation_method'"
          ]
        }
      ]
    }
  ]
}