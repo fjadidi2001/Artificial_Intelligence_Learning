{
  "nbformat": 4,
  "nbformat_minor": 0,
  "metadata": {
    "colab": {
      "provenance": [],
      "authorship_tag": "ABX9TyP/t6a5cpPGF6tAjgtfgBrW",
      "include_colab_link": true
    },
    "kernelspec": {
      "name": "python3",
      "display_name": "Python 3"
    },
    "language_info": {
      "name": "python"
    }
  },
  "cells": [
    {
      "cell_type": "markdown",
      "metadata": {
        "id": "view-in-github",
        "colab_type": "text"
      },
      "source": [
        "<a href=\"https://colab.research.google.com/github/fjadidi2001/Artificial_Intelligence_Learning/blob/master/hWork1_soft_computing.ipynb\" target=\"_parent\"><img src=\"https://colab.research.google.com/assets/colab-badge.svg\" alt=\"Open In Colab\"/></a>"
      ]
    },
    {
      "cell_type": "code",
      "execution_count": 5,
      "metadata": {
        "colab": {
          "base_uri": "https://localhost:8080/"
        },
        "id": "G4Rox6oiycKu",
        "outputId": "0e2313b4-e000-488b-dc24-1b44bf193643"
      },
      "outputs": [
        {
          "output_type": "stream",
          "name": "stdout",
          "text": [
            "The valve position is 68.97% open.\n"
          ]
        }
      ],
      "source": [
        "\n",
        "import numpy as np\n",
        "import skfuzzy as fuzz\n",
        "from skfuzzy import control as ctrl\n",
        "\n",
        "# Define the fuzzy variables\n",
        "level = ctrl.Antecedent(np.arange(0, 101, 1), 'level')\n",
        "valve = ctrl.Consequent(np.arange(0, 101, 1), 'valve')\n",
        "\n",
        "# Define the membership functions\n",
        "level['low'] = fuzz.trimf(level.universe, [0, 25, 50])\n",
        "level['okay'] = fuzz.trimf(level.universe, [25, 50, 75])\n",
        "level['high'] = fuzz.trimf(level.universe, [50, 75, 100])\n",
        "\n",
        "valve['closefast'] = fuzz.trimf(valve.universe, [0, 25, 50])\n",
        "valve['nochange'] = fuzz.trimf(valve.universe, [25, 50, 75])\n",
        "valve['openfast'] = fuzz.trimf(valve.universe, [50, 75, 100])\n",
        "\n",
        "# Define the rules\n",
        "rule1 = ctrl.Rule(level['okay'], valve['nochange'])\n",
        "rule2 = ctrl.Rule(level['low'], valve['openfast'])\n",
        "rule3 = ctrl.Rule(level['high'], valve['closefast'])\n",
        "\n",
        "# Create the control system\n",
        "control_system = ctrl.ControlSystem(rules=[rule1, rule2, rule3])\n",
        "\n",
        "# Simulation\n",
        "simulation = ctrl.ControlSystemSimulation(control_system)\n",
        "\n",
        "# Set input level\n",
        "simulation.input['level'] = 30\n",
        "\n",
        "# Compute\n",
        "simulation.compute()\n",
        "\n",
        "# Print the output valve position\n",
        "print(f\"The valve position is {simulation.output['valve']:.2f}% open.\")\n"
      ]
    },
    {
      "cell_type": "code",
      "source": [
        "import numpy as np\n",
        "import skfuzzy as fuzz\n",
        "from skfuzzy import control as ctrl\n",
        "\n",
        "# Define the fuzzy variables\n",
        "level = ctrl.Antecedent(np.arange(0, 101, 1), 'level')\n",
        "valve = ctrl.Consequent(np.arange(0, 101, 1), 'valve')\n",
        "\n",
        "# Define the membership functions\n",
        "level['low'] = fuzz.trimf(level.universe, [0, 25, 50])\n",
        "level['okay'] = fuzz.trimf(level.universe, [25, 50, 75])\n",
        "level['high'] = fuzz.trimf(level.universe, [50, 75, 100])\n",
        "\n",
        "valve['closefast'] = fuzz.trimf(valve.universe, [0, 25, 50])\n",
        "valve['nochange'] = fuzz.trimf(valve.universe, [25, 50, 75])\n",
        "valve['openfast'] = fuzz.trimf(valve.universe, [50, 75, 100])\n",
        "\n",
        "# Define the rules using the Mamdani method\n",
        "rule1 = ctrl.Rule(level['okay'], valve['nochange'])\n",
        "rule2 = ctrl.Rule(level['low'], valve['openfast'])\n",
        "rule3 = ctrl.Rule(level['high'], valve['closefast'])\n",
        "\n",
        "# Create the control system using the specified method settings\n",
        "fis_ctrl = ctrl.ControlSystem(rules=[rule1, rule2, rule3],\n",
        "                              aggregation_method=np.fmax,\n",
        "                              aggregation_functions=np.fmax,\n",
        "                              activation_func=np.fmin,\n",
        "                              accumulation_func=np.fmax)\n",
        "\n",
        "# Simulation\n",
        "simulation = ctrl.ControlSystemSimulation(fis_ctrl)\n",
        "\n",
        "# Set input level\n",
        "simulation.input['level'] = 30\n",
        "\n",
        "# Compute\n",
        "simulation.compute()\n",
        "\n",
        "# Print the output valve position\n",
        "print(f\"The valve position is {simulation.output['valve']:.2f}% open.\")\n"
      ],
      "metadata": {
        "colab": {
          "base_uri": "https://localhost:8080/",
          "height": 245
        },
        "id": "JQFsQ40U3mwa",
        "outputId": "e1dbfed1-591d-4f51-f3e7-34e8462881b4"
      },
      "execution_count": 7,
      "outputs": [
        {
          "output_type": "error",
          "ename": "TypeError",
          "evalue": "ignored",
          "traceback": [
            "\u001b[0;31m---------------------------------------------------------------------------\u001b[0m",
            "\u001b[0;31mTypeError\u001b[0m                                 Traceback (most recent call last)",
            "\u001b[0;32m<ipython-input-7-bab7a42d7c16>\u001b[0m in \u001b[0;36m<cell line: 24>\u001b[0;34m()\u001b[0m\n\u001b[1;32m     22\u001b[0m \u001b[0;34m\u001b[0m\u001b[0m\n\u001b[1;32m     23\u001b[0m \u001b[0;31m# Create the control system using the specified method settings\u001b[0m\u001b[0;34m\u001b[0m\u001b[0;34m\u001b[0m\u001b[0m\n\u001b[0;32m---> 24\u001b[0;31m fis_ctrl = ctrl.ControlSystem(rules=[rule1, rule2, rule3],\n\u001b[0m\u001b[1;32m     25\u001b[0m                               \u001b[0maggregation_method\u001b[0m\u001b[0;34m=\u001b[0m\u001b[0mnp\u001b[0m\u001b[0;34m.\u001b[0m\u001b[0mfmax\u001b[0m\u001b[0;34m,\u001b[0m\u001b[0;34m\u001b[0m\u001b[0;34m\u001b[0m\u001b[0m\n\u001b[1;32m     26\u001b[0m                               \u001b[0maggregation_functions\u001b[0m\u001b[0;34m=\u001b[0m\u001b[0mnp\u001b[0m\u001b[0;34m.\u001b[0m\u001b[0mfmax\u001b[0m\u001b[0;34m,\u001b[0m\u001b[0;34m\u001b[0m\u001b[0;34m\u001b[0m\u001b[0m\n",
            "\u001b[0;31mTypeError\u001b[0m: ControlSystem.__init__() got an unexpected keyword argument 'aggregation_method'"
          ]
        }
      ]
    },
    {
      "cell_type": "code",
      "source": [
        "import numpy as np\n",
        "import skfuzzy as fuzz\n",
        "from skfuzzy import control as ctrl\n",
        "\n",
        "# Define the fuzzy variables\n",
        "level = ctrl.Antecedent(np.arange(0, 101, 1), 'level')\n",
        "valve = ctrl.Consequent(np.arange(0, 101, 1), 'valve')\n",
        "\n",
        "# Define the membership functions\n",
        "level['low'] = fuzz.trimf(level.universe, [0, 25, 50])\n",
        "level['okay'] = fuzz.trimf(level.universe, [25, 50, 75])\n",
        "level['high'] = fuzz.trimf(level.universe, [50, 75, 100])\n",
        "\n",
        "valve['closefast'] = fuzz.trimf(valve.universe, [0, 25, 50])\n",
        "valve['nochange'] = fuzz.trimf(valve.universe, [25, 50, 75])\n",
        "valve['openfast'] = fuzz.trimf(valve.universe, [50, 75, 100])\n",
        "\n",
        "# Define the rules using the Mamdani method\n",
        "rule1 = ctrl.Rule(level['okay'], valve['nochange'])\n",
        "rule2 = ctrl.Rule(level['low'], valve['openfast'])\n",
        "rule3 = ctrl.Rule(level['high'], valve['closefast'])\n",
        "\n",
        "# Create the control system using the Mamdani inference method\n",
        "fis_ctrl = ctrl.FuzzyControlSystem([rule1, rule2, rule3], aggregation=np.fmax, defuzzify_method='centroid')\n",
        "\n",
        "# Simulation\n",
        "simulation = ctrl.ControlSystemSimulation(fis_ctrl)\n",
        "\n",
        "# Set input level\n",
        "simulation.input['level'] = 30\n",
        "\n",
        "# Compute\n",
        "simulation.compute()\n",
        "\n",
        "# Print the output valve position\n",
        "print(f\"The valve position is {simulation.output['valve']:.2f}% open.\")\n"
      ],
      "metadata": {
        "colab": {
          "base_uri": "https://localhost:8080/",
          "height": 245
        },
        "id": "bmQYM_Lx33Q7",
        "outputId": "c1176ee6-d503-4978-bbe4-6b9ad1b5e3a4"
      },
      "execution_count": 8,
      "outputs": [
        {
          "output_type": "error",
          "ename": "AttributeError",
          "evalue": "ignored",
          "traceback": [
            "\u001b[0;31m---------------------------------------------------------------------------\u001b[0m",
            "\u001b[0;31mAttributeError\u001b[0m                            Traceback (most recent call last)",
            "\u001b[0;32m<ipython-input-8-2b7e8e6470ad>\u001b[0m in \u001b[0;36m<cell line: 24>\u001b[0;34m()\u001b[0m\n\u001b[1;32m     22\u001b[0m \u001b[0;34m\u001b[0m\u001b[0m\n\u001b[1;32m     23\u001b[0m \u001b[0;31m# Create the control system using the Mamdani inference method\u001b[0m\u001b[0;34m\u001b[0m\u001b[0;34m\u001b[0m\u001b[0m\n\u001b[0;32m---> 24\u001b[0;31m \u001b[0mfis_ctrl\u001b[0m \u001b[0;34m=\u001b[0m \u001b[0mctrl\u001b[0m\u001b[0;34m.\u001b[0m\u001b[0mFuzzyControlSystem\u001b[0m\u001b[0;34m(\u001b[0m\u001b[0;34m[\u001b[0m\u001b[0mrule1\u001b[0m\u001b[0;34m,\u001b[0m \u001b[0mrule2\u001b[0m\u001b[0;34m,\u001b[0m \u001b[0mrule3\u001b[0m\u001b[0;34m]\u001b[0m\u001b[0;34m,\u001b[0m \u001b[0maggregation\u001b[0m\u001b[0;34m=\u001b[0m\u001b[0mnp\u001b[0m\u001b[0;34m.\u001b[0m\u001b[0mfmax\u001b[0m\u001b[0;34m,\u001b[0m \u001b[0mdefuzzify_method\u001b[0m\u001b[0;34m=\u001b[0m\u001b[0;34m'centroid'\u001b[0m\u001b[0;34m)\u001b[0m\u001b[0;34m\u001b[0m\u001b[0;34m\u001b[0m\u001b[0m\n\u001b[0m\u001b[1;32m     25\u001b[0m \u001b[0;34m\u001b[0m\u001b[0m\n\u001b[1;32m     26\u001b[0m \u001b[0;31m# Simulation\u001b[0m\u001b[0;34m\u001b[0m\u001b[0;34m\u001b[0m\u001b[0m\n",
            "\u001b[0;31mAttributeError\u001b[0m: module 'skfuzzy.control' has no attribute 'FuzzyControlSystem'"
          ]
        }
      ]
    },
    {
      "cell_type": "code",
      "source": [
        "import numpy as np\n",
        "import skfuzzy as fuzz\n",
        "from skfuzzy import control as ctrl\n",
        "\n",
        "# New Antecedent/Consequent objects hold universe variables and membership functions\n",
        "level = ctrl.Antecedent(np.arange(0, 101, 1), 'level')\n",
        "valve = ctrl.Consequent(np.arange(0, 101, 1), 'valve')\n",
        "\n",
        "# Define the membership functions using the names provided\n",
        "level['low'] = fuzz.trimf(level.universe, [0, 25, 50])\n",
        "level['okay'] = fuzz.trimf(level.universe, [25, 50, 75])\n",
        "level['high'] = fuzz.trimf(level.universe, [50, 75, 100])\n",
        "\n",
        "valve['closefast'] = fuzz.trimf(valve.universe, [0, 25, 50])\n",
        "valve['nochange'] = fuzz.trimf(valve.universe, [25, 50, 75])\n",
        "valve['openfast'] = fuzz.trimf(valve.universe, [50, 75, 100])\n",
        "\n",
        "# Define the rules using the Mamdani implication method\n",
        "rule1 = ctrl.Rule(antecedent=level['okay'], consequent=valve['nochange'])\n",
        "rule2 = ctrl.Rule(antecedent=level['low'], consequent=valve['openfast'])\n",
        "rule3 = ctrl.Rule(antecedent=level['high'], consequent=valve['closefast'])\n",
        "\n",
        "# Create a ControlSystem using the specified properties\n",
        "fis_ctrl = ctrl.ControlSystem(rules=[rule1, rule2, rule3], aggregation_method=np.fmax, aggregation_functions=np.fmax, activation_func=np.fmin, accumulation_func=np.fmax)\n",
        "\n",
        "# Create a simulation\n",
        "fis_simulation = ctrl.ControlSystemSimulation(fis_ctrl)\n",
        "\n",
        "# Set the input level\n",
        "fis_simulation.input['level'] = 30\n",
        "\n",
        "# Compute\n",
        "fis_simulation.compute()\n",
        "\n",
        "# Print the output valve position\n",
        "print(f\"The valve position is {fis_simulation.output['valve']:.2f}% open.\")\n"
      ],
      "metadata": {
        "colab": {
          "base_uri": "https://localhost:8080/",
          "height": 263
        },
        "id": "N0i9x0gQ5wPa",
        "outputId": "ea6d7a1f-c59a-4079-ec1f-500447b79986"
      },
      "execution_count": 10,
      "outputs": [
        {
          "output_type": "error",
          "ename": "TypeError",
          "evalue": "ignored",
          "traceback": [
            "\u001b[0;31m---------------------------------------------------------------------------\u001b[0m",
            "\u001b[0;31mTypeError\u001b[0m                                 Traceback (most recent call last)",
            "\u001b[0;32m<ipython-input-10-95aa86e6c1eb>\u001b[0m in \u001b[0;36m<cell line: 24>\u001b[0;34m()\u001b[0m\n\u001b[1;32m     22\u001b[0m \u001b[0;34m\u001b[0m\u001b[0m\n\u001b[1;32m     23\u001b[0m \u001b[0;31m# Create a ControlSystem using the specified properties\u001b[0m\u001b[0;34m\u001b[0m\u001b[0;34m\u001b[0m\u001b[0m\n\u001b[0;32m---> 24\u001b[0;31m \u001b[0mfis_ctrl\u001b[0m \u001b[0;34m=\u001b[0m \u001b[0mctrl\u001b[0m\u001b[0;34m.\u001b[0m\u001b[0mControlSystem\u001b[0m\u001b[0;34m(\u001b[0m\u001b[0mrules\u001b[0m\u001b[0;34m=\u001b[0m\u001b[0;34m[\u001b[0m\u001b[0mrule1\u001b[0m\u001b[0;34m,\u001b[0m \u001b[0mrule2\u001b[0m\u001b[0;34m,\u001b[0m \u001b[0mrule3\u001b[0m\u001b[0;34m]\u001b[0m\u001b[0;34m,\u001b[0m \u001b[0maggregation_method\u001b[0m\u001b[0;34m=\u001b[0m\u001b[0mnp\u001b[0m\u001b[0;34m.\u001b[0m\u001b[0mfmax\u001b[0m\u001b[0;34m,\u001b[0m \u001b[0maggregation_functions\u001b[0m\u001b[0;34m=\u001b[0m\u001b[0mnp\u001b[0m\u001b[0;34m.\u001b[0m\u001b[0mfmax\u001b[0m\u001b[0;34m,\u001b[0m \u001b[0mactivation_func\u001b[0m\u001b[0;34m=\u001b[0m\u001b[0mnp\u001b[0m\u001b[0;34m.\u001b[0m\u001b[0mfmin\u001b[0m\u001b[0;34m,\u001b[0m \u001b[0maccumulation_func\u001b[0m\u001b[0;34m=\u001b[0m\u001b[0mnp\u001b[0m\u001b[0;34m.\u001b[0m\u001b[0mfmax\u001b[0m\u001b[0;34m)\u001b[0m\u001b[0;34m\u001b[0m\u001b[0;34m\u001b[0m\u001b[0m\n\u001b[0m\u001b[1;32m     25\u001b[0m \u001b[0;34m\u001b[0m\u001b[0m\n\u001b[1;32m     26\u001b[0m \u001b[0;31m# Create a simulation\u001b[0m\u001b[0;34m\u001b[0m\u001b[0;34m\u001b[0m\u001b[0m\n",
            "\u001b[0;31mTypeError\u001b[0m: ControlSystem.__init__() got an unexpected keyword argument 'aggregation_method'"
          ]
        }
      ]
    },
    {
      "cell_type": "code",
      "source": [
        "import numpy as np\n",
        "import skfuzzy as fuzz\n",
        "from skfuzzy import control as ctrl\n",
        "\n",
        "# Define universe variables\n",
        "level = np.arange(0, 101, 1)\n",
        "valve = np.arange(0, 101, 1)\n",
        "\n",
        "# Generate fuzzy membership functions\n",
        "level_low = fuzz.trimf(level, [0, 0, 50])\n",
        "level_okay = fuzz.trimf(level, [25, 50, 75])\n",
        "level_high = fuzz.trimf(level, [50, 100, 100])\n",
        "\n",
        "valve_closefast = fuzz.trimf(valve, [0, 0, 50])\n",
        "valve_nochange = fuzz.trimf(valve, [25, 50, 75])\n",
        "valve_openfast = fuzz.trimf(valve, [50, 100, 100])\n",
        "\n",
        "# Visualize these universes and membership functions\n",
        "# If you want to visualize, uncomment the following lines\n",
        "import matplotlib.pyplot as plt\n",
        "fig, (ax0, ax1) = plt.subplots(nrows=2, figsize=(8, 9))\n",
        "ax0.plot(level, level_low, 'b', linewidth=1.5, label='Low')\n",
        "ax0.plot(level, level_okay, 'g', linewidth=1.5, label='Okay')\n",
        "ax0.plot(level, level_high, 'r', linewidth=1.5, label='High')\n",
        "ax0.set_title('Water Tank Level')\n",
        "ax0.legend()\n",
        "ax1.plot(valve, valve_closefast, 'b', linewidth=1.5, label='Close Fast')\n",
        "ax1.plot(valve, valve_nochange, 'g', linewidth=1.5, label='No Change')\n",
        "ax1.plot(valve, valve_openfast, 'r', linewidth=1.5, label='Open Fast')\n",
        "ax1.set_title('Valve Opening')\n",
        "ax1.legend()\n",
        "plt.show()\n",
        "\n",
        "# Fuzzy rules\n",
        "rule1 = ctrl.Rule(level_okay, valve_nochange)\n",
        "rule2 = ctrl.Rule(level_low, valve_openfast)\n",
        "rule3 = ctrl.Rule(level_high, valve_closefast)\n",
        "\n",
        "# Control System Creation and Simulation\n",
        "valve_ctrl = ctrl.ControlSystem([rule1, rule2, rule3])\n",
        "valve_simulation = ctrl.ControlSystemSimulation(valve_ctrl)\n",
        "\n",
        "# Input\n",
        "valve_simulation.input['level'] = 30\n",
        "\n",
        "# Compute the simulation\n",
        "valve_simulation.compute()\n",
        "\n",
        "# Output\n",
        "output_valve = valve_simulation.output['valve']\n",
        "print(f\"The output valve value is {output_valve}\")\n",
        "\n",
        "# Defuzzification\n",
        "output_valve_defuzz = fuzz.defuzz(valve, valve_simulation.output['valve'], 'centroid')\n",
        "print(f\"The defuzzified output valve value is {output_valve_defuzz}\")\n"
      ],
      "metadata": {
        "colab": {
          "base_uri": "https://localhost:8080/",
          "height": 1000
        },
        "id": "syTvFxox-9s0",
        "outputId": "b5a45332-8380-4206-fe11-b2ef704e772b"
      },
      "execution_count": 16,
      "outputs": [
        {
          "output_type": "display_data",
          "data": {
            "text/plain": [
              "<Figure size 800x900 with 2 Axes>"
            ],
            "image/png": "[encoded data removed]"
          },
          "metadata": {}
        },
        {
          "output_type": "error",
          "ename": "ValueError",
          "evalue": "ignored",
          "traceback": [
            "\u001b[0;31m---------------------------------------------------------------------------\u001b[0m",
            "\u001b[0;31mValueError\u001b[0m                                Traceback (most recent call last)",
            "\u001b[0;32m<ipython-input-16-5cefd0fd0e4d>\u001b[0m in \u001b[0;36m<cell line: 35>\u001b[0;34m()\u001b[0m\n\u001b[1;32m     33\u001b[0m \u001b[0;34m\u001b[0m\u001b[0m\n\u001b[1;32m     34\u001b[0m \u001b[0;31m# Fuzzy rules\u001b[0m\u001b[0;34m\u001b[0m\u001b[0;34m\u001b[0m\u001b[0m\n\u001b[0;32m---> 35\u001b[0;31m \u001b[0mrule1\u001b[0m \u001b[0;34m=\u001b[0m \u001b[0mctrl\u001b[0m\u001b[0;34m.\u001b[0m\u001b[0mRule\u001b[0m\u001b[0;34m(\u001b[0m\u001b[0mlevel_okay\u001b[0m\u001b[0;34m,\u001b[0m \u001b[0mvalve_nochange\u001b[0m\u001b[0;34m)\u001b[0m\u001b[0;34m\u001b[0m\u001b[0;34m\u001b[0m\u001b[0m\n\u001b[0m\u001b[1;32m     36\u001b[0m \u001b[0mrule2\u001b[0m \u001b[0;34m=\u001b[0m \u001b[0mctrl\u001b[0m\u001b[0;34m.\u001b[0m\u001b[0mRule\u001b[0m\u001b[0;34m(\u001b[0m\u001b[0mlevel_low\u001b[0m\u001b[0;34m,\u001b[0m \u001b[0mvalve_openfast\u001b[0m\u001b[0;34m)\u001b[0m\u001b[0;34m\u001b[0m\u001b[0;34m\u001b[0m\u001b[0m\n\u001b[1;32m     37\u001b[0m \u001b[0mrule3\u001b[0m \u001b[0;34m=\u001b[0m \u001b[0mctrl\u001b[0m\u001b[0;34m.\u001b[0m\u001b[0mRule\u001b[0m\u001b[0;34m(\u001b[0m\u001b[0mlevel_high\u001b[0m\u001b[0;34m,\u001b[0m \u001b[0mvalve_closefast\u001b[0m\u001b[0;34m)\u001b[0m\u001b[0;34m\u001b[0m\u001b[0;34m\u001b[0m\u001b[0m\n",
            "\u001b[0;32m/usr/local/lib/python3.10/dist-packages/skfuzzy/control/rule.py\u001b[0m in \u001b[0;36m__init__\u001b[0;34m(self, antecedent, consequent, label, and_func, or_func)\u001b[0m\n\u001b[1;32m     87\u001b[0m         \u001b[0mself\u001b[0m\u001b[0;34m.\u001b[0m\u001b[0m_consequent\u001b[0m \u001b[0;34m=\u001b[0m \u001b[0;32mNone\u001b[0m\u001b[0;34m\u001b[0m\u001b[0;34m\u001b[0m\u001b[0m\n\u001b[1;32m     88\u001b[0m         \u001b[0;32mif\u001b[0m \u001b[0mantecedent\u001b[0m \u001b[0;32mis\u001b[0m \u001b[0;32mnot\u001b[0m \u001b[0;32mNone\u001b[0m\u001b[0;34m:\u001b[0m\u001b[0;34m\u001b[0m\u001b[0;34m\u001b[0m\u001b[0m\n\u001b[0;32m---> 89\u001b[0;31m             \u001b[0mself\u001b[0m\u001b[0;34m.\u001b[0m\u001b[0mantecedent\u001b[0m \u001b[0;34m=\u001b[0m \u001b[0mantecedent\u001b[0m\u001b[0;34m\u001b[0m\u001b[0;34m\u001b[0m\u001b[0m\n\u001b[0m\u001b[1;32m     90\u001b[0m         \u001b[0;32mif\u001b[0m \u001b[0mconsequent\u001b[0m \u001b[0;32mis\u001b[0m \u001b[0;32mnot\u001b[0m \u001b[0;32mNone\u001b[0m\u001b[0;34m:\u001b[0m\u001b[0;34m\u001b[0m\u001b[0;34m\u001b[0m\u001b[0m\n\u001b[1;32m     91\u001b[0m             \u001b[0mself\u001b[0m\u001b[0;34m.\u001b[0m\u001b[0mconsequent\u001b[0m \u001b[0;34m=\u001b[0m \u001b[0mconsequent\u001b[0m\u001b[0;34m\u001b[0m\u001b[0;34m\u001b[0m\u001b[0m\n",
            "\u001b[0;32m/usr/local/lib/python3.10/dist-packages/skfuzzy/control/rule.py\u001b[0m in \u001b[0;36mantecedent\u001b[0;34m(self, value)\u001b[0m\n\u001b[1;32m    165\u001b[0m         \"\"\"\n\u001b[1;32m    166\u001b[0m         \u001b[0;32mif\u001b[0m \u001b[0;32mnot\u001b[0m \u001b[0misinstance\u001b[0m\u001b[0;34m(\u001b[0m\u001b[0mvalue\u001b[0m\u001b[0;34m,\u001b[0m \u001b[0mTermPrimitive\u001b[0m\u001b[0;34m)\u001b[0m\u001b[0;34m:\u001b[0m\u001b[0;34m\u001b[0m\u001b[0;34m\u001b[0m\u001b[0m\n\u001b[0;32m--> 167\u001b[0;31m             \u001b[0;32mraise\u001b[0m \u001b[0mValueError\u001b[0m\u001b[0;34m(\u001b[0m\u001b[0;34m\"Unexpected antecedent type\"\u001b[0m\u001b[0;34m)\u001b[0m\u001b[0;34m\u001b[0m\u001b[0;34m\u001b[0m\u001b[0m\n\u001b[0m\u001b[1;32m    168\u001b[0m         \u001b[0;31m# Should be either Term or TermAggregate\u001b[0m\u001b[0;34m\u001b[0m\u001b[0;34m\u001b[0m\u001b[0m\n\u001b[1;32m    169\u001b[0m         \u001b[0mself\u001b[0m\u001b[0;34m.\u001b[0m\u001b[0m_antecedent\u001b[0m \u001b[0;34m=\u001b[0m \u001b[0mvalue\u001b[0m\u001b[0;34m\u001b[0m\u001b[0;34m\u001b[0m\u001b[0m\n",
            "\u001b[0;31mValueError\u001b[0m: Unexpected antecedent type"
          ]
        }
      ]
    },
    {
      "cell_type": "code",
      "source": [
        "import numpy as np\n",
        "import skfuzzy as fuzz\n",
        "from skfuzzy import control as ctrl\n",
        "\n",
        "# New Antecedent/Consequent objects\n",
        "level = ctrl.Antecedent(np.arange(0, 101, 1), 'level')\n",
        "valve = ctrl.Consequent(np.arange(0, 101, 1), 'valve')\n",
        "\n",
        "# Generate fuzzy membership functions\n",
        "level['low'] = fuzz.trimf(level.universe, [0, 0, 50])\n",
        "level['okay'] = fuzz.trimf(level.universe, [25, 50, 75])\n",
        "level['high'] = fuzz.trimf(level.universe, [50, 100, 100])\n",
        "\n",
        "valve['closefast'] = fuzz.trimf(valve.universe, [0, 0, 50])\n",
        "valve['nochange'] = fuzz.trimf(valve.universe, [25, 50, 75])\n",
        "valve['openfast'] = fuzz.trimf(valve.universe, [50, 100, 100])\n",
        "\n",
        "# Fuzzy rules\n",
        "rule1 = ctrl.Rule(level['okay'], valve['nochange'])\n",
        "rule2 = ctrl.Rule(level['low'], valve['openfast'])\n",
        "rule3 = ctrl.Rule(level['high'], valve['closefast'])\n",
        "\n",
        "# Control System Creation and Simulation\n",
        "valve_ctrl = ctrl.ControlSystem(rules=[rule1, rule2, rule3])\n",
        "valve_simulation = ctrl.ControlSystemSimulation(valve_ctrl)\n",
        "\n",
        "# Input\n",
        "valve_simulation.input['level'] = 30\n",
        "\n",
        "# Compute the simulation\n",
        "valve_simulation.compute()\n",
        "\n",
        "# Output\n",
        "output_valve = valve_simulation.output['valve']\n",
        "print(f\"The output valve value is {output_valve}\")\n",
        "\n",
        "# Defuzzification\n",
        "output_valve_defuzz = fuzz.defuzz(valve.universe, output_valve, 'centroid')\n",
        "print(f\"The defuzzified output valve value is {output_valve_defuzz}\")\n"
      ],
      "metadata": {
        "colab": {
          "base_uri": "https://localhost:8080/",
          "height": 367
        },
        "id": "9GYEAu-PAzEX",
        "outputId": "5eaadcb0-4eb1-4a05-add3-ab71ab3b7da5"
      },
      "execution_count": 18,
      "outputs": [
        {
          "output_type": "stream",
          "name": "stdout",
          "text": [
            "The output valve value is 69.80620155038763\n"
          ]
        },
        {
          "output_type": "error",
          "ename": "AssertionError",
          "evalue": "ignored",
          "traceback": [
            "\u001b[0;31m---------------------------------------------------------------------------\u001b[0m",
            "\u001b[0;31mAssertionError\u001b[0m                            Traceback (most recent call last)",
            "\u001b[0;32m<ipython-input-18-280fa049827b>\u001b[0m in \u001b[0;36m<cell line: 38>\u001b[0;34m()\u001b[0m\n\u001b[1;32m     36\u001b[0m \u001b[0;34m\u001b[0m\u001b[0m\n\u001b[1;32m     37\u001b[0m \u001b[0;31m# Defuzzification\u001b[0m\u001b[0;34m\u001b[0m\u001b[0;34m\u001b[0m\u001b[0m\n\u001b[0;32m---> 38\u001b[0;31m \u001b[0moutput_valve_defuzz\u001b[0m \u001b[0;34m=\u001b[0m \u001b[0mfuzz\u001b[0m\u001b[0;34m.\u001b[0m\u001b[0mdefuzz\u001b[0m\u001b[0;34m(\u001b[0m\u001b[0mvalve\u001b[0m\u001b[0;34m.\u001b[0m\u001b[0muniverse\u001b[0m\u001b[0;34m,\u001b[0m \u001b[0moutput_valve\u001b[0m\u001b[0;34m,\u001b[0m \u001b[0;34m'centroid'\u001b[0m\u001b[0;34m)\u001b[0m\u001b[0;34m\u001b[0m\u001b[0;34m\u001b[0m\u001b[0m\n\u001b[0m\u001b[1;32m     39\u001b[0m \u001b[0mprint\u001b[0m\u001b[0;34m(\u001b[0m\u001b[0;34mf\"The defuzzified output valve value is {output_valve_defuzz}\"\u001b[0m\u001b[0;34m)\u001b[0m\u001b[0;34m\u001b[0m\u001b[0;34m\u001b[0m\u001b[0m\n",
            "\u001b[0;32m/usr/local/lib/python3.10/dist-packages/skfuzzy/defuzzify/defuzz.py\u001b[0m in \u001b[0;36mdefuzz\u001b[0;34m(x, mfx, mode)\u001b[0m\n\u001b[1;32m    241\u001b[0m     \u001b[0mmfx\u001b[0m \u001b[0;34m=\u001b[0m \u001b[0mmfx\u001b[0m\u001b[0;34m.\u001b[0m\u001b[0mravel\u001b[0m\u001b[0;34m(\u001b[0m\u001b[0;34m)\u001b[0m\u001b[0;34m\u001b[0m\u001b[0;34m\u001b[0m\u001b[0m\n\u001b[1;32m    242\u001b[0m     \u001b[0mn\u001b[0m \u001b[0;34m=\u001b[0m \u001b[0mlen\u001b[0m\u001b[0;34m(\u001b[0m\u001b[0mx\u001b[0m\u001b[0;34m)\u001b[0m\u001b[0;34m\u001b[0m\u001b[0;34m\u001b[0m\u001b[0m\n\u001b[0;32m--> 243\u001b[0;31m     \u001b[0;32massert\u001b[0m \u001b[0mn\u001b[0m \u001b[0;34m==\u001b[0m \u001b[0mlen\u001b[0m\u001b[0;34m(\u001b[0m\u001b[0mmfx\u001b[0m\u001b[0;34m)\u001b[0m\u001b[0;34m,\u001b[0m\u001b[0;31m \u001b[0m\u001b[0;31m'\u001b[0m\u001b[0mLength\u001b[0m \u001b[0mof\u001b[0m \u001b[0mx\u001b[0m \u001b[0;32mand\u001b[0m \u001b[0mfuzzy\u001b[0m \u001b[0mmembership\u001b[0m \u001b[0mfunction\u001b[0m \u001b[0mmust\u001b[0m \u001b[0mbe\u001b[0m\u001b[0;31m \u001b[0m\u001b[0;31m\\\u001b[0m\u001b[0;34m\u001b[0m\u001b[0;34m\u001b[0m\u001b[0m\n\u001b[0m\u001b[1;32m    244\u001b[0m                           \u001b[0midentical\u001b[0m\u001b[0;34m.\u001b[0m\u001b[0;31m'\u001b[0m\u001b[0;34m\u001b[0m\u001b[0;34m\u001b[0m\u001b[0m\n\u001b[1;32m    245\u001b[0m \u001b[0;34m\u001b[0m\u001b[0m\n",
            "\u001b[0;31mAssertionError\u001b[0m: Length of x and fuzzy membership function must be                           identical."
          ]
        }
      ]
    },
    {
      "cell_type": "code",
      "source": [
        "!pip install scikit-fuzzy"
      ],
      "metadata": {
        "colab": {
          "base_uri": "https://localhost:8080/"
        },
        "id": "n_ripTnlH_Fa",
        "outputId": "ca26f993-f841-44bd-a49a-fe639f9e0ce4"
      },
      "execution_count": 23,
      "outputs": [
        {
          "output_type": "stream",
          "name": "stdout",
          "text": [
            "Requirement already satisfied: scikit-fuzzy in /usr/local/lib/python3.10/dist-packages (0.4.2)\n",
            "Requirement already satisfied: numpy>=1.6.0 in /usr/local/lib/python3.10/dist-packages (from scikit-fuzzy) (1.23.5)\n",
            "Requirement already satisfied: scipy>=0.9.0 in /usr/local/lib/python3.10/dist-packages (from scikit-fuzzy) (1.11.3)\n",
            "Requirement already satisfied: networkx>=1.9.0 in /usr/local/lib/python3.10/dist-packages (from scikit-fuzzy) (3.2)\n"
          ]
        }
      ]
    },
    {
      "cell_type": "code",
      "source": [
        "import numpy as np\n",
        "import skfuzzy as fuzz\n",
        "from skfuzzy import control as ctrl\n",
        "\n",
        "# New Antecedent/Consequent objects\n",
        "level = ctrl.Antecedent(np.arange(-1, 1.01, 0.01), 'level')\n",
        "valve = ctrl.Consequent(np.arange(0, 1.01, 0.01), 'valve')\n",
        "\n",
        "# Generate fuzzy membership functions\n",
        "level['low'] = fuzz.para membership function for levels is period of -1, -0.8, 0.6, 0.4, 0.2, 0, 0.2, 0.4, 0.6, 0.8bolic2mf(level.universe, -0.6, 0)\n",
        "level['okay'] = fuzz.trimf(level.universe, [-0.4, 0, 0.4])\n",
        "level['high'] = fuzz.parabolic2mf(level.universe, 0.6, 0)\n",
        "\n",
        "valve['closefast'] = fuzz.trimf(valve.universe, [0, 0, 0.5])\n",
        "valve['nochange'] = fuzz.trimf(valve.universe, [0, 0.5, 1])\n",
        "valve['openfast'] = fuzz.trimf(valve.universe, [0.5, 1, 1])\n",
        "\n",
        "# Fuzzy rules\n",
        "rule1 = ctrl.Rule(level['okay'], valve['nochange'])\n",
        "rule2 = ctrl.Rule(level['low'], valve['openfast'])\n",
        "rule3 = ctrl.Rule(level['high'], valve['closefast'])\n",
        "\n",
        "# Control System Creation and Simulation\n",
        "valve_ctrl = ctrl.ControlSystem(rules=[rule1, rule2, rule3])\n",
        "valve_simulation = ctrl.ControlSystemSimulation(valve_ctrl)\n",
        "\n",
        "# Input\n",
        "valve_simulation.input['level'] = 0.3\n",
        "\n",
        "# Compute the simulation\n",
        "valve_simulation.compute()\n",
        "\n",
        "# Output\n",
        "output_valve = valve_simulation.output['valve']\n",
        "print(f\"The output valve value is {output_valve}\")\n",
        "\n",
        "# Defuzzification\n",
        "output_valve_defuzz = fuzz.defuzz(valve.universe, output_valve, 'centroid')\n",
        "print(f\"The defuzzified output valve value is {output_valve_defuzz}\")\n"
      ],
      "metadata": {
        "colab": {
          "base_uri": "https://localhost:8080/",
          "height": 158
        },
        "id": "du0BYiydHy9U",
        "outputId": "3eaca675-0ed1-4d02-90c5-5fa834e03013"
      },
      "execution_count": 21,
      "outputs": [
        {
          "output_type": "error",
          "ename": "SyntaxError",
          "evalue": "ignored",
          "traceback": [
            "\u001b[0;36m  File \u001b[0;32m\"<ipython-input-21-ad1d96c70711>\"\u001b[0;36m, line \u001b[0;32m10\u001b[0m\n\u001b[0;31m    level['low'] = fuzz.para membership function for levels is period of -1, -0.8, 0.6, 0.4, 0.2, 0, 0.2, 0.4, 0.6, 0.8bolic2mf(level.universe, -0.6, 0)\u001b[0m\n\u001b[0m                                                                                                                      ^\u001b[0m\n\u001b[0;31mSyntaxError\u001b[0m\u001b[0;31m:\u001b[0m invalid decimal literal\n"
          ]
        }
      ]
    },
    {
      "cell_type": "code",
      "source": [
        "import numpy as np\n",
        "import skfuzzy as fuzz\n",
        "from skfuzzy import control as ctrl\n",
        "\n",
        "# New Antecedent/Consequent objects\n",
        "level = ctrl.Antecedent(np.arange(-1, 1.01, 0.01), 'level')\n",
        "valve = ctrl.Consequent(np.arange(0, 1.01, 0.01), 'valve')\n",
        "\n",
        "# Generate fuzzy membership functions\n",
        "level['low'] = fuzz.trimf(level.universe, [-1, -0.8, -0.6])\n",
        "level['okay'] = fuzz.trimf(level.universe, [-0.4, 0, 0.4])\n",
        "level['high'] = fuzz.trimf(level.universe, [0.6, 0.8, 1])\n",
        "\n",
        "valve['closefast'] = fuzz.trimf(valve.universe, [0, 0, 0.5])\n",
        "valve['nochange'] = fuzz.trimf(valve.universe, [0, 0.5, 1])\n",
        "valve['openfast'] = fuzz.trimf(valve.universe, [0.5, 1, 1])\n",
        "\n",
        "# Fuzzy rules\n",
        "rule1 = ctrl.Rule(level['okay'], valve['nochange'])\n",
        "rule2 = ctrl.Rule(level['low'], valve['openfast'])\n",
        "rule3 = ctrl.Rule(level['high'], valve['closefast'])\n",
        "\n",
        "# Control System Creation and Simulation\n",
        "valve_ctrl = ctrl.ControlSystem([rule1, rule2, rule3])\n",
        "valve_simulation = ctrl.ControlSystemSimulation(valve_ctrl)\n",
        "\n",
        "# Input\n",
        "valve_simulation.input['level'] = 0.3\n",
        "\n",
        "# Compute the simulation\n",
        "valve_simulation.compute()\n",
        "\n",
        "# Output\n",
        "output_valve = valve_simulation.output['valve']\n",
        "print(f\"The output valve value is {output_valve}\")\n",
        "\n",
        "# Defuzzification\n",
        "output_valve_defuzz = fuzz.defuzz(valve.universe, output_valve, 'centroid')\n",
        "print(f\"The defuzzified output valve value is {output_valve_defuzz}\")\n"
      ],
      "metadata": {
        "colab": {
          "base_uri": "https://localhost:8080/",
          "height": 367
        },
        "id": "gtd8gNJAIPvK",
        "outputId": "0ebccda2-a728-448d-914e-d32c46b1607f"
      },
      "execution_count": 24,
      "outputs": [
        {
          "output_type": "stream",
          "name": "stdout",
          "text": [
            "The output valve value is 0.5000000000000003\n"
          ]
        },
        {
          "output_type": "error",
          "ename": "AssertionError",
          "evalue": "ignored",
          "traceback": [
            "\u001b[0;31m---------------------------------------------------------------------------\u001b[0m",
            "\u001b[0;31mAssertionError\u001b[0m                            Traceback (most recent call last)",
            "\u001b[0;32m<ipython-input-24-a18145930f49>\u001b[0m in \u001b[0;36m<cell line: 38>\u001b[0;34m()\u001b[0m\n\u001b[1;32m     36\u001b[0m \u001b[0;34m\u001b[0m\u001b[0m\n\u001b[1;32m     37\u001b[0m \u001b[0;31m# Defuzzification\u001b[0m\u001b[0;34m\u001b[0m\u001b[0;34m\u001b[0m\u001b[0m\n\u001b[0;32m---> 38\u001b[0;31m \u001b[0moutput_valve_defuzz\u001b[0m \u001b[0;34m=\u001b[0m \u001b[0mfuzz\u001b[0m\u001b[0;34m.\u001b[0m\u001b[0mdefuzz\u001b[0m\u001b[0;34m(\u001b[0m\u001b[0mvalve\u001b[0m\u001b[0;34m.\u001b[0m\u001b[0muniverse\u001b[0m\u001b[0;34m,\u001b[0m \u001b[0moutput_valve\u001b[0m\u001b[0;34m,\u001b[0m \u001b[0;34m'centroid'\u001b[0m\u001b[0;34m)\u001b[0m\u001b[0;34m\u001b[0m\u001b[0;34m\u001b[0m\u001b[0m\n\u001b[0m\u001b[1;32m     39\u001b[0m \u001b[0mprint\u001b[0m\u001b[0;34m(\u001b[0m\u001b[0;34mf\"The defuzzified output valve value is {output_valve_defuzz}\"\u001b[0m\u001b[0;34m)\u001b[0m\u001b[0;34m\u001b[0m\u001b[0;34m\u001b[0m\u001b[0m\n",
            "\u001b[0;32m/usr/local/lib/python3.10/dist-packages/skfuzzy/defuzzify/defuzz.py\u001b[0m in \u001b[0;36mdefuzz\u001b[0;34m(x, mfx, mode)\u001b[0m\n\u001b[1;32m    241\u001b[0m     \u001b[0mmfx\u001b[0m \u001b[0;34m=\u001b[0m \u001b[0mmfx\u001b[0m\u001b[0;34m.\u001b[0m\u001b[0mravel\u001b[0m\u001b[0;34m(\u001b[0m\u001b[0;34m)\u001b[0m\u001b[0;34m\u001b[0m\u001b[0;34m\u001b[0m\u001b[0m\n\u001b[1;32m    242\u001b[0m     \u001b[0mn\u001b[0m \u001b[0;34m=\u001b[0m \u001b[0mlen\u001b[0m\u001b[0;34m(\u001b[0m\u001b[0mx\u001b[0m\u001b[0;34m)\u001b[0m\u001b[0;34m\u001b[0m\u001b[0;34m\u001b[0m\u001b[0m\n\u001b[0;32m--> 243\u001b[0;31m     \u001b[0;32massert\u001b[0m \u001b[0mn\u001b[0m \u001b[0;34m==\u001b[0m \u001b[0mlen\u001b[0m\u001b[0;34m(\u001b[0m\u001b[0mmfx\u001b[0m\u001b[0;34m)\u001b[0m\u001b[0;34m,\u001b[0m\u001b[0;31m \u001b[0m\u001b[0;31m'\u001b[0m\u001b[0mLength\u001b[0m \u001b[0mof\u001b[0m \u001b[0mx\u001b[0m \u001b[0;32mand\u001b[0m \u001b[0mfuzzy\u001b[0m \u001b[0mmembership\u001b[0m \u001b[0mfunction\u001b[0m \u001b[0mmust\u001b[0m \u001b[0mbe\u001b[0m\u001b[0;31m \u001b[0m\u001b[0;31m\\\u001b[0m\u001b[0;34m\u001b[0m\u001b[0;34m\u001b[0m\u001b[0m\n\u001b[0m\u001b[1;32m    244\u001b[0m                           \u001b[0midentical\u001b[0m\u001b[0;34m.\u001b[0m\u001b[0;31m'\u001b[0m\u001b[0;34m\u001b[0m\u001b[0;34m\u001b[0m\u001b[0m\n\u001b[1;32m    245\u001b[0m \u001b[0;34m\u001b[0m\u001b[0m\n",
            "\u001b[0;31mAssertionError\u001b[0m: Length of x and fuzzy membership function must be                           identical."
          ]
        }
      ]
    },
    {
      "cell_type": "code",
      "source": [
        "\n",
        "\n",
        "import numpy as np\n",
        "import skfuzzy as fuzz\n",
        "from skfuzzy import control as ctrl\n",
        "\n",
        "# New Antecedent/Consequent objects\n",
        "level = ctrl.Antecedent(np.arange(-1, 1.01, 0.01), 'level')\n",
        "valve = ctrl.Consequent(np.arange(0, 1.01, 0.01), 'valve')\n",
        "\n",
        "# Generate fuzzy membership functions\n",
        "level['low'] = fuzz.trimf(level.universe, [-1, -0.8, 0.6])\n",
        "level['okay'] = fuzz.trimf(level.universe, [-0.4, 0, 0.4])\n",
        "level['high'] = fuzz.trimf(level.universe, [0.6, 0.8, 1])\n",
        "\n",
        "valve['closefast'] = fuzz.trimf(valve.universe, [0, 0, 0.5])\n",
        "valve['nochange'] = fuzz.trimf(valve.universe, [0, 0.5, 1])\n",
        "valve['openfast'] = fuzz.trimf(valve.universe, [0.5, 1, 1])\n",
        "\n",
        "# Fuzzy rules\n",
        "rule1 = ctrl.Rule(level['okay'], valve['nochange'])\n",
        "rule2 = ctrl.Rule(level['low'], valve['openfast'])\n",
        "rule3 = ctrl.Rule(level['high'], valve['closefast'])\n",
        "\n",
        "# Control System Creation and Simulation\n",
        "valve_ctrl = ctrl.ControlSystem([rule1, rule2, rule3])\n",
        "valve_simulation = ctrl.ControlSystemSimulation(valve_ctrl)\n",
        "\n",
        "# Input\n",
        "valve_simulation.input['level'] = 0.3\n",
        "\n",
        "# Compute the simulation\n",
        "valve_simulation.compute()\n",
        "\n",
        "# Output\n",
        "output_valve = valve_simulation.output['valve']\n",
        "print(f\"The output valve value is {output_valve}\")\n",
        "\n",
        "# Defuzzification\n",
        "output_valve_defuzz = fuzz.defuzz(valve.universe, output_valve, 'centroid')\n",
        "print(f\"The defuzzified output valve value is {output_valve_defuzz}\")\n"
      ],
      "metadata": {
        "id": "t33VNZXdIlvD",
        "outputId": "827d2d23-fa8b-4374-eb33-92dc63b06651",
        "colab": {
          "base_uri": "https://localhost:8080/",
          "height": 367
        }
      },
      "execution_count": 25,
      "outputs": [
        {
          "output_type": "stream",
          "name": "stdout",
          "text": [
            "The output valve value is 0.5231828757561661\n"
          ]
        },
        {
          "output_type": "error",
          "ename": "AssertionError",
          "evalue": "ignored",
          "traceback": [
            "\u001b[0;31m---------------------------------------------------------------------------\u001b[0m",
            "\u001b[0;31mAssertionError\u001b[0m                            Traceback (most recent call last)",
            "\u001b[0;32m<ipython-input-25-ffec742506e3>\u001b[0m in \u001b[0;36m<cell line: 38>\u001b[0;34m()\u001b[0m\n\u001b[1;32m     36\u001b[0m \u001b[0;34m\u001b[0m\u001b[0m\n\u001b[1;32m     37\u001b[0m \u001b[0;31m# Defuzzification\u001b[0m\u001b[0;34m\u001b[0m\u001b[0;34m\u001b[0m\u001b[0m\n\u001b[0;32m---> 38\u001b[0;31m \u001b[0moutput_valve_defuzz\u001b[0m \u001b[0;34m=\u001b[0m \u001b[0mfuzz\u001b[0m\u001b[0;34m.\u001b[0m\u001b[0mdefuzz\u001b[0m\u001b[0;34m(\u001b[0m\u001b[0mvalve\u001b[0m\u001b[0;34m.\u001b[0m\u001b[0muniverse\u001b[0m\u001b[0;34m,\u001b[0m \u001b[0moutput_valve\u001b[0m\u001b[0;34m,\u001b[0m \u001b[0;34m'centroid'\u001b[0m\u001b[0;34m)\u001b[0m\u001b[0;34m\u001b[0m\u001b[0;34m\u001b[0m\u001b[0m\n\u001b[0m\u001b[1;32m     39\u001b[0m \u001b[0mprint\u001b[0m\u001b[0;34m(\u001b[0m\u001b[0;34mf\"The defuzzified output valve value is {output_valve_defuzz}\"\u001b[0m\u001b[0;34m)\u001b[0m\u001b[0;34m\u001b[0m\u001b[0;34m\u001b[0m\u001b[0m\n",
            "\u001b[0;32m/usr/local/lib/python3.10/dist-packages/skfuzzy/defuzzify/defuzz.py\u001b[0m in \u001b[0;36mdefuzz\u001b[0;34m(x, mfx, mode)\u001b[0m\n\u001b[1;32m    241\u001b[0m     \u001b[0mmfx\u001b[0m \u001b[0;34m=\u001b[0m \u001b[0mmfx\u001b[0m\u001b[0;34m.\u001b[0m\u001b[0mravel\u001b[0m\u001b[0;34m(\u001b[0m\u001b[0;34m)\u001b[0m\u001b[0;34m\u001b[0m\u001b[0;34m\u001b[0m\u001b[0m\n\u001b[1;32m    242\u001b[0m     \u001b[0mn\u001b[0m \u001b[0;34m=\u001b[0m \u001b[0mlen\u001b[0m\u001b[0;34m(\u001b[0m\u001b[0mx\u001b[0m\u001b[0;34m)\u001b[0m\u001b[0;34m\u001b[0m\u001b[0;34m\u001b[0m\u001b[0m\n\u001b[0;32m--> 243\u001b[0;31m     \u001b[0;32massert\u001b[0m \u001b[0mn\u001b[0m \u001b[0;34m==\u001b[0m \u001b[0mlen\u001b[0m\u001b[0;34m(\u001b[0m\u001b[0mmfx\u001b[0m\u001b[0;34m)\u001b[0m\u001b[0;34m,\u001b[0m\u001b[0;31m \u001b[0m\u001b[0;31m'\u001b[0m\u001b[0mLength\u001b[0m \u001b[0mof\u001b[0m \u001b[0mx\u001b[0m \u001b[0;32mand\u001b[0m \u001b[0mfuzzy\u001b[0m \u001b[0mmembership\u001b[0m \u001b[0mfunction\u001b[0m \u001b[0mmust\u001b[0m \u001b[0mbe\u001b[0m\u001b[0;31m \u001b[0m\u001b[0;31m\\\u001b[0m\u001b[0;34m\u001b[0m\u001b[0;34m\u001b[0m\u001b[0m\n\u001b[0m\u001b[1;32m    244\u001b[0m                           \u001b[0midentical\u001b[0m\u001b[0;34m.\u001b[0m\u001b[0;31m'\u001b[0m\u001b[0;34m\u001b[0m\u001b[0;34m\u001b[0m\u001b[0m\n\u001b[1;32m    245\u001b[0m \u001b[0;34m\u001b[0m\u001b[0m\n",
            "\u001b[0;31mAssertionError\u001b[0m: Length of x and fuzzy membership function must be                           identical."
          ]
        }
      ]
    }
  ]
}