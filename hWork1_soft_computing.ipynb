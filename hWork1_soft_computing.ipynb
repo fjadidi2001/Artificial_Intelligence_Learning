{
  "nbformat": 4,
  "nbformat_minor": 0,
  "metadata": {
    "colab": {
      "provenance": [],
      "authorship_tag": "ABX9TyNLi2iSt994b6umQQoqhDto",
      "include_colab_link": true
    },
    "kernelspec": {
      "name": "python3",
      "display_name": "Python 3"
    },
    "language_info": {
      "name": "python"
    }
  },
  "cells": [
    {
      "cell_type": "markdown",
      "metadata": {
        "id": "view-in-github",
        "colab_type": "text"
      },
      "source": [
        "<a href=\"https://colab.research.google.com/github/fjadidi2001/Artificial_Intelligence_Learning/blob/master/hWork1_soft_computing.ipynb\" target=\"_parent\"><img src=\"https://colab.research.google.com/assets/colab-badge.svg\" alt=\"Open In Colab\"/></a>"
      ]
    },
    {
      "cell_type": "code",
      "execution_count": 5,
      "metadata": {
        "colab": {
          "base_uri": "https://localhost:8080/"
        },
        "id": "G4Rox6oiycKu",
        "outputId": "0e2313b4-e000-488b-dc24-1b44bf193643"
      },
      "outputs": [
        {
          "output_type": "stream",
          "name": "stdout",
          "text": [
            "The valve position is 68.97% open.\n"
          ]
        }
      ],
      "source": [
        "\n",
        "import numpy as np\n",
        "import skfuzzy as fuzz\n",
        "from skfuzzy import control as ctrl\n",
        "\n",
        "# Define the fuzzy variables\n",
        "level = ctrl.Antecedent(np.arange(0, 101, 1), 'level')\n",
        "valve = ctrl.Consequent(np.arange(0, 101, 1), 'valve')\n",
        "\n",
        "# Define the membership functions\n",
        "level['low'] = fuzz.trimf(level.universe, [0, 25, 50])\n",
        "level['okay'] = fuzz.trimf(level.universe, [25, 50, 75])\n",
        "level['high'] = fuzz.trimf(level.universe, [50, 75, 100])\n",
        "\n",
        "valve['closefast'] = fuzz.trimf(valve.universe, [0, 25, 50])\n",
        "valve['nochange'] = fuzz.trimf(valve.universe, [25, 50, 75])\n",
        "valve['openfast'] = fuzz.trimf(valve.universe, [50, 75, 100])\n",
        "\n",
        "# Define the rules\n",
        "rule1 = ctrl.Rule(level['okay'], valve['nochange'])\n",
        "rule2 = ctrl.Rule(level['low'], valve['openfast'])\n",
        "rule3 = ctrl.Rule(level['high'], valve['closefast'])\n",
        "\n",
        "# Create the control system\n",
        "control_system = ctrl.ControlSystem(rules=[rule1, rule2, rule3])\n",
        "\n",
        "# Simulation\n",
        "simulation = ctrl.ControlSystemSimulation(control_system)\n",
        "\n",
        "# Set input level\n",
        "simulation.input['level'] = 30\n",
        "\n",
        "# Compute\n",
        "simulation.compute()\n",
        "\n",
        "# Print the output valve position\n",
        "print(f\"The valve position is {simulation.output['valve']:.2f}% open.\")\n"
      ]
    }
  ]
}