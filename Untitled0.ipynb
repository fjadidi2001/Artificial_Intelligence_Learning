{
  "nbformat": 4,
  "nbformat_minor": 0,
  "metadata": {
    "colab": {
      "provenance": [],
      "authorship_tag": "ABX9TyOcVzagOwUc0drfRNIBdCnA",
      "include_colab_link": true
    },
    "kernelspec": {
      "name": "python3",
      "display_name": "Python 3"
    },
    "language_info": {
      "name": "python"
    }
  },
  "cells": [
    {
      "cell_type": "markdown",
      "metadata": {
        "id": "view-in-github",
        "colab_type": "text"
      },
      "source": [
        "<a href=\"https://colab.research.google.com/github/fjadidi2001/Artificial_Intelligence_Learning/blob/master/Untitled0.ipynb\" target=\"_parent\"><img src=\"https://colab.research.google.com/assets/colab-badge.svg\" alt=\"Open In Colab\"/></a>"
      ]
    },
    {
      "cell_type": "code",
      "execution_count": null,
      "metadata": {
        "colab": {
          "base_uri": "https://localhost:8080/",
          "height": 472
        },
        "id": "tAwqrcSQuKt3",
        "outputId": "66dfdff4-db42-4329-e575-c3f492c56c0b"
      },
      "outputs": [
        {
          "output_type": "display_data",
          "data": {
            "text/plain": [
              "<Figure size 640x480 with 1 Axes>"
            ],
            "image/png": "[encoded data removed]"
          },
          "metadata": {}
        }
      ],
      "source": [
        "import numpy as np\n",
        "import matplotlib.pyplot as plt\n",
        "from sklearn.svm import SVC\n",
        "from sklearn.metrics import accuracy_score\n",
        "import pandas as pd\n",
        "\n",
        "# Load the data from three different .dat files\n",
        "data1 = pd.read_csv('spiral_100.csv')\n",
        "data2 = pd.read_csv('spiral_150.csv')\n",
        "data3 = pd.read_csv('spiral_200.csv')\n",
        "test_data =pd.read_csv('spiral_g.csv')\n",
        "\n",
        "# Split the data into features and labels for each dataset\n",
        "X_train1 = data1.drop('output',axis=1)\n",
        "y_train1 = data1['output']\n",
        "X_train2 = data2.drop('output ',axis=1)\n",
        "y_train2 = data2['output ']\n",
        "X_train3 = data3.drop('output',axis=1)\n",
        "y_train3 = data3['output']\n",
        "X_test  = test_data.drop('output',axis=1)\n",
        "y_test  = test_data['output']\n",
        "\n",
        "# Train SVM with RBF kernel for each dataset and calculate accuracy\n",
        "svm1 = SVC(kernel='rbf')\n",
        "svm1.fit(X_train1, y_train1)\n",
        "y_pred1 = svm1.predict(X_test)\n",
        "acc1 = accuracy_score(y_test, y_pred1)\n",
        "\n",
        "svm2 = SVC(kernel='rbf')\n",
        "svm2.fit(X_train2, y_train2)\n",
        "y_pred2 = svm2.predict(X_test)\n",
        "acc2 = accuracy_score(y_test, y_pred2)\n",
        "\n",
        "svm3 = SVC(kernel='rbf')\n",
        "svm3.fit(X_train3, y_train3)\n",
        "y_pred3 = svm3.predict(X_test)\n",
        "acc3 = accuracy_score(y_test, y_pred3)\n",
        "\n",
        "# Draw accuracy plot for each training dataset\n",
        "accuracies = [acc1, acc2, acc3]\n",
        "plt.bar(range(3), accuracies)\n",
        "plt.xticks(range(3), ['100', '150', '200'])\n",
        "plt.xlabel('Training Dataset')\n",
        "plt.ylabel('Accuracy')\n",
        "plt.title('Accuracy for each training dataset')\n",
        "plt.show()"
      ]
    },
    {
      "cell_type": "markdown",
      "source": [
        "To train a Radial Basis Function (RBF) network for your supervised learning task, you can follow these general steps:\n",
        "\n",
        "1. Preprocess the Data:\n",
        "   - Split each dataset into inputs and labels.\n",
        "   - Normalize or standardize the input data if necessary.\n",
        "\n",
        "2. Design the RBF Network:\n",
        "   - Determine the number of RBF neurons in the hidden layer.\n",
        "   - Initialize the RBF centers and widths.\n",
        "   - Choose an output layer (e.g., linear layer for regression or softmax layer for classification).\n",
        "\n",
        "3. Train the RBF Network:\n",
        "   - Use a training algorithm such as gradient descent or its variants.\n",
        "   - Update the RBF centers, widths, and output layer weights through the training process.\n",
        "\n",
        "4. Evaluate the Model:\n",
        "   - Use the trained RBF network to make predictions on a separate validation or test set.\n",
        "   - Calculate the accuracy or other relevant metrics based on the predictions and true labels.\n",
        "\n",
        "To train a Radial Basis Function (RBF) network in Python without using a specific module, you can implement the RBF network from scratch. Here's a high-level overview of the steps you can take to achieve this:\n",
        "\n",
        "1. Load the Data:\n",
        "   - Read the datasets (spiral_100.csv, spiral_150.csv, spiral_200.csv, and spiral_g.csv) using Python's built-in CSV module or other file reading methods.\n",
        "\n",
        "2. Preprocess the Data:\n",
        "   - Separate the input features and output labels for each dataset.\n",
        "   - Normalize or standardize the input data if necessary.\n",
        "\n",
        "3. Design the RBF Network:\n",
        "   - Determine the number of RBF neurons in the hidden layer.\n",
        "   - Initialize the RBF centers and widths.\n",
        "   - Choose an output layer (e.g., linear layer for regression or softmax layer for classification).\n",
        "\n",
        "4. Train the RBF Network:\n",
        "   - Implement a training algorithm such as gradient descent or its variants.\n",
        "   - Update the RBF centers, widths, and output layer weights through the training process using the training datasets (spiral_100.csv, spiral_150.csv, and spiral_200.csv).\n",
        "\n",
        "5. Test the RBF Network:\n",
        "   - Use the trained RBF network to make predictions on the test dataset (spiral_g.csv).\n",
        "   - Calculate the accuracy or other relevant metrics based on the predictions and true labels.\n",
        "\n",
        "Implementing an RBF network from scratch in Python without using specific modules can be complex and requires a good understanding of neural network concepts and mathematical operations. It involves tasks such as calculating the RBF activation, updating weights, and handling the training process.\n",
        "\n",
        "\n"
      ],
      "metadata": {
        "id": "PSdD_JtOwG8j"
      }
    },
    {
      "cell_type": "code",
      "source": [
        "import numpy as np\n",
        "import csv\n",
        "\n",
        "# Load the data from CSV files\n",
        "def load_data(filename):\n",
        "    with open(filename, 'r') as file:\n",
        "        data = list(csv.reader(file, delimiter=','))\n",
        "    data = np.array(data, dtype='float')\n",
        "    X = data[:, :-1]  # Input features\n",
        "    y = data[:, -1]   # Output labels\n",
        "    return X, y\n",
        "\n",
        "# Define the RBF function\n",
        "def rbf(X, centers, width):\n",
        "    return np.exp(-0.5 * ((X - centers) / width)**2)\n",
        "\n",
        "# Train the RBF network\n",
        "def train_rbf(X, y, num_rbf_neurons):\n",
        "    # Randomly initialize RBF centers and widths\n",
        "    centers = X[np.random.choice(X.shape[0], num_rbf_neurons, replace=False)]\n",
        "    width = np.std(X) / np.sqrt(2 * num_rbf_neurons)\n",
        "\n",
        "    # Calculate RBF activations\n",
        "    rbf_activations = rbf(X, centers, width)\n",
        "\n",
        "    # Solve for the output weights using pseudo-inverse\n",
        "    output_weights = np.linalg.pinv(rbf_activations) @ y\n",
        "\n",
        "    return centers, width, output_weights\n",
        "\n",
        "# Test the RBF network\n",
        "def test_rbf(X_test, centers, width, output_weights):\n",
        "    rbf_activations_test = rbf(X_test, centers, width)\n",
        "    predictions = rbf_activations_test @ output_weights\n",
        "    return predictions\n",
        "\n",
        "# Load the datasets\n",
        "X_train_100, y_train_100 = load_data('spiral_100.csv')\n",
        "X_train_150, y_train_150 = load_data('spiral_150.csv')\n",
        "X_train_200, y_train_200 = load_data('spiral_200.csv')\n",
        "X_test, _ = load_data('spiral_g.csv')\n",
        "\n",
        "# Train the RBF network with the combined datasets\n",
        "X_train_combined = np.vstack((X_train_100, X_train_150, X_train_200))\n",
        "y_train_combined = np.hstack((y_train_100, y_train_150, y_train_200))\n",
        "centers, width, output_weights = train_rbf(X_train_combined, y_train_combined, num_rbf_neurons=10)\n",
        "\n",
        "# Test the RBF network\n",
        "predictions = test_rbf(X_test, centers, width, output_weights)\n",
        "print(predictions)\n"
      ],
      "metadata": {
        "colab": {
          "base_uri": "https://localhost:8080/",
          "height": 366
        },
        "id": "t5tNJOTRxdgt",
        "outputId": "c2627aca-29fc-4bf7-e91d-b6900bc4636b"
      },
      "execution_count": 2,
      "outputs": [
        {
          "output_type": "error",
          "ename": "ValueError",
          "evalue": "could not convert string to float: 'input 1'",
          "traceback": [
            "\u001b[0;31m---------------------------------------------------------------------------\u001b[0m",
            "\u001b[0;31mValueError\u001b[0m                                Traceback (most recent call last)",
            "\u001b[0;32m<ipython-input-2-214aa0955e88>\u001b[0m in \u001b[0;36m<cell line: 38>\u001b[0;34m()\u001b[0m\n\u001b[1;32m     36\u001b[0m \u001b[0;34m\u001b[0m\u001b[0m\n\u001b[1;32m     37\u001b[0m \u001b[0;31m# Load the datasets\u001b[0m\u001b[0;34m\u001b[0m\u001b[0;34m\u001b[0m\u001b[0m\n\u001b[0;32m---> 38\u001b[0;31m \u001b[0mX_train_100\u001b[0m\u001b[0;34m,\u001b[0m \u001b[0my_train_100\u001b[0m \u001b[0;34m=\u001b[0m \u001b[0mload_data\u001b[0m\u001b[0;34m(\u001b[0m\u001b[0;34m'spiral_100.csv'\u001b[0m\u001b[0;34m)\u001b[0m\u001b[0;34m\u001b[0m\u001b[0;34m\u001b[0m\u001b[0m\n\u001b[0m\u001b[1;32m     39\u001b[0m \u001b[0mX_train_150\u001b[0m\u001b[0;34m,\u001b[0m \u001b[0my_train_150\u001b[0m \u001b[0;34m=\u001b[0m \u001b[0mload_data\u001b[0m\u001b[0;34m(\u001b[0m\u001b[0;34m'spiral_150.csv'\u001b[0m\u001b[0;34m)\u001b[0m\u001b[0;34m\u001b[0m\u001b[0;34m\u001b[0m\u001b[0m\n\u001b[1;32m     40\u001b[0m \u001b[0mX_train_200\u001b[0m\u001b[0;34m,\u001b[0m \u001b[0my_train_200\u001b[0m \u001b[0;34m=\u001b[0m \u001b[0mload_data\u001b[0m\u001b[0;34m(\u001b[0m\u001b[0;34m'spiral_200.csv'\u001b[0m\u001b[0;34m)\u001b[0m\u001b[0;34m\u001b[0m\u001b[0;34m\u001b[0m\u001b[0m\n",
            "\u001b[0;32m<ipython-input-2-214aa0955e88>\u001b[0m in \u001b[0;36mload_data\u001b[0;34m(filename)\u001b[0m\n\u001b[1;32m      6\u001b[0m     \u001b[0;32mwith\u001b[0m \u001b[0mopen\u001b[0m\u001b[0;34m(\u001b[0m\u001b[0mfilename\u001b[0m\u001b[0;34m,\u001b[0m \u001b[0;34m'r'\u001b[0m\u001b[0;34m)\u001b[0m \u001b[0;32mas\u001b[0m \u001b[0mfile\u001b[0m\u001b[0;34m:\u001b[0m\u001b[0;34m\u001b[0m\u001b[0;34m\u001b[0m\u001b[0m\n\u001b[1;32m      7\u001b[0m         \u001b[0mdata\u001b[0m \u001b[0;34m=\u001b[0m \u001b[0mlist\u001b[0m\u001b[0;34m(\u001b[0m\u001b[0mcsv\u001b[0m\u001b[0;34m.\u001b[0m\u001b[0mreader\u001b[0m\u001b[0;34m(\u001b[0m\u001b[0mfile\u001b[0m\u001b[0;34m,\u001b[0m \u001b[0mdelimiter\u001b[0m\u001b[0;34m=\u001b[0m\u001b[0;34m','\u001b[0m\u001b[0;34m)\u001b[0m\u001b[0;34m)\u001b[0m\u001b[0;34m\u001b[0m\u001b[0;34m\u001b[0m\u001b[0m\n\u001b[0;32m----> 8\u001b[0;31m     \u001b[0mdata\u001b[0m \u001b[0;34m=\u001b[0m \u001b[0mnp\u001b[0m\u001b[0;34m.\u001b[0m\u001b[0marray\u001b[0m\u001b[0;34m(\u001b[0m\u001b[0mdata\u001b[0m\u001b[0;34m,\u001b[0m \u001b[0mdtype\u001b[0m\u001b[0;34m=\u001b[0m\u001b[0;34m'float'\u001b[0m\u001b[0;34m)\u001b[0m\u001b[0;34m\u001b[0m\u001b[0;34m\u001b[0m\u001b[0m\n\u001b[0m\u001b[1;32m      9\u001b[0m     \u001b[0mX\u001b[0m \u001b[0;34m=\u001b[0m \u001b[0mdata\u001b[0m\u001b[0;34m[\u001b[0m\u001b[0;34m:\u001b[0m\u001b[0;34m,\u001b[0m \u001b[0;34m:\u001b[0m\u001b[0;34m-\u001b[0m\u001b[0;36m1\u001b[0m\u001b[0;34m]\u001b[0m  \u001b[0;31m# Input features\u001b[0m\u001b[0;34m\u001b[0m\u001b[0;34m\u001b[0m\u001b[0m\n\u001b[1;32m     10\u001b[0m     \u001b[0my\u001b[0m \u001b[0;34m=\u001b[0m \u001b[0mdata\u001b[0m\u001b[0;34m[\u001b[0m\u001b[0;34m:\u001b[0m\u001b[0;34m,\u001b[0m \u001b[0;34m-\u001b[0m\u001b[0;36m1\u001b[0m\u001b[0;34m]\u001b[0m   \u001b[0;31m# Output labels\u001b[0m\u001b[0;34m\u001b[0m\u001b[0;34m\u001b[0m\u001b[0m\n",
            "\u001b[0;31mValueError\u001b[0m: could not convert string to float: 'input 1'"
          ]
        }
      ]
    }
  ]
}