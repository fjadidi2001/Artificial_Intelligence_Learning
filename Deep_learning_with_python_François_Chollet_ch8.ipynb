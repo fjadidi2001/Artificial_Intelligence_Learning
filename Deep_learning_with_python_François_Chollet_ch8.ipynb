{
  "nbformat": 4,
  "nbformat_minor": 0,
  "metadata": {
    "colab": {
      "provenance": [],
      "authorship_tag": "ABX9TyPRcnsDxeaDF74p3jagq/qA",
      "include_colab_link": true
    },
    "kernelspec": {
      "name": "python3",
      "display_name": "Python 3"
    },
    "language_info": {
      "name": "python"
    }
  },
  "cells": [
    {
      "cell_type": "markdown",
      "metadata": {
        "id": "view-in-github",
        "colab_type": "text"
      },
      "source": [
        "<a href=\"https://colab.research.google.com/github/fjadidi2001/Artificial_Intelligence_Learning/blob/master/Deep_learning_with_python_Fran%C3%A7ois_Chollet_ch8.ipynb\" target=\"_parent\"><img src=\"https://colab.research.google.com/assets/colab-badge.svg\" alt=\"Open In Colab\"/></a>"
      ]
    },
    {
      "cell_type": "markdown",
      "source": [
        "**OCR** stands for \"Optical Character Recognition.\" It is a technology that recognizes text within a digital image. It is commonly used to recognize text in scanned documents and images. OCR software can be used to convert a physical paper document, or an image into an accessible electronic version with text."
      ],
      "metadata": {
        "id": "3o7zOHAAuUDu"
      }
    },
    {
      "cell_type": "markdown",
      "source": [
        "8.1 introduction to convnets(convolutional neural networks)"
      ],
      "metadata": {
        "id": "bqqSb8YmxV50"
      }
    },
    {
      "cell_type": "markdown",
      "source": [],
      "metadata": {
        "id": "C0_iOYiUxlFO"
      }
    }
  ]
}