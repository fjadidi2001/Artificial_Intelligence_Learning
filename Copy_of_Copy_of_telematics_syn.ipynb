{
  "nbformat": 4,
  "nbformat_minor": 0,
  "metadata": {
    "colab": {
      "provenance": [],
      "authorship_tag": "ABX9TyPDeMOJc1hQaL1tbI+pBdGt",
      "include_colab_link": true
    },
    "kernelspec": {
      "name": "python3",
      "display_name": "Python 3"
    },
    "language_info": {
      "name": "python"
    }
  },
  "cells": [
    {
      "cell_type": "markdown",
      "metadata": {
        "id": "view-in-github",
        "colab_type": "text"
      },
      "source": [
        "<a href=\"https://colab.research.google.com/github/fjadidi2001/Artificial_Intelligence_Learning/blob/master/Copy_of_Copy_of_telematics_syn.ipynb\" target=\"_parent\"><img src=\"https://colab.research.google.com/assets/colab-badge.svg\" alt=\"Open In Colab\"/></a>"
      ]
    },
    {
      "cell_type": "markdown",
      "source": [
        "# Upload the dataset to Google Colab"
      ],
      "metadata": {
        "id": "ac_RBikYk_NY"
      }
    },
    {
      "cell_type": "code",
      "source": [
        "from google.colab import files\n",
        "\n",
        "# Upload the file\n",
        "uploaded = files.upload()"
      ],
      "metadata": {
        "colab": {
          "base_uri": "https://localhost:8080/",
          "height": 71
        },
        "id": "ZSiPXKBnivBl",
        "outputId": "8c8497c9-67aa-4c15-8138-c4ebde0b9204"
      },
      "execution_count": null,
      "outputs": [
        {
          "output_type": "display_data",
          "data": {
            "text/plain": [
              "<IPython.core.display.HTML object>"
            ],
            "text/html": [
              "\n",
              "     <input type=\"file\" id=\"files-97733fb0-b834-4c3d-b48b-178d7931365f\" name=\"files[]\" multiple disabled\n",
              "        style=\"border:none\" />\n",
              "     <output id=\"result-97733fb0-b834-4c3d-b48b-178d7931365f\">\n",
              "      Upload widget is only available when the cell has been executed in the\n",
              "      current browser session. Please rerun this cell to enable.\n",
              "      </output>\n",
              "      <script>// Copyright 2017 Google LLC\n",
              "//\n",
              "// Licensed under the Apache License, Version 2.0 (the \"License\");\n",
              "// you may not use this file except in compliance with the License.\n",
              "// You may obtain a copy of the License at\n",
              "//\n",
              "//      http://www.apache.org/licenses/LICENSE-2.0\n",
              "//\n",
              "// Unless required by applicable law or agreed to in writing, software\n",
              "// distributed under the License is distributed on an \"AS IS\" BASIS,\n",
              "// WITHOUT WARRANTIES OR CONDITIONS OF ANY KIND, either express or implied.\n",
              "// See the License for the specific language governing permissions and\n",
              "// limitations under the License.\n",
              "\n",
              "/**\n",
              " * @fileoverview Helpers for google.colab Python module.\n",
              " */\n",
              "(function(scope) {\n",
              "function span(text, styleAttributes = {}) {\n",
              "  const element = document.createElement('span');\n",
              "  element.textContent = text;\n",
              "  for (const key of Object.keys(styleAttributes)) {\n",
              "    element.style[key] = styleAttributes[key];\n",
              "  }\n",
              "  return element;\n",
              "}\n",
              "\n",
              "// Max number of bytes which will be uploaded at a time.\n",
              "const MAX_PAYLOAD_SIZE = 100 * 1024;\n",
              "\n",
              "function _uploadFiles(inputId, outputId) {\n",
              "  const steps = uploadFilesStep(inputId, outputId);\n",
              "  const outputElement = document.getElementById(outputId);\n",
              "  // Cache steps on the outputElement to make it available for the next call\n",
              "  // to uploadFilesContinue from Python.\n",
              "  outputElement.steps = steps;\n",
              "\n",
              "  return _uploadFilesContinue(outputId);\n",
              "}\n",
              "\n",
              "// This is roughly an async generator (not supported in the browser yet),\n",
              "// where there are multiple asynchronous steps and the Python side is going\n",
              "// to poll for completion of each step.\n",
              "// This uses a Promise to block the python side on completion of each step,\n",
              "// then passes the result of the previous step as the input to the next step.\n",
              "function _uploadFilesContinue(outputId) {\n",
              "  const outputElement = document.getElementById(outputId);\n",
              "  const steps = outputElement.steps;\n",
              "\n",
              "  const next = steps.next(outputElement.lastPromiseValue);\n",
              "  return Promise.resolve(next.value.promise).then((value) => {\n",
              "    // Cache the last promise value to make it available to the next\n",
              "    // step of the generator.\n",
              "    outputElement.lastPromiseValue = value;\n",
              "    return next.value.response;\n",
              "  });\n",
              "}\n",
              "\n",
              "/**\n",
              " * Generator function which is called between each async step of the upload\n",
              " * process.\n",
              " * @param {string} inputId Element ID of the input file picker element.\n",
              " * @param {string} outputId Element ID of the output display.\n",
              " * @return {!Iterable<!Object>} Iterable of next steps.\n",
              " */\n",
              "function* uploadFilesStep(inputId, outputId) {\n",
              "  const inputElement = document.getElementById(inputId);\n",
              "  inputElement.disabled = false;\n",
              "\n",
              "  const outputElement = document.getElementById(outputId);\n",
              "  outputElement.innerHTML = '';\n",
              "\n",
              "  const pickedPromise = new Promise((resolve) => {\n",
              "    inputElement.addEventListener('change', (e) => {\n",
              "      resolve(e.target.files);\n",
              "    });\n",
              "  });\n",
              "\n",
              "  const cancel = document.createElement('button');\n",
              "  inputElement.parentElement.appendChild(cancel);\n",
              "  cancel.textContent = 'Cancel upload';\n",
              "  const cancelPromise = new Promise((resolve) => {\n",
              "    cancel.onclick = () => {\n",
              "      resolve(null);\n",
              "    };\n",
              "  });\n",
              "\n",
              "  // Wait for the user to pick the files.\n",
              "  const files = yield {\n",
              "    promise: Promise.race([pickedPromise, cancelPromise]),\n",
              "    response: {\n",
              "      action: 'starting',\n",
              "    }\n",
              "  };\n",
              "\n",
              "  cancel.remove();\n",
              "\n",
              "  // Disable the input element since further picks are not allowed.\n",
              "  inputElement.disabled = true;\n",
              "\n",
              "  if (!files) {\n",
              "    return {\n",
              "      response: {\n",
              "        action: 'complete',\n",
              "      }\n",
              "    };\n",
              "  }\n",
              "\n",
              "  for (const file of files) {\n",
              "    const li = document.createElement('li');\n",
              "    li.append(span(file.name, {fontWeight: 'bold'}));\n",
              "    li.append(span(\n",
              "        `(${file.type || 'n/a'}) - ${file.size} bytes, ` +\n",
              "        `last modified: ${\n",
              "            file.lastModifiedDate ? file.lastModifiedDate.toLocaleDateString() :\n",
              "                                    'n/a'} - `));\n",
              "    const percent = span('0% done');\n",
              "    li.appendChild(percent);\n",
              "\n",
              "    outputElement.appendChild(li);\n",
              "\n",
              "    const fileDataPromise = new Promise((resolve) => {\n",
              "      const reader = new FileReader();\n",
              "      reader.onload = (e) => {\n",
              "        resolve(e.target.result);\n",
              "      };\n",
              "      reader.readAsArrayBuffer(file);\n",
              "    });\n",
              "    // Wait for the data to be ready.\n",
              "    let fileData = yield {\n",
              "      promise: fileDataPromise,\n",
              "      response: {\n",
              "        action: 'continue',\n",
              "      }\n",
              "    };\n",
              "\n",
              "    // Use a chunked sending to avoid message size limits. See b/62115660.\n",
              "    let position = 0;\n",
              "    do {\n",
              "      const length = Math.min(fileData.byteLength - position, MAX_PAYLOAD_SIZE);\n",
              "      const chunk = new Uint8Array(fileData, position, length);\n",
              "      position += length;\n",
              "\n",
              "      const base64 = btoa(String.fromCharCode.apply(null, chunk));\n",
              "      yield {\n",
              "        response: {\n",
              "          action: 'append',\n",
              "          file: file.name,\n",
              "          data: base64,\n",
              "        },\n",
              "      };\n",
              "\n",
              "      let percentDone = fileData.byteLength === 0 ?\n",
              "          100 :\n",
              "          Math.round((position / fileData.byteLength) * 100);\n",
              "      percent.textContent = `${percentDone}% done`;\n",
              "\n",
              "    } while (position < fileData.byteLength);\n",
              "  }\n",
              "\n",
              "  // All done.\n",
              "  yield {\n",
              "    response: {\n",
              "      action: 'complete',\n",
              "    }\n",
              "  };\n",
              "}\n",
              "\n",
              "scope.google = scope.google || {};\n",
              "scope.google.colab = scope.google.colab || {};\n",
              "scope.google.colab._files = {\n",
              "  _uploadFiles,\n",
              "  _uploadFilesContinue,\n",
              "};\n",
              "})(self);\n",
              "</script> "
            ]
          },
          "metadata": {}
        },
        {
          "output_type": "stream",
          "name": "stdout",
          "text": [
            "Saving telematics_syn.csv to telematics_syn.csv\n"
          ]
        }
      ]
    },
    {
      "cell_type": "code",
      "source": [
        "import pandas as pd\n",
        "import numpy as np\n",
        "from sklearn.preprocessing import StandardScaler, OneHotEncoder\n",
        "from sklearn.compose import ColumnTransformer\n",
        "from sklearn.pipeline import Pipeline"
      ],
      "metadata": {
        "id": "vKRQ78dBY61H"
      },
      "execution_count": null,
      "outputs": []
    },
    {
      "cell_type": "markdown",
      "source": [
        "## Read the uploaded CSV file"
      ],
      "metadata": {
        "id": "-8AaKfUzlFHq"
      }
    },
    {
      "cell_type": "code",
      "source": [
        "# Read the CSV file\n",
        "df = pd.read_csv('telematics_syn.csv')"
      ],
      "metadata": {
        "id": "xs7yXH1PkNhi"
      },
      "execution_count": null,
      "outputs": []
    },
    {
      "cell_type": "code",
      "source": [
        "categorical_cols = ['Insured.sex', 'Marital', 'Car.use', 'Region', 'Territory']"
      ],
      "metadata": {
        "id": "9LysgLC5aYcf"
      },
      "execution_count": null,
      "outputs": []
    },
    {
      "cell_type": "code",
      "source": [
        "preprocessor = ColumnTransformer(\n",
        "    transformers=[\n",
        "        ('cat', OneHotEncoder(), categorical_cols)\n",
        "    ],\n",
        "    remainder='passthrough'\n",
        ")"
      ],
      "metadata": {
        "id": "YtSYF8zsaZ0G"
      },
      "execution_count": null,
      "outputs": []
    },
    {
      "cell_type": "code",
      "source": [
        "numerical_cols = df.select_dtypes(include=['int64', 'float64']).columns\n",
        "numerical_cols = numerical_cols.drop(['NB_Claim', 'AMT_Claim'])  # Exclude target columns"
      ],
      "metadata": {
        "id": "63ZxraiEacjq"
      },
      "execution_count": null,
      "outputs": []
    },
    {
      "cell_type": "code",
      "source": [
        "preprocessor = ColumnTransformer(\n",
        "    transformers=[\n",
        "        ('num', StandardScaler(), numerical_cols),\n",
        "        ('cat', OneHotEncoder(), categorical_cols)\n",
        "    ])"
      ],
      "metadata": {
        "id": "LkDITgIFaiGS"
      },
      "execution_count": null,
      "outputs": []
    },
    {
      "cell_type": "code",
      "source": [
        "pipeline = Pipeline(steps=[('preprocessor', preprocessor)])"
      ],
      "metadata": {
        "id": "HKOm8TGUalTY"
      },
      "execution_count": null,
      "outputs": []
    },
    {
      "cell_type": "code",
      "source": [
        "X = df.drop(columns=['NB_Claim', 'AMT_Claim'])\n",
        "X_preprocessed = pipeline.fit_transform(X)"
      ],
      "metadata": {
        "id": "U6oqo7FAaodE"
      },
      "execution_count": null,
      "outputs": []
    },
    {
      "cell_type": "code",
      "source": [
        "y_nb_claim = df['NB_Claim']\n",
        "y_amt_claim = df['AMT_Claim']"
      ],
      "metadata": {
        "id": "h5jXlqsja7Ic"
      },
      "execution_count": 10,
      "outputs": []
    },
    {
      "cell_type": "code",
      "source": [
        "from sklearn.model_selection import train_test_split\n",
        "\n",
        "# Assuming X_preprocessed is your preprocessed feature matrix and y_nb_claim and y_amt_claim are your target variables\n",
        "\n",
        "# First, split the data into training and a temporary set (which will be further split into validation and test sets)\n",
        "X_train, X_temp, y_nb_train, y_nb_temp, y_amt_train, y_amt_temp = train_test_split(\n",
        "    X_preprocessed, y_nb_claim, y_amt_claim, test_size=0.3, random_state=42\n",
        ")\n",
        "\n",
        "# Now, split the temporary set into validation and test sets\n",
        "X_val, X_test, y_nb_val, y_nb_test, y_amt_val, y_amt_test = train_test_split(\n",
        "    X_temp, y_nb_temp, y_amt_temp, test_size=0.5, random_state=42\n",
        ")\n",
        "\n",
        "# Print the sizes of the resulting sets\n",
        "print(f\"Training set: {X_train.shape[0]} samples\")\n",
        "print(f\"Validation set: {X_val.shape[0]} samples\")\n",
        "print(f\"Test set: {X_test.shape[0]} samples\")"
      ],
      "metadata": {
        "colab": {
          "base_uri": "https://localhost:8080/"
        },
        "id": "mpw_IAaJa8t8",
        "outputId": "0dc05d58-081f-4daf-a0ad-0baabaf333a9"
      },
      "execution_count": 11,
      "outputs": [
        {
          "output_type": "stream",
          "name": "stdout",
          "text": [
            "Training set: 70000 samples\n",
            "Validation set: 15000 samples\n",
            "Test set: 15000 samples\n"
          ]
        }
      ]
    },
    {
      "cell_type": "code",
      "source": [
        "import tensorflow as tf\n",
        "from tensorflow.keras.models import Sequential\n",
        "from tensorflow.keras.layers import Dense\n",
        "from tensorflow.keras.optimizers import Adam\n",
        "from sklearn.metrics import accuracy_score"
      ],
      "metadata": {
        "id": "vZUuUSq2cJ1s"
      },
      "execution_count": 12,
      "outputs": []
    },
    {
      "cell_type": "code",
      "source": [
        "def create_model(input_dim):\n",
        "    model = Sequential([\n",
        "        Dense(128, activation='relu', input_dim=input_dim),\n",
        "        Dense(64, activation='relu'),\n",
        "        Dense(32, activation='relu'),\n",
        "        Dense(1, activation='sigmoid')  # Assuming binary classification for 'NB_Claim'\n",
        "    ])\n",
        "    model.compile(optimizer=Adam(learning_rate=0.001), loss='binary_crossentropy', metrics=['accuracy'])\n",
        "    return model"
      ],
      "metadata": {
        "id": "QI6kOyxlcMec"
      },
      "execution_count": 13,
      "outputs": []
    },
    {
      "cell_type": "code",
      "source": [
        "input_dim = X_train.shape[1]\n",
        "model = create_model(input_dim)\n",
        "\n",
        "history = model.fit(\n",
        "    X_train, y_nb_train,\n",
        "    epochs=20,\n",
        "    batch_size=32,\n",
        "    validation_data=(X_val, y_nb_val),\n",
        "    verbose=1\n",
        ")"
      ],
      "metadata": {
        "colab": {
          "base_uri": "https://localhost:8080/"
        },
        "id": "BR4YNNJ6cRLq",
        "outputId": "d622be6e-20e5-48b1-800e-6b75f81ab38d"
      },
      "execution_count": 14,
      "outputs": [
        {
          "output_type": "stream",
          "name": "stdout",
          "text": [
            "Epoch 1/20\n",
            "2188/2188 [==============================] - 7s 3ms/step - loss: 0.1591 - accuracy: 0.9568 - val_loss: 0.1469 - val_accuracy: 0.9593\n",
            "Epoch 2/20\n",
            "2188/2188 [==============================] - 7s 3ms/step - loss: 0.1476 - accuracy: 0.9578 - val_loss: 0.1455 - val_accuracy: 0.9592\n",
            "Epoch 3/20\n",
            "2188/2188 [==============================] - 6s 3ms/step - loss: 0.1397 - accuracy: 0.9584 - val_loss: 0.1413 - val_accuracy: 0.9595\n",
            "Epoch 4/20\n",
            "2188/2188 [==============================] - 8s 4ms/step - loss: 0.1279 - accuracy: 0.9587 - val_loss: 0.1419 - val_accuracy: 0.9594\n",
            "Epoch 5/20\n",
            "2188/2188 [==============================] - 6s 3ms/step - loss: 0.0978 - accuracy: 0.9588 - val_loss: 0.1426 - val_accuracy: 0.9589\n",
            "Epoch 6/20\n",
            "2188/2188 [==============================] - 7s 3ms/step - loss: -0.0020 - accuracy: 0.9588 - val_loss: 0.1409 - val_accuracy: 0.9581\n",
            "Epoch 7/20\n",
            "2188/2188 [==============================] - 6s 3ms/step - loss: -0.3290 - accuracy: 0.9582 - val_loss: 0.1477 - val_accuracy: 0.9591\n",
            "Epoch 8/20\n",
            "2188/2188 [==============================] - 7s 3ms/step - loss: -0.9010 - accuracy: 0.9582 - val_loss: -0.0193 - val_accuracy: 0.9597\n",
            "Epoch 9/20\n",
            "2188/2188 [==============================] - 6s 3ms/step - loss: -2.5028 - accuracy: 0.9584 - val_loss: 0.0083 - val_accuracy: 0.9587\n",
            "Epoch 10/20\n",
            "2188/2188 [==============================] - 8s 4ms/step - loss: -5.9949 - accuracy: 0.9580 - val_loss: 4.7157 - val_accuracy: 0.9564\n",
            "Epoch 11/20\n",
            "2188/2188 [==============================] - 6s 3ms/step - loss: -11.6169 - accuracy: 0.9576 - val_loss: -0.7827 - val_accuracy: 0.9590\n",
            "Epoch 12/20\n",
            "2188/2188 [==============================] - 7s 3ms/step - loss: -21.7997 - accuracy: 0.9579 - val_loss: -1.4505 - val_accuracy: 0.9591\n",
            "Epoch 13/20\n",
            "2188/2188 [==============================] - 6s 3ms/step - loss: -37.1015 - accuracy: 0.9578 - val_loss: 22.3020 - val_accuracy: 0.9570\n",
            "Epoch 14/20\n",
            "2188/2188 [==============================] - 7s 3ms/step - loss: -55.0172 - accuracy: 0.9578 - val_loss: -3.8392 - val_accuracy: 0.9586\n",
            "Epoch 15/20\n",
            "2188/2188 [==============================] - 6s 3ms/step - loss: -89.5024 - accuracy: 0.9579 - val_loss: -2.9433 - val_accuracy: 0.9587\n",
            "Epoch 16/20\n",
            "2188/2188 [==============================] - 6s 3ms/step - loss: -124.8165 - accuracy: 0.9580 - val_loss: 31.9725 - val_accuracy: 0.9573\n",
            "Epoch 17/20\n",
            "2188/2188 [==============================] - 7s 3ms/step - loss: -191.2569 - accuracy: 0.9581 - val_loss: 25.0764 - val_accuracy: 0.9583\n",
            "Epoch 18/20\n",
            "2188/2188 [==============================] - 6s 3ms/step - loss: -261.1625 - accuracy: 0.9583 - val_loss: 22.6382 - val_accuracy: 0.9579\n",
            "Epoch 19/20\n",
            "2188/2188 [==============================] - 7s 3ms/step - loss: -365.5088 - accuracy: 0.9581 - val_loss: 8.1691 - val_accuracy: 0.9584\n",
            "Epoch 20/20\n",
            "2188/2188 [==============================] - 6s 3ms/step - loss: -485.1362 - accuracy: 0.9584 - val_loss: 34.1571 - val_accuracy: 0.9579\n"
          ]
        }
      ]
    },
    {
      "cell_type": "code",
      "source": [
        "test_loss, test_accuracy = model.evaluate(X_test, y_nb_test, verbose=0)\n",
        "print(f\"Test Loss: {test_loss:.4f}\")\n",
        "print(f\"Test Accuracy: {test_accuracy:.4f}\")"
      ],
      "metadata": {
        "colab": {
          "base_uri": "https://localhost:8080/"
        },
        "id": "bU2SU5S5dma6",
        "outputId": "e1b4aff2-0c6f-4a9e-e4de-c1ea86bfacb4"
      },
      "execution_count": 16,
      "outputs": [
        {
          "output_type": "stream",
          "name": "stdout",
          "text": [
            "Test Loss: -303.2677\n",
            "Test Accuracy: 0.9541\n"
          ]
        }
      ]
    },
    {
      "cell_type": "code",
      "source": [
        "import matplotlib.pyplot as plt\n",
        "\n",
        "# Plot training & validation accuracy values\n",
        "plt.figure(figsize=(12, 4))\n",
        "plt.subplot(1, 2, 1)\n",
        "plt.plot(history.history['accuracy'])\n",
        "plt.plot(history.history['val_accuracy'])\n",
        "plt.title('Model accuracy')\n",
        "plt.ylabel('Accuracy')\n",
        "plt.xlabel('Epoch')\n",
        "plt.legend(['Train', 'Validation'], loc='upper left')\n",
        "\n",
        "# Plot training & validation loss values\n",
        "plt.subplot(1, 2, 2)\n",
        "plt.plot(history.history['loss'])\n",
        "plt.plot(history.history['val_loss'])\n",
        "plt.title('Model loss')\n",
        "plt.ylabel('Loss')\n",
        "plt.xlabel('Epoch')\n",
        "plt.legend(['Train', 'Validation'], loc='upper left')\n",
        "\n",
        "plt.show()"
      ],
      "metadata": {
        "colab": {
          "base_uri": "https://localhost:8080/",
          "height": 410
        },
        "id": "CNh_tO9HdHJ4",
        "outputId": "2a406794-76c6-4fe0-8fcc-777365b37781"
      },
      "execution_count": 15,
      "outputs": [
        {
          "output_type": "display_data",
          "data": {
            "text/plain": [
              "<Figure size 1200x400 with 2 Axes>"
            ],
            "image/png": "[encoded data removed]"
          },
          "metadata": {}
        }
      ]
    }
  ]
}