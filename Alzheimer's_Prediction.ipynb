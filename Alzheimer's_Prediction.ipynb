{
  "cells": [
    {
      "cell_type": "markdown",
      "metadata": {
        "id": "view-in-github",
        "colab_type": "text"
      },
      "source": [
        "<a href=\"https://colab.research.google.com/github/fjadidi2001/Artificial_Intelligence_Learning/blob/master/Alzheimer's_Prediction.ipynb\" target=\"_parent\"><img src=\"https://colab.research.google.com/assets/colab-badge.svg\" alt=\"Open In Colab\"/></a>"
      ]
    },
    {
      "cell_type": "markdown",
      "source": [
        "# Explanation:\n",
        "<br>\n",
        "\n",
        "## architecture:\n",
        "\n",
        "> This project presents a CNN architecture that uses MRI data from the ADNI dataset to classify Alzheimer’s disease. The network leverages different CNN models, filter sizes, and pooling layers to extract features from MRI images, enabling precise classification of AD subtypes and stages. Accurate classification can aid in early detection, personalized treatment planning, disease monitoring, and prognostic assessment, showcasing the potential of this CNN architecture to assist medical professionals and researchers in making informed decisions about AD patients.\n"
      ],
      "metadata": {
        "id": "VM_PRyeQ0NYW"
      }
    },
    {
      "cell_type": "markdown",
      "source": [
        "\n",
        "## what is Alzheimer's disease (AD)?\n",
        "\n",
        "> Alzheimer's disease (AD) is a common brain ailment leading to memory loss and cognitive decline, ranking as a significant cause of mortality.\n",
        "\n",
        "## what is MCI?\n",
        "\n",
        "> Mild cognitive impairment (MCI) lies between normal brain function and AD, with AD progressing from the prodromal stage of MCI to dementia. Identifying MCI early can help delay or prevent the progression to AD, with studies showing a 10-15% annual development rate from MCI to AD. Intermediate MCI stages show subtle brain lesion variations.\n",
        "\n"
      ],
      "metadata": {
        "id": "9aaV_HVw0NVO"
      }
    },
    {
      "cell_type": "markdown",
      "source": [
        "> Early mild cognitive impairment (EMCI) emerges in the initial phase of MCI, while late mild cognitive impairment (LMCI) or progressive MCI (PMCI) indicates worsening symptoms over time. As symptoms evolve, transitioning between stages requires careful monitoring by medical professionals. Researchers face challenges in identifying distinct symptoms across different sets. Medical imaging techniques like PET, MRI, and CT provide crucial standardized testing and images for experimental processes in this field.\n",
        "\n"
      ],
      "metadata": {
        "id": "R7DZ_XGo0NNs"
      }
    },
    {
      "cell_type": "markdown",
      "source": [
        "## Features extracted from MRI\n",
        "\n",
        "> MRI is a widely recognized and versatile tool for diagnosing various diseases such as brain tumors, neurological disorders, spinal cord injuries, and liver diseases. Its high sensitivity allows for early disease detection. Different MRI sequences are suited for different disorders, and MRI images are frequently used for Alzheimer's disease classification. Features extracted from MRI images, **such as grey and white matter volumes, cortical thickness, and CSF levels, aid in categorizing and diagnosing mild cognitive impairment or Alzheimer's disease**. Pre-trained CNNs show promise in automatically diagnosing cognitive illnesses from brain MRI images."
      ],
      "metadata": {
        "id": "irgwtcCq1Mrf"
      }
    },
    {
      "cell_type": "markdown",
      "metadata": {
        "id": "7YRXhGs80_uq"
      },
      "source": [
        "# connect to drive"
      ]
    },
    {
      "cell_type": "code",
      "execution_count": 13,
      "metadata": {
        "colab": {
          "base_uri": "https://localhost:8080/"
        },
        "id": "zbfQTjCTzdJQ",
        "outputId": "85475701-ad67-4a82-b636-a9bb8648463a"
      },
      "outputs": [
        {
          "output_type": "stream",
          "name": "stdout",
          "text": [
            "Drive already mounted at /content/drive; to attempt to forcibly remount, call drive.mount(\"/content/drive\", force_remount=True).\n"
          ]
        }
      ],
      "source": [
        "from google.colab import drive\n",
        "drive.mount('/content/drive')\n"
      ]
    },
    {
      "cell_type": "code",
      "source": [
        "# Path to your dataset\n",
        "dataset_path = '/content/drive/My Drive/Deep learning/Alzheimer_s_Disease_Neuroimaging_ADNI_Dataset'"
      ],
      "metadata": {
        "id": "HwjqAVNnJsYk"
      },
      "execution_count": 14,
      "outputs": []
    },
    {
      "cell_type": "markdown",
      "source": [
        "# import libraries"
      ],
      "metadata": {
        "id": "VrowrO6l5yOa"
      }
    },
    {
      "cell_type": "code",
      "source": [
        "import os\n",
        "import numpy as np\n",
        "import tensorflow as tf\n",
        "from tensorflow.keras.preprocessing.image import ImageDataGenerator\n",
        "from tensorflow.keras.models import Sequential\n",
        "from tensorflow.keras.layers import Conv2D, MaxPooling2D, Flatten, Dense, Dropout\n",
        "from tensorflow.keras.optimizers import Adam\n",
        "from sklearn.model_selection import train_test_split\n",
        "import cv2\n",
        "import random\n",
        "from sklearn.preprocessing import StandardScaler\n",
        "import numpy as np\n",
        "import pandas as pd\n"
      ],
      "metadata": {
        "id": "9UKzuHiSJwSL"
      },
      "execution_count": 21,
      "outputs": []
    },
    {
      "cell_type": "markdown",
      "source": [
        "# split dataset and normalize images"
      ],
      "metadata": {
        "id": "chkJPHCf-suC"
      }
    },
    {
      "cell_type": "code",
      "source": [
        "# Path to the directories containing the AD and MCI images\n",
        "ad_path = '/content/drive/My Drive/Deep learning/Alzheimer_s_Disease_Neuroimaging_ADNI_Dataset/AD'\n",
        "mci_path = '/content/drive/My Drive/Deep learning/Alzheimer_s_Disease_Neuroimaging_ADNI_Dataset/MCI'\n",
        "\n",
        "# Function to get the list of image file paths in a directory\n",
        "def get_image_paths(directory):\n",
        "    return [os.path.join(directory, image) for image in os.listdir(directory)]\n",
        "\n",
        "# Get the list of image file paths for AD and MCI images\n",
        "ad_images = get_image_paths(ad_path)\n",
        "mci_images = get_image_paths(mci_path)\n",
        "\n",
        "# Combine image paths with labels\n",
        "ad_labels = np.zeros(len(ad_images))\n",
        "mci_labels = np.ones(len(mci_images))\n",
        "\n",
        "# Combine all images and labels\n",
        "all_images = ad_images + mci_images\n",
        "all_labels = np.concatenate([ad_labels, mci_labels])\n",
        "\n",
        "# Split the dataset into training, testing, and validation sets\n",
        "X_train, X_test, y_train, y_test = train_test_split(all_images, all_labels, test_size=0.2, random_state=42)\n",
        "X_train, X_val, y_train, y_val = train_test_split(X_train, y_train, test_size=0.2, random_state=42)\n",
        "\n",
        "# Normalize the images (You should replace this with your actual normalization code)\n",
        "def normalize_image(image_path):\n",
        "    image = cv2.imread(image_path)\n",
        "    image = cv2.cvtColor(image, cv2.COLOR_BGR2RGB)  # Convert image to RGB\n",
        "    image = image / 255.0  # Normalize pixel values between 0 and 1\n",
        "    return image_path\n",
        "\n",
        "\n",
        "\n",
        "X_train = [normalize_image(image) for image in X_train]\n",
        "X_test = [normalize_image(image) for image in X_test]\n",
        "X_val = [normalize_image(image) for image in X_val]\n",
        "\n",
        "# Check the distribution of classes in each split\n",
        "print(\"Training set - AD: {}, MCI: {}\".format(np.sum(y_train == 0), np.sum(y_train == 1)))\n",
        "print(\"Testing set - AD: {}, MCI: {}\".format(np.sum(y_test == 0), np.sum(y_test == 1)))\n",
        "print(\"Validation set - AD: {}, MCI: {}\".format(np.sum(y_val == 0), np.sum(y_val == 1)))"
      ],
      "metadata": {
        "colab": {
          "base_uri": "https://localhost:8080/"
        },
        "id": "VSBpwTqv9pIK",
        "outputId": "9f3124ed-48c1-4dac-c308-b167ad63f96b"
      },
      "execution_count": 23,
      "outputs": [
        {
          "output_type": "stream",
          "name": "stdout",
          "text": [
            "Training set - AD: 609, MCI: 455\n",
            "Testing set - AD: 204, MCI: 129\n",
            "Validation set - AD: 162, MCI: 105\n"
          ]
        }
      ]
    },
    {
      "cell_type": "code",
      "source": [
        "\n",
        "\n",
        "# Function for resizing and augmenting images\n",
        "def preprocess_image(image_path, target_size=(224, 224)):\n",
        "    image = cv2.imread(image_path)\n",
        "    image = cv2.cvtColor(image, cv2.COLOR_BGR2RGB)  # Convert image to RGB\n",
        "    image = cv2.resize(image, target_size)  # Resize the image to the target size\n",
        "\n",
        "    # Data augmentation (you can add more augmentation techniques)\n",
        "    if random.random() < 0.5:\n",
        "        image = cv2.flip(image, 1)  # Horizontal flip with 50% probability\n",
        "    # Add more augmentation techniques as needed\n",
        "\n",
        "    return image\n",
        "\n",
        "# Preprocess all images in the datasets\n",
        "X_train = [preprocess_image(image) for image in X_train]\n",
        "X_test = [preprocess_image(image) for image in X_test]\n",
        "X_val = [preprocess_image(image) for image in X_val]"
      ],
      "metadata": {
        "id": "u4UEHagq_axR"
      },
      "execution_count": 24,
      "outputs": []
    }
  ],
  "metadata": {
    "colab": {
      "provenance": [],
      "authorship_tag": "ABX9TyMYfsDsQujIcgm98QcC/Cw9",
      "include_colab_link": true
    },
    "kernelspec": {
      "display_name": "Python 3",
      "name": "python3"
    },
    "language_info": {
      "name": "python"
    }
  },
  "nbformat": 4,
  "nbformat_minor": 0
}