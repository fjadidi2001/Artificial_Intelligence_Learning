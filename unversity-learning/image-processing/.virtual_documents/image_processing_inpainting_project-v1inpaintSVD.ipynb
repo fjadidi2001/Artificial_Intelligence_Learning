





import numpy as np
from sklearn.decomposition import PCA
from PIL import Image
import matplotlib.pyplot as plt
from skimage import io, color
from matplotlib.image import imread
from sklearn.decomposition import PCA, IncrementalPCA
import matplotlib.pyplot as plt
from scipy.spatial.distance import cdist
import cv2
import cv2 as cv
from sklearn.decomposition import SparseCoder








# Step 1: Read the image
def read_image(image_path):
    image = io.imread(image_path)
    return image

# Step 2: Convert the image to grayscale
# def convert_to_grayscale(image):
#     size_image=len(image)
#     grayscale_image = color.rgb2gray(image)
#     return grayscale_image
def convert_to_grayscale(image):
    if len(image.shape) == 2 or (len(image.shape) == 3 and image.shape[2] == 1):
        return image
    else:
        grayscale_image = color.rgb2gray(image)
        return grayscale_image


# Step 3: Perform SVD on the grayscale image
def perform_svd(image):
    U, S, Vt = np.linalg.svd(image, full_matrices=False)
    return U, S, Vt


# Step 4: Keep top k singular values and reconstruct the image
def reconstruct_image(U, S, Vt, k):
    total_singular_values = len(S)
    k_values = int(total_singular_values * k / 100)
    S_k = np.zeros((total_singular_values, total_singular_values))  # Create a square matrix
    S_k[:k_values, :k_values] = np.diag(S[:k_values])  # Set the top k singular values on the diagonal
    U_k = U[:, :k_values]
    Vt_k = Vt[:k_values, :]
    # Ensure the dimensions are aligned for multiplication
    reconstructed_image = np.dot(U_k, np.dot(S_k, Vt_k))
    return reconstructed_image
# Step 5: Reconstruct image
def reconstruct_image(U, S, Vt, k):
    total_singular_values = len(S)
    reconstructed_S = np.zeros((U.shape[1], Vt.shape[0]))
    reconstructed_S[:k, :k] = np.diag(S[:k])

    reconstructed_image = U.dot(reconstructed_S).dot(Vt)
    return reconstructed_image


# Step 6: Display the original and reconstructed images
def display_images(original_image, reconstructed_image, k):
    fig, axs = plt.subplots(1, 2, figsize=(12, 6))
    axs[0].imshow(original_image)
    axs[0].set_title('Original Image')
    axs[0].axis('on')
    axs[1].imshow(reconstructed_image, cmap='gray')
    axs[1].set_title(f'Reconstructed Image with top {k}% singular values')
    axs[1].axis('on')
    plt.show()

# Step 6.5: Save the reconstructed image
def save_image(image, save_path):
    io.imsave(save_path, image)

# Example usage:
image_path = 'pepak.jpg'
reconstructed_image = read_image(image_path)
# Perform any image processing here
save_path = 'reconstructed_image.jpg'
save_image(reconstructed_image, save_path)
# Step 7: Print matrices and singular values
def print_matrices(U, S, Vt, k):
    np.set_printoptions(precision=3, suppress=True)
    print("Matrix U (shape: {}):".format(U.shape))
    print(U)

    print("\n\n\nSingular values (length: {}):".format(len(S)))
    print(np.diag(S))  # Print singular values as a diagonal matrix

    k_values = int(len(S) * k / 100)
    S_k = np.zeros_like(S)
    S_k[:k_values] = S[:k_values]
    print(f"\n\n\n\nTop {k}% singular values (diagonal matrix):")
    print(np.diag(S_k))  # Print top k singular values as a diagonal matrix

    print("\nMatrix Vt (shape: {}):".format(Vt.shape))
    print(Vt)


def process_multiple_images(image_paths, k):
    for image_path in image_paths:
        original_image = read_image(image_path)
        if original_image is None:
            print(f"Error: Unable to read the image {image_path}. Please check the path.")
            continue
        grayscale_image = convert_to_grayscale(original_image)
        U, S, Vt = perform_svd(grayscale_image)
        print_matrices(U, S, Vt, k)
        reconstructed_image = reconstruct_image(U, S, Vt, k)
        display_images(original_image, reconstructed_image, k)
# Main function to execute the steps
def main(image_paths, k):
    process_multiple_images(image_paths, k)

# Provide a list of image paths and the value of k
image_paths = ['parrots.jpeg', 'flowers.jpeg','pepak.jpg']  # Replace with your image paths

# image_paths = ['horse.png', 'parrot1.png','bungee.png']  # Replace with your image paths
k = 10  # Percentage of singular values to keep

# Run the main function
main(image_paths, k)












# Main function to execute the steps
def main(image_path, k_values):
    original_image = read_image(image_path)
    if original_image is None:
        print("Error: Unable to read the image. Please check the path.")
        return
    grayscale_image = convert_to_grayscale(original_image)
    U, S, Vt = perform_svd(grayscale_image)
    for k in k_values:
        print(f"\n\nReconstruction for k={k}%:\n")
        print_matrices(U, S, Vt, k)
        reconstructed_image = reconstruct_image(U, S, Vt, k)
        display_images(original_image, reconstructed_image, k)

# Provide the image path and the list of k values
image_path = 'parrots.jpeg'  # Replace with your image path
k_values = [10, 20, 30, 40, 50]  # Percentage of singular values to keep

# Run the main function
main(image_path, k_values)





# Main function to execute steps for multiple images
def main(image_paths, k_values):
    for image_path in image_paths:
        original_image = read_image(image_path)
        if original_image is None:
            print(f"Error: Unable to read the image {image_path}. Please check the path.")
            continue
        grayscale_image = convert_to_grayscale(original_image)
        U, S, Vt = perform_svd(grayscale_image)
        for k in k_values:
            reconstructed_image = reconstruct_image(U, S, Vt, k)
            display_images(original_image, reconstructed_image, k)

# Provide a list of image paths and the list of k values
image_paths = ['parrots.jpeg', 'flowers.jpeg', 'pepak.jpg']  # Replace with your image paths
k_values = [10, 20, 30, 40, 50]  # Percentage of singular values to keep

# Run the main function
main(image_paths, k_values)




# Function to read an image
def read_image(image_path):
    try:
        return np.array(Image.open(image_path))
    except Exception as e:
        print(f"Error: Unable to read the image {image_path}. Please check the path.")
        return None

# Function to convert an image to grayscale
def convert_to_grayscale(image):
    return np.dot(image[...,:3], [0.2989, 0.5870, 0.1140])

# Function to perform SVD
def perform_svd(image):
    return np.linalg.svd(image, full_matrices=False)

# Function to reconstruct an image with a given number of singular values
def reconstruct_image(U, S, Vt, k):
    return np.dot(U[:, :k] * S[:k], Vt[:k, :])

# Function to display the original image, reconstructed image, and difference image
def display_images(original_image, reconstructed_image, k):
    difference_image = np.abs(original_image - reconstructed_image)

    plt.figure(figsize=(12, 4))

    plt.subplot(1, 3, 1)
    plt.imshow(original_image, cmap='gray')
    plt.title('Original Image')
    plt.axis('off')

    plt.subplot(1, 3, 2)
    plt.imshow(reconstructed_image, cmap='gray')
    plt.title(f'Reconstructed Image (k={k})')
    plt.axis('off')

    plt.subplot(1, 3, 3)
    plt.imshow(difference_image, cmap='gray')
    plt.title('Difference Image')
    plt.axis('off')

    plt.tight_layout()
    plt.show()

# Main function to execute steps for multiple images
def main(image_paths, k_values):
    for image_path in image_paths:
        original_image = read_image(image_path)
        if original_image is None:
            continue
        grayscale_image = convert_to_grayscale(original_image)
        U, S, Vt = perform_svd(grayscale_image)
        for k in k_values:
            reconstructed_image = reconstruct_image(U, S, Vt, k)
            display_images(grayscale_image, reconstructed_image, k)

# Provide a list of image paths and the list of k values
image_paths = ['parrots.jpeg', 'flowers.jpeg', 'pepak.jpg']  # Replace with your image paths
k_values = [10, 20, 30, 40, 50]  # Percentage of singular values to keep

# Run the main function
main(image_paths, k_values)





import numpy as np

def create_inpainting_mask(original_image, reconstructed_image, threshold=0.1):
    # Calculate absolute difference between original and reconstructed images
    diff_image = np.abs(original_image - reconstructed_image)

    # Create a mask based on the threshold
    mask = np.zeros_like(diff_image, dtype=np.uint8)
    mask[diff_image > threshold] = 1

    return mask



import matplotlib.pyplot as plt

def display_images(original_image, reconstructed_image, mask, k):
    difference_image = np.abs(original_image - reconstructed_image)

    fig, axs = plt.subplots(1, 3, figsize=(12, 4))

    axs[0].imshow(original_image, cmap='gray')
    axs[0].set_title('Original Image')
    axs[0].axis('off')

    axs[1].imshow(reconstructed_image, cmap='gray')
    axs[1].set_title(f'Reconstructed Image (k={k})')
    axs[1].axis('off')

    axs[2].imshow(mask, cmap='gray')
    axs[2].set_title('Inpainting Mask')
    axs[2].axis('off')

    plt.tight_layout()
    plt.show()



def reconstruct_image(U, S, Vt, k):
    total_singular_values = len(S)
    k_values = int(total_singular_values * k / 100)
    S_k = np.zeros((total_singular_values, total_singular_values))  # Create a square matrix
    S_k[:k_values, :k_values] = np.diag(S[:k_values])  # Set the top k singular values on the diagonal
    U_k = U[:, :k_values]
    Vt_k = Vt[:k_values, :]
    # Ensure the dimensions are aligned for multiplication
    reconstructed_image = np.dot(U_k, np.dot(S_k, Vt_k))
    return reconstructed_image



import numpy as np

def reconstruct_image(U, S, Vt, k):
    total_singular_values = len(S)
    k_values = int(total_singular_values * k / 100)

    # Construct S_k as a diagonal matrix
    S_k = np.diag(S[:k_values])

    # Ensure U and Vt are sliced to match S_k dimensions
    U_k = U[:, :k_values]
    Vt_k = Vt[:k_values, :]

    # Reconstruct the image
    reconstructed_image = U_k @ S_k @ Vt_k

    return reconstructed_image



def main(image_paths, k_values):
    for image_path in image_paths:
        original_image = read_image(image_path)
        if original_image is None:
            continue

        grayscale_image = convert_to_grayscale(original_image)
        U, S, Vt = perform_svd(grayscale_image)

        for k in k_values:
            reconstructed_image = reconstruct_image(U, S, Vt, k)
            display_images(grayscale_image, reconstructed_image, k)



def main(image_paths, k_values):
    for image_path in image_paths:
        original_image = read_image(image_path)
        if original_image is None:
            continue
        grayscale_image = convert_to_grayscale(original_image)
        U, S, Vt = perform_svd(grayscale_image)
        for k in k_values:
            reconstructed_image = reconstruct_image(U, S, Vt, k)
            mask = create_inpainting_mask(grayscale_image, reconstructed_image)
            display_images(grayscale_image, reconstructed_image, mask, k)
            # Optionally, save the mask or other outputs
            # io.imsave(f'mask_{k}.jpg', mask)
            # Save matrices if needed
            print_matrices(U, S, Vt, k)

# Provide a list of image paths and the list of k values
image_paths = ['parrots.jpeg', 'flowers.jpeg', 'pepak.jpg']  # Replace with your image paths
k_values = [10, 20, 30, 40, 50]  # Percentage of singular values to keep

# Run the main function
main(image_paths, k_values)






import numpy as np
import matplotlib.pyplot as plt
from skimage import io, color

# Function to read an image
def read_image(image_path):
    try:
        return io.imread(image_path)
    except Exception as e:
        print(f"Error: Unable to read the image {image_path}. Please check the path.")
        return None

# Function to convert an image to grayscale
def convert_to_grayscale(image):
    if len(image.shape) == 2 or (len(image.shape) == 3 and image.shape[2] == 1):
        return image
    else:
        grayscale_image = color.rgb2gray(image)
        return grayscale_image



# Function to perform SVD
def perform_svd(image):
    U, S, Vt = np.linalg.svd(image, full_matrices=False)
    return U, S, Vt

# Function to reconstruct an image with a given number of singular values
def reconstruct_image(U, S, Vt, k):
    total_singular_values = len(S)
    reconstructed_S = np.zeros((U.shape[1], Vt.shape[0]))
    reconstructed_S[:k, :k] = np.diag(S[:k])

    reconstructed_image = U.dot(reconstructed_S).dot(Vt)
    return reconstructed_image



# Function to create an inpainting mask (simple example)
def create_inpainting_mask(image):
    mask = np.zeros_like(image, dtype=bool)
    mask[100:200, 100:200] = True  # Example: Inpainting region
    return mask

# Function to extract a patch from an image
def extract_patch(image, center_x, center_y, patch_size):
    half_size = patch_size // 2
    patch = image[center_y - half_size:center_y + half_size + 1,
                  center_x - half_size:center_x + half_size + 1]
    return patch

# Function to find similar patches (example using Euclidean distance)
def find_similar_patches(image, goal_patch, num_patches=10, patch_size=8):
    similar_patches = []
    patch_indices = []

    height, width = image.shape
    half_size = patch_size // 2

    for _ in range(num_patches):
        rand_y = np.random.randint(half_size, height - half_size)
        rand_x = np.random.randint(half_size, width - half_size)

        patch = extract_patch(image, rand_x, rand_y, patch_size)
        similar_patches.append(patch)
        patch_indices.append((rand_x, rand_y))

    return similar_patches, patch_indices



# Function to perform inpainting (simple example: choosing the most similar patch)
def inpaint_image(goal_patch, similar_patches):
    best_patch = similar_patches[0]
    return best_patch



# Function to display images
def display_images(original_image, reconstructed_image, mask, goal_patch, similar_patches, inpainted_patch, k):
    fig, axs = plt.subplots(2, 4, figsize=(16, 8))

    axs[0, 0].imshow(original_image, cmap='gray')
    axs[0, 0].set_title('Original Image')
    axs[0, 0].axis('off')

    axs[0, 1].imshow(reconstructed_image, cmap='gray')
    axs[0, 1].set_title(f'Reconstructed Image (k={k})')
    axs[0, 1].axis('off')

    axs[0, 2].imshow(mask, cmap='gray')
    axs[0, 2].set_title('Inpainting Mask')
    axs[0, 2].axis('off')

    axs[0, 3].imshow(inpainted_patch, cmap='gray')
    axs[0, 3].set_title('Inpainted Image')
    axs[0, 3].axis('off')

    axs[1, 0].imshow(goal_patch, cmap='gray')
    axs[1, 0].set_title('Goal Patch')
    axs[1, 0].axis('off')

    for i in range(1, 4):
        if i - 1 < len(similar_patches):
            axs[1, i].imshow(similar_patches[i - 1], cmap='gray')
            axs[1, i].set_title(f'Similar Patch {i}')
            axs[1, i].axis('off')

    plt.tight_layout()
    plt.show()



def main(image_paths, k_values):
    for image_path in image_paths:
        original_image = read_image(image_path)
        if original_image is None:
            print(f"Error: Unable to read the image {image_path}. Please check the path.")
            continue

        grayscale_image = convert_to_grayscale(original_image)
        U, S, Vt = perform_svd(grayscale_image)

        for k in k_values:
            reconstructed_image = reconstruct_image(U, S, Vt, k)
            mask = create_inpainting_mask(grayscale_image)

            # Extract goal patch (example using center coordinates and patch size)
            center_x, center_y = 100, 100  # Example center coordinates
            patch_size = 16  # Example patch size
            goal_patch = extract_patch(reconstructed_image, center_x, center_y, patch_size)

            # Find similar patches
            similar_patches, _ = find_similar_patches(reconstructed_image, goal_patch, num_patches=3)  # Adjust num_patches as needed

            # Inpainting algorithm (example: choosing the most similar patch)
            inpainted_patch = inpaint_image(goal_patch, similar_patches)

            # Display images
            display_images(original_image, reconstructed_image, mask, goal_patch, similar_patches, inpainted_patch, k)

# Example usage
if __name__ == "__main__":
    image_paths = ['parrots.jpeg', 'pepak.jpg']  # Replace with actual image paths
    k_values = [10, 20, 30]  # Example values for k

    main(image_paths, k_values)



def find_similar_patches(image, goal_patch, num_patches=10, patch_size=8):
    similar_patches = []
    patch_indices = []

    height, width = image.shape
    half_size = patch_size // 2

    for _ in range(num_patches):
        rand_y = np.random.randint(half_size, height - half_size)
        rand_x = np.random.randint(half_size, width - half_size)

        patch = image[rand_y - half_size:rand_y + half_size + 1,
                      rand_x - half_size:rand_x + half_size + 1]

        distance = np.linalg.norm(patch - goal_patch)
        similar_patches.append(patch)
        patch_indices.append((rand_x, rand_y, distance))

    # Sort patches based on distance (optional)
    similar_patches.sort(key=lambda x: x[2])  # Sort by distance

    return similar_patches, patch_indices









image_raw = imread("parrots.jpeg")
print(image_raw.shape)

plt.figure(figsize=[8,8])
plt.imshow(image_raw)


# Show the new shape of the image
image_sum = image_raw.sum(axis=2)
print(image_sum.shape)

# Show the max value at any point.  1.0 = Black, 0.0 = White
image_bw = image_sum/image_sum.max()
print(image_bw.max())


pca = PCA()
pca.fit(image_bw)

# Getting the cumulative variance
var_cumu = np.cumsum(pca.explained_variance_ratio_)*100

# How many PCs explain 95% of the variance?
k = np.argmax(var_cumu>95)
print("Number of components explaining 95% variance: "+ str(k))
#print("\n")

plt.figure(figsize=[8,8])
plt.title('Cumulative Explained Variance explained by component')
plt.ylabel('Cumulative Explained variance (%)')
plt.xlabel('Principal components')
plt.axvline(x=k, color="k", linestyle="--")
plt.axhline(y=95, color="r", linestyle="--")
ax = plt.plot(var_cumu)


len(pca.components_)


ipca = IncrementalPCA(n_components=k)
image_recon = ipca.inverse_transform(ipca.fit_transform(image_bw))

# Plotting the reconstructed image
plt.figure(figsize=[8,8])
plt.imshow(image_recon,cmap = plt.cm.gray)






def plot_at_k(k):
    ipca = IncrementalPCA(n_components=k)
    image_recon = ipca.inverse_transform(ipca.fit_transform(image_bw))
    plt.imshow(image_recon,cmap = plt.cm.gray)

ks = [10, 25, 50, 100, 150, 250]

plt.figure(figsize=[15,9])

for i in range(6):
    plt.subplot(2,3,i+1)
    plot_at_k(ks[i])
    plt.title("Components: "+str(ks[i]))

plt.subplots_adjust(wspace=0.2, hspace=0.0)
plt.show()



# Load the image
image_raw = imread("parrots.jpeg")

# Convert image to grayscale and normalize
image_gray = np.dot(image_raw[...,:3], [0.2989, 0.5870, 0.1140])  # Convert to grayscale
image_bw = image_gray / 255.0  # Normalize to [0, 1]

# Perform PCA
pca = PCA()
pca.fit(image_bw)

# Cumulative variance
var_cumu = np.cumsum(pca.explained_variance_ratio_) * 100

# Number of components explaining 95% of the variance
k = np.argmax(var_cumu > 95)
print("Number of components explaining 95% variance: " + str(k))

# Function to calculate percentage of image represented by k components
def percentage_of_image(k):
    return np.sum(pca.explained_variance_ratio_[:k]) * 100

# Function to reconstruct the image with k components
def reconstruct_image(k):
    ipca = IncrementalPCA(n_components=k)
    image_transformed = ipca.fit_transform(image_bw)
    image_recon = ipca.inverse_transform(image_transformed)
    return image_recon

# Display eigenvectors, eigenvalues, and variance for each component
for i in range(k):
    print(f"Component {i+1}:")
    print(f"Eigenvector: {pca.components_[i]}")
    print(f"Eigenvalue: {pca.explained_variance_[i]}")
    print(f"Variance: {pca.explained_variance_[i] / np.sum(pca.explained_variance_)}")
    print("\n")

# Plot reconstructed images for different k values
ks = [10, 25, 50, 100, 150, 250]

for i, k_value in enumerate(ks):
    image_recon = reconstruct_image(k_value)
    plt.figure(figsize=[8, 8])  # Create a new figure for each subplot
    plt.imshow(image_recon, cmap=plt.cm.gray)
    plt.title("Components: " + str(k_value))
    plt.xlabel("Percentage of Image: {:.2f}%".format(percentage_of_image(k_value)))
    plt.show()

plt.tight_layout()  # Adjust layout to prevent overlapping
plt.show()



# Load the image and convert it to grayscale
img = Image.open('parrots.jpeg').convert('L')

# Convert the image to a numpy array
img_array = np.array(img)

# Flatten the image array
img_array_flat = img_array.flatten().reshape(-1, 1)

# Apply PCA to get the low-rank component
n_components = 1  # You can change the number of components
pca = PCA(n_components=n_components)
low_rank_component = pca.fit_transform(img_array_flat)

# Reshape the low-rank component to the original image shape
low_rank_component = low_rank_component.reshape(img_array.shape)

# Calculate the sparse component
sparse_component = img_array_flat.reshape(img_array.shape) - low_rank_component

# Display the images
plt.figure(figsize=(12, 6))



plt.subplot(1, 3, 2)
plt.imshow(low_rank_component, cmap='gray')
plt.title('Low-Rank Component')
plt.axis('on')

plt.subplot(1, 3, 3)
plt.imshow(sparse_component, cmap='gray')
plt.title('Sparse Component')
plt.axis('on')

plt.tight_layout()
plt.show()




# Load the image and convert it to grayscale
img = Image.open('parrots.jpeg').convert('L')

# Convert the image to a numpy array
img_array = np.array(img)
print(img_array)
# Reshape the image array to have 64 features
img_features = img_array.reshape(-1, 64)
print(img_features)
# Apply Sparse Coding to the image
sparse_coder = SparseCoder(dictionary=np.random.randn(64, 64), transform_algorithm='lasso_lars')
sparse_code = sparse_coder.transform(img_features)

sparse_image = np.dot(sparse_code, np.random.randn(64, 64)).reshape(img_array.shape)
print(sparse_coder)
# Apply PCA decomposition on the image array
pca = PCA(n_components=64)
img_low_rank = pca.fit_transform(img_features)
print(img_low_rank)
img_reconstructed_pca = pca.inverse_transform(img_low_rank).reshape(img_array.shape)

# Display the original image, sparse image, low-rank image, and reconstructed image
fig, ax = plt.subplots(1, 4, figsize=(16, 4))

ax[0].imshow(img_array, cmap='gray')
ax[0].set_title('Original Image')
ax[0].axis('off')

ax[1].imshow(sparse_image, cmap='gray')
ax[1].set_title('Sparse Image')
ax[1].axis('off')

ax[2].imshow(img_low_rank.reshape(img_array.shape), cmap='gray')
ax[2].set_title('Low-Rank Image (PCA)')
ax[2].axis('off')

ax[3].imshow(img_reconstructed_pca, cmap='gray')
ax[3].set_title('Reconstructed Image')
ax[3].axis('off')

plt.tight_layout()
plt.show()

cv2.imwrite('sparse_image.jpg', sparse_image)
cv2.imwrite('img_low_rank.jpg', img_low_rank)
cv2.imwrite('img_reconstructed_pca.jpg', img_reconstructed_pca)




