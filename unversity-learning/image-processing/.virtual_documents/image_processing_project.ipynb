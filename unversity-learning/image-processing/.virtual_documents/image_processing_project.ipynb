





#######     grayscale_image for k=10%  #######
import numpy as np
import matplotlib.pyplot as plt
from skimage import io, color

# Step 1: Read the image
def read_image(image_path):
    image = io.imread(image_path)
    return image

# Step 2: Convert the image to grayscale
def convert_to_grayscale(image):
    grayscale_image = color.rgb2gray(image)
    return grayscale_image

# Step 3: Perform SVD on the grayscale image
def perform_svd(image):
    U, S, Vt = np.linalg.svd(image, full_matrices=False)
    return U, S, Vt

# Step 4: Keep top k singular values and reconstruct the image
def reconstruct_image(U, S, Vt, k):
    total_singular_values = len(S)
    k_values = int(total_singular_values * k / 100)
    S_k = np.diag(S[:k_values])
    U_k = U[:, :k_values]
    Vt_k = Vt[:k_values, :]
    reconstructed_image = np.dot(U_k, np.dot(S_k, Vt_k))
    return reconstructed_image

# Step 5: Display the original and reconstructed images
def display_images(original_image, reconstructed_image, k):
    fig, axs = plt.subplots(1, 2, figsize=(12, 6))
    axs[0].imshow(original_image)
    axs[0].set_title('Original Image')
    axs[0].axis('on')
    axs[1].imshow(reconstructed_image, cmap='gray')
    axs[1].set_title(f'Reconstructed Image with top {k}% singular values')
    axs[1].axis('on')
    plt.show()

# Step 6: Print matrices and singular values
def print_matrices(U, S, Vt, k):
    np.set_printoptions(precision=3, suppress=True)
    print("Matrix U (shape: {}):".format(U.shape))
    print(U)

    print("\nSingular values (length: {}):".format(len(S)))
    print(np.diag(S))  # Print singular values as a diagonal matrix

    print(f"\nTop {k} singular values:")
    print(np.diag(S[:k]))  # Print top k singular values as a diagonal matrix

    print("\nMatrix Vt (shape: {}):".format(Vt.shape))
    print(Vt)

# Main function to execute the steps
def main(image_path, k):
    original_image = read_image(image_path)
    if original_image is None:
        print("Error: Unable to read the image. Please check the path.")
        return
    grayscale_image = convert_to_grayscale(original_image)
    U, S, Vt = perform_svd(grayscale_image)
    print_matrices(U, S, Vt, k)
    reconstructed_image = reconstruct_image(U, S, Vt, k)
    display_images(original_image, reconstructed_image, k)

# Provide the image path and the value of k
image_path = 'parrots.jpeg'  # Replace with your image path
k = 10  # Percentage of singular values to keep

# Run the main function
main(image_path, k)


#######     grayscale_image for k=10%  #######
import numpy as np
import matplotlib.pyplot as plt
from skimage import io, color

# Step 1: Read the image
def read_image(image_path):
    image = io.imread(image_path)
    return image

# Step 2: Convert the image to grayscale
def convert_to_grayscale(image):
    grayscale_image = color.rgb2gray(image)
    return grayscale_image

# Step 3: Perform SVD on the grayscale image
def perform_svd(image):
    U, S, Vt = np.linalg.svd(image, full_matrices=False)
    return U, S, Vt


# Step 4: Keep top k singular values and reconstruct the image
def reconstruct_image(U, S, Vt, k):
    total_singular_values = len(S)
    k_values = int(total_singular_values * k / 100)
    S_k = np.zeros((total_singular_values, total_singular_values))  # Create a square matrix
    S_k[:k_values, :k_values] = np.diag(S[:k_values])  # Set the top k singular values on the diagonal
    U_k = U[:, :k_values]
    Vt_k = Vt[:k_values, :]
    # Ensure the dimensions are aligned for multiplication
    reconstructed_image = np.dot(U_k, np.dot(S_k, Vt_k))
    return reconstructed_image
# Step 5: Reconstruct image
def reconstruct_image(U, S, Vt, k):
    total_singular_values = len(S)
    reconstructed_S = np.zeros((U.shape[1], Vt.shape[0]))
    reconstructed_S[:k, :k] = np.diag(S[:k])

    reconstructed_image = U.dot(reconstructed_S).dot(Vt)
    return reconstructed_image
# Step 6: Print matrices and singular values
def print_matrices(U, S, Vt, k):
    np.set_printoptions(precision=3, suppress=True)
    print("Matrix U (shape: {}):".format(U.shape))
    print(U)

    print("\n\n\nSingular values (length: {}):".format(len(S)))
    print(np.diag(S))  # Print singular values as a diagonal matrix

    k_values = int(len(S) * k / 100)
    S_k = np.zeros_like(S)
    S_k[:k_values] = S[:k_values]
    print(f"\n\n\n\nTop {k}% singular values (diagonal matrix):")
    print(np.diag(S_k))  # Print top k singular values as a diagonal matrix

    print("\nMatrix Vt (shape: {}):".format(Vt.shape))
    print(Vt)


def process_multiple_images(image_paths, k):
    for image_path in image_paths:
        original_image = read_image(image_path)
        if original_image is None:
            print(f"Error: Unable to read the image {image_path}. Please check the path.")
            continue
        grayscale_image = convert_to_grayscale(original_image)
        U, S, Vt = perform_svd(grayscale_image)
        print_matrices(U, S, Vt, k)
        reconstructed_image = reconstruct_image(U, S, Vt, k)
        display_images(original_image, reconstructed_image, k)
# Main function to execute the steps
def main(image_paths, k):
    process_multiple_images(image_paths, k)

# Provide a list of image paths and the value of k
image_paths = ['parrots.jpeg', 'flowers.jpeg', 'pepak.jpg']  # Replace with your image paths
k = 10  # Percentage of singular values to keep

# Run the main function
main(image_paths, k)


#######     grayscale_image for k=10%  #######
import numpy as np
import matplotlib.pyplot as plt
from skimage import io, color

# Step 1: Read the image
def read_image(image_path):
    image = io.imread(image_path)
    return image

# Step 2: Convert the image to grayscale
def convert_to_grayscale(image):
    grayscale_image = color.rgb2gray(image)
    return grayscale_image

# Step 3: Perform SVD on the grayscale image
def perform_svd(image):
    U, S, Vt = np.linalg.svd(image, full_matrices=False)
    return U, S, Vt

# Step 4: Keep top k singular values and reconstruct the image
def reconstruct_image(U, S, Vt, k):
    total_singular_values = len(S)
    k_values = int(total_singular_values * k / 100)
    S_k = np.diag(S[:k_values])
    U_k = U[:, :k_values]
    Vt_k = Vt[:k_values, :]
    reconstructed_image = np.dot(U_k, np.dot(S_k, Vt_k))
    return reconstructed_image

# Step 5: Display the original and reconstructed images
def display_images(original_image, reconstructed_image, k):
    fig, axs = plt.subplots(1, 2, figsize=(12, 6))
    axs[0].imshow(original_image)
    axs[0].set_title('Original Image')
    axs[0].axis('on')
    axs[1].imshow(reconstructed_image, cmap='gray')
    axs[1].set_title(f'Reconstructed Image with top {k}% singular values')
    axs[1].axis('on')
    plt.show()

# Step 6: Print matrices and singular values
def print_matrices(U, S, Vt, k):
    np.set_printoptions(precision=3, suppress=True)
    print("Matrix U (shape: {}):".format(U.shape))
    print(U)

    print("\nSingular values (length: {}):".format(len(S)))
    print(np.diag(S))  # Print singular values as a diagonal matrix

    print(f"\nTop {k} singular values:")
    print(np.diag(S[:k]))  # Print top k singular values as a diagonal matrix

    print("\nMatrix Vt (shape: {}):".format(Vt.shape))
    print(Vt)

# Main function to execute the steps
def main(image_path, k):
    original_image = read_image(image_path)
    if original_image is None:
        print("Error: Unable to read the image. Please check the path.")
        return
    grayscale_image = convert_to_grayscale(original_image)
    U, S, Vt = perform_svd(grayscale_image)
    print_matrices(U, S, Vt, k)
    reconstructed_image = reconstruct_image(U, S, Vt, k)
    display_images(original_image, reconstructed_image, k)

# Provide the image path and the value of k
image_path = '54.png'  # Replace with your image path
k = 10  # Percentage of singular values to keep

# Run the main function
main(image_path, k)


import numpy as np
import matplotlib.pyplot as plt
from skimage import io, color

# Step 1: Read the image
def read_image(image_path):
    image = io.imread(image_path)
    return image

# Step 2: Convert the image to grayscale
def convert_to_grayscale(image):
    grayscale_image = color.rgb2gray(image)
    return grayscale_image

# Step 3: Perform SVD on the grayscale image
def perform_svd(image):
    U, S, Vt = np.linalg.svd(image, full_matrices=False)
    return U, S, Vt

# Step 4: Keep top k singular values and reconstruct the image
def reconstruct_image(U, S, Vt, k):
    total_singular_values = len(S)
    k_values = int(total_singular_values * k / 100)
    S_k = np.diag(S[:k_values])
    U_k = U[:, :k_values]
    Vt_k = Vt[:k_values, :]
    reconstructed_image = np.dot(U_k, np.dot(S_k, Vt_k))
    return reconstructed_image

# Step 5: Display the original and reconstructed images
def display_images(original_image, reconstructed_image, k):
    fig, axs = plt.subplots(1, 2, figsize=(12, 6))
    axs[0].imshow(original_image, cmap='gray')
    axs[0].set_title('Original Image')
    axs[0].axis('off')
    axs[1].imshow(reconstructed_image, cmap='gray')
    axs[1].set_title(f'Reconstructed Image with top {k}% singular values')
    axs[1].axis('off')
    plt.show()

# # Step 6: Print matrices and singular values
# def print_matrices(U, S, Vt, k):
#     np.set_printoptions(precision=3, suppress=True)
#     print("Matrix U (shape: {}):".format(U.shape))
#     print(U)

#     print("\nSingular values (length: {}):".format(len(S)))
#     print(np.diag(S))  # Print singular values as a diagonal matrix

#     print(f"\nTop {k} singular values:")
#     print(np.diag(S[:k]))  # Print top k singular values as a diagonal matrix

#     print("\nMatrix Vt (shape: {}):".format(Vt.shape))
#     print(Vt)
# Step 6: Print matrices and singular values
def print_matrices(U, S, Vt, k):
    np.set_printoptions(precision=3, suppress=True)

    # Print matrix U
    print("Matrix U (shape: {}):".format(U.shape))
    for row in U:
        print('[', end='')
        for val in row:
            print(f'{val:.3f}', end=' ')
        print(']')

    # Print singular values
    print("\nSingular values (length: {}):".format(len(S)))
    print(np.diag(S))  # Print singular values as a diagonal matrix

    # Keep top k singular values and print
    print(f"\nTop {k} singular values:")
    top_k_singular_values = np.zeros(len(S))
    top_k_singular_values[:k] = S[:k]
    print(top_k_singular_values)

    # Print matrix Vt
    print("\nMatrix Vt (shape: {}):".format(Vt.shape))
    for row in Vt:
        print('[', end='')
        for val in row:
            print(f'{val:.3f}', end=' ')
        print(']')

# Adjust the reconstruct_image function
def reconstruct_image(U, S, Vt, k):
    total_singular_values = len(S)
    reconstructed_S = np.zeros_like(S)
    reconstructed_S[:k] = S[:k]
    reconstructed_image = np.dot(U, np.dot(np.diag(reconstructed_S), Vt))
    return reconstructed_image
# Function to process multiple images
def process_multiple_images(image_paths, k):
    for image_path in image_paths:
        original_image = read_image(image_path)
        if original_image is None:
            print(f"Error: Unable to read the image {image_path}. Please check the path.")
            continue
        grayscale_image = convert_to_grayscale(original_image)
        U, S, Vt = perform_svd(grayscale_image)
        print_matrices(U, S, Vt, k)
        reconstructed_image = reconstruct_image(U, S, Vt, k)
        display_images(original_image, reconstructed_image, k)

# Main function to execute the steps
def main(image_paths, k):
    process_multiple_images(image_paths, k)

# Provide a list of image paths and the value of k
image_paths = ['parrots.jpeg', 'flowers.jpeg', 'pepak.jpg']  # Replace with your image paths
k = 10  # Percentage of singular values to keep

# Run the main function
main(image_paths, k)


#######     grayscale_image for k=[10, 20, 30, 40, 50]percentage  #######
import numpy as np
import matplotlib.pyplot as plt
from skimage import io, color

# Step 1: Read the image
def read_image(image_path):
    image = io.imread(image_path)
    return image

# Step 2: Convert the image to grayscale
def convert_to_grayscale(image):
    grayscale_image = color.rgb2gray(image)
    return grayscale_image

# Step 3: Perform SVD on the grayscale image
def perform_svd(image):
    U, S, Vt = np.linalg.svd(image, full_matrices=False)
    return U, S, Vt

# Step 4: Keep top k singular values and reconstruct the image
def reconstruct_image(U, S, Vt, k):
    total_singular_values = len(S)
    k_values = int(total_singular_values * k / 100)
    S_k = np.diag(S[:k_values])
    U_k = U[:, :k_values]
    Vt_k = Vt[:k_values, :]
    reconstructed_image = np.dot(U_k, np.dot(S_k, Vt_k))
    return reconstructed_image

# Step 5: Display the original and reconstructed images
def display_images(original_image, reconstructed_image, k):
    fig, axs = plt.subplots(1, 2, figsize=(12, 6))
    axs[0].imshow(original_image)
    axs[0].set_title('Original Image')
    axs[0].axis('on')
    axs[1].imshow(reconstructed_image, cmap='gray')
    axs[1].set_title(f'Reconstructed Image with top {k}% singular values')
    axs[1].axis('on')
    plt.show()

# Step 6: Print matrices and singular values
def print_matrices(U, S, Vt, k):
    np.set_printoptions(precision=3, suppress=True)
    print("Matrix U (shape: {}):".format(U.shape))
    print(U)

    print("\nSingular values (length: {}):".format(len(S)))
    print(np.diag(S))  # Print singular values as a diagonal matrix

    print(f"\nTop {k} singular values:")
    print(np.diag(S[:k]))  # Print top k singular values as a diagonal matrix

    print("\nMatrix Vt (shape: {}):".format(Vt.shape))
    print(Vt)

# Main function to execute the steps
def main(image_path, k_values):
    original_image = read_image(image_path)
    if original_image is None:
        print("Error: Unable to read the image. Please check the path.")
        return
    grayscale_image = convert_to_grayscale(original_image)
    U, S, Vt = perform_svd(grayscale_image)
    for k in k_values:
        print(f"\n\nReconstruction for k={k}%:\n")
        print_matrices(U, S, Vt, k)
        reconstructed_image = reconstruct_image(U, S, Vt, k)
        display_images(original_image, reconstructed_image, k)

# Provide the image path and the list of k values
image_path = '54.png'  # Replace with your image path
k_values = [10, 20, 30, 40, 50]  # Percentage of singular values to keep

# Run the main function
main(image_path, k_values)


#######     grayscale_image for k=50  #######
import numpy as np
import matplotlib.pyplot as plt
from skimage import io, color

# Step 1: Read the image
def read_image(image_path):
    image = io.imread("parrots.jpeg")
    return image

# Step 2: Convert the image to grayscale
def convert_to_grayscale(image):
    grayscale_image = color.rgb2gray(image)
    return grayscale_image

# Step 3: Perform SVD on the grayscale image
#U: orthgonal matrix of left singular vectors
#S: Array of singular values
#Vt: Transpose of the orthogonol matrix of right singular vectors
#full_matrices=False indicate that the full SVD is not required, it is reduced diminsion

def perform_svd(image):
    U, S, Vt = np.linalg.svd(image, full_matrices=False)
    return U, S, Vt

# Step 4: Keep top k singular values and reconstruct the image
# S_k diag matrix which keep k singular value
# U_k reduced col
# Vt_k reduced rows
def reconstruct_image(U, S, Vt, k):
    S_k = np.diag(S[:k])
    U_k = U[:, :k]
    Vt_k = Vt[:k, :]
    reconstructed_image = np.dot(U_k, np.dot(S_k, Vt_k))
    return reconstructed_image

# Step 5: Display the original and reconstructed images
def display_images(original_image, reconstructed_image, k):
    fig, axs = plt.subplots(1, 2, figsize=(12, 6))

    axs[0].imshow(original_image)
    axs[0].set_title('Original Image')
    axs[0].axis('on')

    axs[1].imshow(reconstructed_image, cmap='gray')
    axs[1].set_title(f'Reconstructed Image with top {k} singular values')
    axs[1].axis('on')

    plt.show()

# Step 6: Print matrices and k singular values
def print_matrices(U, S, Vt, k):
    np.set_printoptions(precision=3, suppress=True)
    print("Matrix U (shape: {}):".format(U.shape))
    print(U)
    print("\nSingular values (length: {}):".format(len(S)))
    print(S)
    print(f"\nTop {k} singular values:")
    print(S[:k])
    print("\nMatrix Vt (shape: {}):".format(Vt.shape))
    print(Vt)

# Main function to execute the steps
def main(image_path, k):
    original_image = read_image(image_path)

    # Check if the original image is read correctly
    if original_image is None:
        print("Error: Unable to read the image. Please check the path.")
        return

    grayscale_image = convert_to_grayscale(original_image)
    U, S, Vt = perform_svd(grayscale_image)

    # Print matrices and singular values
    print_matrices(U, S, Vt, k)

    reconstructed_image = reconstruct_image(U, S, Vt, k)
    display_images(original_image, reconstructed_image, k)

# Provide the image path and the value of k
image_path = 'parrots.jpeg'  # Replace with your image path
k = 50  # Number of singular values to keep

# Run the main function
main(image_path, k)



#######     grayscale_image for k=10%  #######
import numpy as np
import matplotlib.pyplot as plt
from skimage import io, color

# Step 1: Read the image
def read_image(image_path):
    image = io.imread(image_path)
    return image

# Step 2: Convert the image to grayscale
def convert_to_grayscale(image):
    grayscale_image = color.rgb2gray(image)
    return grayscale_image

# Step 3: Perform SVD on the grayscale image
def perform_svd(image):
    U, S, Vt = np.linalg.svd(image, full_matrices=False)
    return U, S, Vt

# Step 4: Keep top k singular values and reconstruct the image
def reconstruct_image(U, S, Vt, k):
    total_singular_values = len(S)
    k_values = int(total_singular_values * k / 100)
    S_k = np.diag(S[:k_values])
    U_k = U[:, :k_values]
    Vt_k = Vt[:k_values, :]
    reconstructed_image = np.dot(U_k, np.dot(S_k, Vt_k))
    return reconstructed_image

# Step 5: Display the original and reconstructed images
def display_images(original_image, reconstructed_image, k):
    fig, axs = plt.subplots(1, 2, figsize=(12, 6))
    axs[0].imshow(original_image)
    axs[0].set_title('Original Image')
    axs[0].axis('on')
    axs[1].imshow(reconstructed_image, cmap='gray')
    axs[1].set_title(f'Reconstructed Image with top {k}% singular values')
    axs[1].axis('on')
    plt.show()

# Step 6: Print matrices and k singular values
def print_matrices(U, S, Vt, k):
    total_singular_values = len(S)
    k_values = int(total_singular_values * k / 100)
    np.set_printoptions(precision=3, suppress=True)
    print("Matrix U (shape: {}):".format(U.shape))
    print(U)
    print("\nSingular values (length: {}):".format(total_singular_values))
    print(S)
    print(f"\nTop {k}% singular values:")
    print(S[:k_values])
    print("\nMatrix Vt (shape: {}):".format(Vt.shape))
    print(Vt)

# Main function to execute the steps
def main(image_path, k):
    original_image = read_image(image_path)
    if original_image is None:
        print("Error: Unable to read the image. Please check the path.")
        return
    grayscale_image = convert_to_grayscale(original_image)
    U, S, Vt = perform_svd(grayscale_image)
    print_matrices(U, S, Vt, k)
    reconstructed_image = reconstruct_image(U, S, Vt, k)
    display_images(original_image, reconstructed_image, k)

# Provide the image path and the value of k
image_path = 'parrots.jpeg'  # Replace with your image path
k = 10  # Percentage of singular values to keep

# Run the main function
main(image_path, k)


#######     grayscale_image for k=[10, 20, 30, 40, 50]percentage  #######
import numpy as np
import matplotlib.pyplot as plt
from skimage import io, color

# Step 1: Read the image
def read_image(image_path):
    image = io.imread(image_path)
    return image

# Step 2: Convert the image to grayscale
def convert_to_grayscale(image):
    grayscale_image = color.rgb2gray(image)
    return grayscale_image

# Step 3: Perform SVD on the grayscale image
def perform_svd(image):
    U, S, Vt = np.linalg.svd(image, full_matrices=False)
    return U, S, Vt

# Step 4: Keep top k singular values and reconstruct the image
def reconstruct_image(U, S, Vt, k):
    total_singular_values = len(S)
    k_values = int(total_singular_values * k / 100)
    S_k = np.diag(S[:k_values])
    U_k = U[:, :k_values]
    Vt_k = Vt[:k_values, :]
    reconstructed_image = np.dot(U_k, np.dot(S_k, Vt_k))
    return reconstructed_image

# Step 5: Display the original and reconstructed images
def display_images(original_image, reconstructed_image, k):
    fig, axs = plt.subplots(1, 2, figsize=(12, 6))
    axs[0].imshow(original_image)
    axs[0].set_title('Original Image')
    axs[0].axis('on')
    axs[1].imshow(reconstructed_image, cmap='gray')
    axs[1].set_title(f'Reconstructed Image with top {k}% singular values')
    axs[1].axis('on')
    plt.show()

# Step 6: Print matrices and k singular values
def print_matrices(U, S, Vt, k):
    total_singular_values = len(S)
    k_values = int(total_singular_values * k / 100)
    np.set_printoptions(precision=3, suppress=True)
    print("Matrix U (shape: {}):".format(U.shape))
    print(U)
    print("\nSingular values (length: {}):".format(total_singular_values))
    print(S)
    print(f"\nTop {k}% singular values:")
    print(S[:k_values])
    print("\nMatrix Vt (shape: {}):".format(Vt.shape))
    print(Vt)

# Main function to execute the steps
def main(image_path, k_values):
    original_image = read_image(image_path)
    if original_image is None:
        print("Error: Unable to read the image. Please check the path.")
        return
    grayscale_image = convert_to_grayscale(original_image)
    U, S, Vt = perform_svd(grayscale_image)
    for k in k_values:
        print(f"\n\nReconstruction for k={k}%:\n")
        print_matrices(U, S, Vt, k)
        reconstructed_image = reconstruct_image(U, S, Vt, k)
        display_images(original_image, reconstructed_image, k)

# Provide the image path and the list of k values
image_path = '63-1.png'  # Replace with your image path
k_values = [10, 20, 30, 40, 50]  # Percentage of singular values to keep

# Run the main function
main(image_path, k_values)


#######     grayscale_image for k=[10, 20, 30, 40, 50]percentage  #######
import numpy as np
import matplotlib.pyplot as plt
from skimage import io, color

# Step 1: Read the image
def read_image(image_path):
    image = io.imread(image_path)
    return image

# Step 2: Convert the image to grayscale
def convert_to_grayscale(image):
    grayscale_image = color.rgb2gray(image)
    return grayscale_image

# Step 3: Perform SVD on the grayscale image
def perform_svd(image):
    U, S, Vt = np.linalg.svd(image, full_matrices=False)
    return U, S, Vt

# Step 4: Keep top k singular values and reconstruct the image
def reconstruct_image(U, S, Vt, k):
    total_singular_values = len(S)
    k_values = int(total_singular_values * k / 100)
    S_k = np.diag(S[:k_values])
    U_k = U[:, :k_values]
    Vt_k = Vt[:k_values, :]
    reconstructed_image = np.dot(U_k, np.dot(S_k, Vt_k))
    return reconstructed_image

# Step 5: Display the original and reconstructed images
def display_images(original_image, reconstructed_image, k):
    fig, axs = plt.subplots(1, 2, figsize=(12, 6))
    axs[0].imshow(original_image)
    axs[0].set_title('Original Image')
    axs[0].axis('on')
    axs[1].imshow(reconstructed_image, cmap='gray')
    axs[1].set_title(f'Reconstructed Image with top {k}% singular values')
    axs[1].axis('on')
    plt.show()

# Step 6: Print matrices and k singular values
def print_matrices(U, S, Vt, k):
    total_singular_values = len(S)
    k_values = int(total_singular_values * k / 100)
    np.set_printoptions(precision=3, suppress=True)
    print("Matrix U (shape: {}):".format(U.shape))
    print(U)
    print("\nSingular values (length: {}):".format(total_singular_values))
    print(S)
    print(f"\nTop {k}% singular values:")
    print(S[:k_values])
    print("\nMatrix Vt (shape: {}):".format(Vt.shape))
    print(Vt)

# Main function to execute the steps
def main(image_path, k_values):
    original_image = read_image(image_path)
    if original_image is None:
        print("Error: Unable to read the image. Please check the path.")
        return
    grayscale_image = convert_to_grayscale(original_image)
    U, S, Vt = perform_svd(grayscale_image)
    for k in k_values:
        print(f"\n\nReconstruction for k={k}%:\n")
        print_matrices(U, S, Vt, k)
        reconstructed_image = reconstruct_image(U, S, Vt, k)
        display_images(original_image, reconstructed_image, k)

# Provide the image path and the list of k values
image_path = 'parrots.jpeg'  # Replace with your image path
k_values = [10, 20, 30, 40, 50]  # Percentage of singular values to keep

# Run the main function
main(image_path, k_values)


#######     grayscale_image for k=[10, 20, 30, 40, 50]percentage and use threshold  #######
#### If it is larger than one number compared to two single points, we should remove some percentage of k  #######
import numpy as np
import matplotlib.pyplot as plt
from skimage import io, color

# Step 1: Read the image
def read_image(image_path):
    image = io.imread(image_path)
    return image

# Step 2: Convert the image to grayscale
def convert_to_grayscale(image):
    grayscale_image = color.rgb2gray(image)
    return grayscale_image

# Step 3: Perform SVD on the grayscale image
def perform_svd(image):
    U, S, Vt = np.linalg.svd(image, full_matrices=False)
    return U, S, Vt

# Step 4: Keep top k singular values and reconstruct the image
def reconstruct_image(U, S, Vt, k):
    total_singular_values = len(S)
    k_values = int(total_singular_values * k / 100)
    S_k = np.diag(S[:k_values])
    U_k = U[:, :k_values]
    Vt_k = Vt[:k_values, :]
    reconstructed_image = np.dot(U_k, np.dot(S_k, Vt_k))
    return reconstructed_image

# Step 5: Display the original and reconstructed images
def display_images(original_image, reconstructed_image, k):
    fig, axs = plt.subplots(1, 2, figsize=(12, 6))
    axs[0].imshow(original_image)
    axs[0].set_title('Original Image')
    axs[0].axis('on')
    axs[1].imshow(reconstructed_image, cmap='gray')
    axs[1].set_title(f'Reconstructed Image with top {k}% singular values')
    axs[1].axis('on')
    plt.show()

# Step 6: Print matrices and k singular values
def print_matrices(U, S, Vt, k):
    total_singular_values = len(S)
    k_values = int(total_singular_values * k / 100)
    np.set_printoptions(precision=3, suppress=True)
    print("Matrix U (shape: {}):".format(U.shape))
    print(U)
    print("\nSingular values (length: {}):".format(total_singular_values))
    print(S)
    print(f"\nTop {k}% singular values:")
    print(S[:k_values])
    print("\nMatrix Vt (shape: {}):".format(Vt.shape))
    print(Vt)

# Main function to execute the steps
def main(image_path, k_values):
    original_image = read_image(image_path)
    if original_image is None:
        print("Error: Unable to read the image. Please check the path.")
        return
    grayscale_image = convert_to_grayscale(original_image)
    U, S, Vt = perform_svd(grayscale_image)
    threshold=0.9
    for k in k_values:
      if S[0]/S[1]>threshold:
        k=int(k*0.3)
        print(f"Ratio of the first two singular values is geater than {threshold}.Reducing k to {k}%")
        print(f"\n\nReconstruction for k={k}%:\n")
        print_matrices(U, S, Vt, k)
        reconstructed_image = reconstruct_image(U, S, Vt, k)
        display_images(original_image, reconstructed_image, k)

# Provide the image path and the list of k values
image_path = 'parrots.jpeg'  # Replace with your image path
k_values = [10, 20, 30, 40, 50]  # Percentage of singular values to keep

# Run the main function
main(image_path, k_values)





import numpy as np
import matplotlib.pyplot as plt
from skimage import io

# Step 1: Read the image
def read_image(image_path):
    image = io.imread("parrots.jpeg")
    return image

# Step 2: Perform SVD on a single color channel
def perform_svd(channel):
    U, S, Vt = np.linalg.svd(channel, full_matrices=False)
    return U, S, Vt

# Step 3: Reconstruct the image using the top k singular values for a single channel
def reconstruct_channel(U, S, Vt, k):
    S_k = np.diag(S[:k])
    U_k = U[:, :k]
    Vt_k = Vt[:k, :]
    reconstructed_channel = np.dot(U_k, np.dot(S_k, Vt_k))
    return reconstructed_channel

# Step 4: Display the original and reconstructed images
def display_images(original_image, reconstructed_image, k):
    fig, axs = plt.subplots(1, 2, figsize=(12, 6))

    axs[0].imshow(original_image)
    axs[0].set_title('Original Image')
    axs[0].axis('on')

    axs[1].imshow(reconstructed_image.astype(np.uint8))
    axs[1].set_title(f'Reconstructed Image with top {k} singular values per channel')
    axs[1].axis('on')

    plt.show()

# Step 5: Print matrices and k singular values for each channel
def print_matrices(U, S, Vt, k, channel_name):
    np.set_printoptions(precision=3, suppress=True)
    print(f"Matrix U ({channel_name} channel) (shape: {U.shape}):")
    print(U)
    print(f"\nSingular values ({channel_name} channel) (length: {len(S)}):")
    print(S)
    print(f"\nTop {k} singular values ({channel_name} channel):")
    print(S[:k])
    print(f"\nMatrix Vt ({channel_name} channel) (shape: {Vt.shape}):")
    print(Vt)

# Main function to execute the steps
def main(image_path, k):
    original_image = read_image(image_path)

    # Check if the original image is read correctly
    if original_image is None:
        print("Error: Unable to read the image. Please check the path.")
        return

    # Split the image into RGB channels
    red_channel = original_image[:, :, 0]
    green_channel = original_image[:, :, 1]
    blue_channel = original_image[:, :, 2]

    # Perform SVD on each channel
    U_red, S_red, Vt_red = perform_svd(red_channel)
    U_green, S_green, Vt_green = perform_svd(green_channel)
    U_blue, S_blue, Vt_blue = perform_svd(blue_channel)

    # Print matrices and singular values for each channel
    print_matrices(U_red, S_red, Vt_red, k, 'Red')
    print_matrices(U_green, S_green, Vt_green, k, 'Green')
    print_matrices(U_blue, S_blue, Vt_blue, k, 'Blue')

    # Reconstruct each channel using the top k singular values
    reconstructed_red = reconstruct_channel(U_red, S_red, Vt_red, k)
    reconstructed_green = reconstruct_channel(U_green, S_green, Vt_green, k)
    reconstructed_blue = reconstruct_channel(U_blue, S_blue, Vt_blue, k)

    # Stack the reconstructed channels to form the final image
    reconstructed_image = np.stack((reconstructed_red, reconstructed_green, reconstructed_blue), axis=2)

    # Display the original and reconstructed images
    display_images(original_image, reconstructed_image, k)

# Provide the image path and the value of k
image_path = 'parrots.jpeg'  # Replace with your image path
k = 50  # Number of singular values to keep

# Run the main function
main(image_path, k)



import numpy as np
import matplotlib.pyplot as plt
from skimage import io

# Step 1: Read the image
def read_image(image_path):
    image = io.imread("parrots.jpeg")
    return image

# Step 2: Perform SVD on a single color channel
def perform_svd(channel):
    U, S, Vt = np.linalg.svd(channel, full_matrices=False)
    return U, S, Vt

# Step 3: Reconstruct the image using the top k singular values for a single channel
def reconstruct_channel(U, S, Vt, k):
    S_k = np.diag(S[:k])
    U_k = U[:, :k]
    Vt_k = Vt[:k, :]
    reconstructed_channel = np.dot(U_k, np.dot(S_k, Vt_k))
    return reconstructed_channel

# Step 4: Display the original and reconstructed images
def display_images(original_image, reconstructed_image, k):
    fig, axs = plt.subplots(1, 2, figsize=(12, 6))

    axs[0].imshow(original_image)
    axs[0].set_title('Original Image')
    axs[0].axis('on')

    axs[1].imshow(reconstructed_image.astype(np.uint8))
    axs[1].set_title(f'Reconstructed Image with top {k} singular values per channel')
    axs[1].axis('on')

    plt.show()

# Step 5: Print matrices and k singular values for each channel
def print_matrices(U, S, Vt, k, channel_name):
    np.set_printoptions(precision=3, suppress=True)
    print(f"Matrix U ({channel_name} channel) (shape: {U.shape}):")
    print(U)
    print(f"\nSingular values ({channel_name} channel) (length: {len(S)}):")
    print(S)
    print(f"\nTop {k} singular values ({channel_name} channel):")
    print(S[:k])
    print(f"\nMatrix Vt ({channel_name} channel) (shape: {Vt.shape}):")
    print(Vt)

# Main function to execute the steps
def main(image_path, k):
    original_image = read_image(image_path)

    # Check if the original image is read correctly
    if original_image is None:
        print("Error: Unable to read the image. Please check the path.")
        return

    # Split the image into RGB channels
    red_channel = original_image[:, :, 0]
    green_channel = original_image[:, :, 1]
    blue_channel = original_image[:, :, 2]

    # Perform SVD on each channel
    U_red, S_red, Vt_red = perform_svd(red_channel)
    U_green, S_green, Vt_green = perform_svd(green_channel)
    U_blue, S_blue, Vt_blue = perform_svd(blue_channel)

    # Print matrices and singular values for each channel
    print_matrices(U_red, S_red, Vt_red, k, 'Red')
    print_matrices(U_green, S_green, Vt_green, k, 'Green')
    print_matrices(U_blue, S_blue, Vt_blue, k, 'Blue')

    # Reconstruct each channel using the top k singular values
    reconstructed_red = reconstruct_channel(U_red, S_red, Vt_red, k)
    reconstructed_green = reconstruct_channel(U_green, S_green, Vt_green, k)
    reconstructed_blue = reconstruct_channel(U_blue, S_blue, Vt_blue, k)

    # Stack the reconstructed channels to form the final image
    reconstructed_image = np.stack((reconstructed_red, reconstructed_green, reconstructed_blue), axis=2)

    # Display the original and reconstructed images
    display_images(original_image, reconstructed_image, k)

# Provide the image path and the value of k
image_path = 'parrots.jpeg'  # Replace with your image path
k = 30  # Number of singular values to keep

# Run the main function
main(image_path, k)



#######     RGB_image for k=[10, 30, 50, 100]  #######
import cv2
import numpy as np
import matplotlib.pyplot as plt

def load_image(file_path):
    image = cv2.imread(file_path)
    image = cv2.cvtColor(image, cv2.COLOR_BGR2RGB)  # Convert BGR to RGB
    return image

def svd_decomposition(image, num_components):
    red_channel, green_channel, blue_channel = image[:, :, 0], image[:, :, 1], image[:, :, 2]
    channels = [red_channel, green_channel, blue_channel]

    reconstructed_channels = []
    for channel in channels:
        U, S, Vt = np.linalg.svd(channel, full_matrices=False)
        reconstructed_channel = np.dot(U[:, :num_components], np.dot(np.diag(S[:num_components]), Vt[:num_components, :]))
        reconstructed_channel = np.clip(reconstructed_channel, 0, 255).astype(np.uint8)
        reconstructed_channels.append(reconstructed_channel)

    reconstructed_image = np.stack(reconstructed_channels, axis=-1)
    return reconstructed_image

def plot_images(original_image, reconstructed_image, num_components):
    plt.figure(figsize=(10, 5))
    plt.subplot(1, 2, 1)
    plt.imshow(original_image)
    plt.title("Original Image")
    print("\nOriginal Image Matrix:")
    print(image)


    print("\nReconstructed Image Matrix:")
    print(reconstructed_image)
    plt.subplot(1, 2, 2)
    plt.imshow(reconstructed_image)
    plt.title(f"Reconstructed Image (Using {num_components} components)")

    plt.tight_layout()
    plt.show()

# Load the image
image_path = '/content/parrots.jpeg'
image = load_image(image_path)

# Perform SVD decomposition on each channel with different number of components
num_components_list = [10, 30, 50, 100]
for num_components in num_components_list:
    reconstructed_image = svd_decomposition(image, num_components)
    plot_images(image, reconstructed_image, num_components)



#######     RGB_image for k=[10, 20, 30, 40, 50]percentage  #######
import cv2
import numpy as np
import matplotlib.pyplot as plt

def load_image(file_path):
    image = cv2.imread(file_path)
    image = cv2.cvtColor(image, cv2.COLOR_BGR2RGB)  # Convert BGR to RGB
    return image

def svd_decomposition(image, k_percentage):
    red_channel, green_channel, blue_channel = image[:, :, 0], image[:, :, 1], image[:, :, 2]
    channels = [red_channel, green_channel, blue_channel]
    reconstructed_channels = []
    for channel in channels:
        U, S, Vt = np.linalg.svd(channel, full_matrices=False)
        total_singular_values = len(S)
        k_values = int(total_singular_values * k_percentage / 100)
        reconstructed_channel = np.dot(U[:, :k_values], np.dot(np.diag(S[:k_values]), Vt[:k_values, :]))
        reconstructed_channel = np.clip(reconstructed_channel, 0, 255).astype(np.uint8)
        reconstructed_channels.append(reconstructed_channel)
    reconstructed_image = np.stack(reconstructed_channels, axis=-1)
    return reconstructed_image

def plot_images(original_image, reconstructed_image, k_percentage):
    plt.figure(figsize=(10, 5))
    plt.subplot(1, 2, 1)
    plt.imshow(original_image)
    plt.title("Original Image")
    plt.subplot(1, 2, 2)
    plt.imshow(reconstructed_image)
    plt.title(f"Reconstructed Image (Using {k_percentage}% of singular values)")
    plt.tight_layout()
    plt.show()

# Load the image
image_path = '/content/22.png'
image = load_image(image_path)

# Perform SVD decomposition on each channel with different percentage of singular values
k_percentage_list = [10, 30, 50, 100]
for k_percentage in k_percentage_list:
    reconstructed_image = svd_decomposition(image, k_percentage)
    plot_images(image, reconstructed_image, k_percentage)


import numpy as np
from skimage import io, color
from skimage.metrics import structural_similarity as ssim
from skimage.metrics import peak_signal_noise_ratio as psnr
import matplotlib.pyplot as plt

# Load and preprocess the image
def read_image(image_path):
    try:
        return io.imread(image_path)
    except FileNotFoundError:
        return None

def convert_to_grayscale(image):
    return color.rgb2gray(image)

# Perform PCA on the grayscale image with top-k components
def perform_pca(grayscale_image, k):
    U, s, Vt = np.linalg.svd(grayscale_image, full_matrices=False)
    components = np.diag(s[:k])
    pca_image = np.dot(U[:, :k], np.dot(components, Vt[:k, :]))
    return pca_image

# Print matrices and display images
def display_images(inputs, outputs, title):
    fig, axes = plt.subplots(2, len(inputs), figsize=(15, 8))
    for i, image in enumerate(inputs):
        axes[0, i].imshow(image, cmap='gray')
        axes[0, i].set_title(f'Original Image {i+1}')
        axes[0, i].axis('off')
    for i, image in enumerate(outputs):
        axes[1, i].imshow(image, cmap='gray')
        axes[1, i].set_title(f'Reconstructed Image {i+1} (k={title[i]})')
        axes[1, i].axis('off')
    plt.show()

# Calculate SSIM and PSNR scores
def calculate_metrics(original_image, reconstructed_image):
    ssim_score = ssim(original_image, reconstructed_image, multichannel=False)
    psnr_score = psnr(original_image, reconstructed_image)
    return ssim_score, psnr_score

# Apply PCA with different k values to multiple images
def apply_pca_to_images(image_paths, k_values):
    for image_path in image_paths:
        original_image = read_image(image_path)
        if original_image is None:
            print(f"Error: Unable to read the image at path '{image_path}'.")
            continue
        grayscale_image = convert_to_grayscale(original_image)

        reconstructed_images = []
        for k in k_values:
            print(f"\n\nReconstruction for k={k}%:\n")

            pca_image = perform_pca(grayscale_image, k)
            reconstructed_images.append(pca_image)

            ssim_score, psnr_score = calculate_metrics(grayscale_image, pca_image)
            print(f"For {image_path} (k={k}):")
            print(f"SSIM Score: {ssim_score}")
            print(f"PSNR Score: {psnr_score}")

        display_images([grayscale_image]*len(k_values), reconstructed_images, k_values)

# Define image paths and k values
image_paths = ['54.png', '63-1.png']  # Add additional image paths if needed
k_values = [10, 20, 30, 40]  # Values of k (number of principal components)

# Apply PCA to multiple images with different k values
apply_pca_to_images(image_paths, k_values)


import numpy as np
from skimage import io, color
import matplotlib.pyplot as plt

# Load and preprocess the image
def read_image(image_path):
    try:
        return io.imread(image_path)
    except FileNotFoundError:
        return None

def convert_to_grayscale(image):
    return color.rgb2gray(image)

# Perform PCA on the grayscale image with top-k components
def perform_pca(grayscale_image, k):
    U, s, Vt = np.linalg.svd(grayscale_image, full_matrices=False)
    components = np.diag(s[:k])
    pca_image = np.dot(U[:, :k], np.dot(components, Vt[:k, :]))
    return pca_image

# Print matrices and display images
def display_images(inputs, outputs, title):
    fig, axes = plt.subplots(2, len(inputs), figsize=(15, 8))
    for i, image in enumerate(inputs):
        axes[0, i].imshow(image, cmap='gray')
        axes[0, i].set_title(f'Original Image {i+1}')
        axes[0, i].axis('off')
    for i, image in enumerate(outputs):
        axes[1, i].imshow(image, cmap='gray')
        axes[1, i].set_title(f'Reconstructed Image {i+1} (k={title[i]})')
        axes[1, i].axis('off')
    plt.show()


# Apply PCA with different k values to multiple images
def apply_pca_to_images(image_paths, k_values):
    for image_path in image_paths:
        original_image = read_image(image_path)
        if original_image is None:
            print(f"Error: Unable to read the image at path '{image_path}'.")
            continue
        grayscale_image = convert_to_grayscale(original_image)

        reconstructed_images = []
        for k in k_values:
            print(f"\n\nReconstruction for k={k}%:\n")

            pca_image = perform_pca(grayscale_image, k)
            reconstructed_images.append(pca_image)
            print(f"For {image_path} (k={k}):")
        display_images([grayscale_image]*len(k_values), reconstructed_images, k_values)

# Define image paths and k values
image_paths = ['54.png', '63-1.png']  # Add additional image paths if needed
k_values = [10, 20, 30, 40]  # Values of k (number of principal components)

# Apply PCA to multiple images with different k values
apply_pca_to_images(image_paths, k_values)


import numpy as np
from skimage import io, color
import matplotlib.pyplot as plt

# Load and preprocess the image
def read_image(image_path):
    try:
        return io.imread(image_path)
    except FileNotFoundError:
        return None

def convert_to_grayscale(image):
    return color.rgb2gray(image)

# Perform PCA on the grayscale image with top-k components
def perform_pca(grayscale_image, k):
    U, s, Vt = np.linalg.svd(grayscale_image, full_matrices=False)

    # Print U, S, Vt matrices
    print("Matrix U:")
    print(U)
    print("\nMatrix S (diagonal elements):")
    print(np.diag(s))
    print(f"\nTop {k} singular values:")
    print(np.diag(s[:k]))  # Print top k singular values as a diagonal matrix
    print("\nMatrix Vt:")
    print(Vt)

    components = np.diag(s[:k])
    pca_image = np.dot(U[:, :k], np.dot(components, Vt[:k, :]))
    return pca_image

# Print matrices and display images
def display_images(inputs, outputs, title):
    fig, axes = plt.subplots(2, len(inputs), figsize=(15, 8))
    for i, image in enumerate(inputs):
        axes[0, i].imshow(image, cmap='gray')
        axes[0, i].set_title(f'Original Image {i+1}')
        axes[0, i].axis('off')
    for i, image in enumerate(outputs):
        axes[1, i].imshow(image, cmap='gray')
        axes[1, i].set_title(f'Reconstructed Image {i+1} (k={title[i]})')
        axes[1, i].axis('off')
    plt.show()

# Apply PCA with different k values to multiple images
def apply_pca_to_images(image_paths, k_values):
    for image_path in image_paths:
        original_image = read_image(image_path)
        if original_image is None:
            print(f"Error: Unable to read the image at path '{image_path}'.")
            continue
        grayscale_image = convert_to_grayscale(original_image)

        reconstructed_images = []
        for k in k_values:
            print(f"\n\nReconstruction for k={k}%:\n")

            pca_image = perform_pca(grayscale_image, k)
            reconstructed_images.append(pca_image)

            # ssim_score, psnr_score = calculate_metrics(grayscale_image, pca_image)
            # print(f"For {image_path} (k={k}):")


        display_images([grayscale_image]*len(k_values), reconstructed_images, k_values)

# Define image paths and k values
image_paths = ['54.png', '63-1.png']  # Add additional image paths if needed
k_values = [10, 20, 30, 40]  # Values of k (number of principal components)

# Apply PCA to multiple images with different k values
apply_pca_to_images(image_paths, k_values)





import numpy as np
from sklearn.decomposition import PCA
from sklearn.preprocessing import StandardScaler
from PIL import Image

# List of image filenames
image_filenames = ['flowers.jpeg', 'parrots.jpeg', 'pepak.jpg']

# Define the desired size for all images
desired_size = (256, 256)  # Example size: 256x256 pixels

# Function to load an image, resize it, and convert it to grayscale
def load_and_resize_image(filename, size):
    img = Image.open(filename)
    img = img.resize(size, Image.Resampling.LANCZOS)  # Resize the image with LANCZOS filter
    img = img.convert('L')  # Convert to grayscale
    return np.array(img)

# Load images and flatten them into a 2D matrix
flattened_images = []
for filename in image_filenames:
    img = load_and_resize_image(filename, desired_size)
    flattened_images.append(img.flatten())

# Stack the flattened images into a single 2D array
X = np.vstack(flattened_images)

# Standardize the data
scaler = StandardScaler()
X_scaled = scaler.fit_transform(X)

# Determine the number of components based on the number of images and pixels
n_components = min(len(image_filenames), desired_size[0] * desired_size[1])

# Perform PCA
pca = PCA(n_components=n_components)
X_pca = pca.fit_transform(X_scaled)

# Print the sparse matrix (transformed data)
print("Sparse Matrix (PCA Transformed Data):")
print(X_pca)

# Print the loadings matrix (eigenvectors of the covariance matrix)
print("\nLoadings Matrix (Eigenvectors):")
print(pca.components_)

# Print the variance explained by each principal component
print("\nVariance Explained by Each Principal Component:")
print(pca.explained_variance_ratio_)


import numpy as np
import matplotlib.pyplot as plt
from sklearn.decomposition import PCA
from PIL import Image

# List of image filenames
image_filenames = ['flowers.jpeg', 'parrots.jpeg', 'pepak.jpg']

# Define the desired size for all images
desired_size = (256, 256)  # Example size: 256x256 pixels

# Function to load an image, resize it, and convert it to grayscale
def load_and_resize_image(filename, size):
    img = Image.open(filename)
    img = img.resize(size, Image.Resampling.LANCZOS)  # Resize the image with LANCZOS filter
    img = img.convert('L')  # Convert to grayscale
    return np.array(img)

# Load images and flatten them into a 2D matrix
flattened_images = []
for filename in image_filenames:
    img = load_and_resize_image(filename, desired_size)
    flattened_images.append(img.flatten())

# Stack the flattened images into a single 2D array
X = np.vstack(flattened_images)

# Determine the number of components based on the number of images and pixels
n_components = min(len(image_filenames), desired_size[0] * desired_size[1])

# Perform PCA
pca = PCA(n_components=n_components)
X_pca = pca.fit_transform(X)

# Reconstruct the images from the PCA components
X_reconstructed = pca.inverse_transform(X_pca)

# Function to display an image
def display_image(img_array, title):
    plt.imshow(img_array, cmap='gray')
    plt.title(title)
    plt.axis('off')
    plt.show()

# Display the original images
for i, filename in enumerate(image_filenames):
    img = load_and_resize_image(filename, desired_size)
    display_image(img, f'Original Image {i+1}')

# Display the reconstructed images from the PCA components
for i, reconstructed_img_flat in enumerate(X_reconstructed):
    reconstructed_img = reconstructed_img_flat.reshape(desired_size)
    display_image(reconstructed_img, f'Reconstructed Image {i+1} from PCA')

# Print the variance explained by each principal component
print("Variance Explained by Each Principal Component:")
print(pca.explained_variance_ratio_)


import numpy as np
import matplotlib.pyplot as plt
from sklearn.decomposition import PCA
from PIL import Image

# List of image filenames
image_filenames = ['flowers.jpeg', 'parrots.jpeg', 'pepak.jpg']

# Function to load an image, resize it to the smallest size, and convert it to grayscale
def load_and_resize_image(filename):
    img = Image.open(filename)
    img = img.convert('L')  # Convert to grayscale
    return img

# Load images and find the smallest size
images = []
min_size = float('inf')
for filename in image_filenames:
    img = load_and_resize_image(filename)
    images.append(img)
    min_size = min(min_size, img.width, img.height)

# Resize all images to the smallest size
resized_images = []
for img in images:
    if img.width != min_size or img.height != min_size:
        img = img.resize((min_size, min_size), Image.Resampling.LANCZOS)
    resized_images.append(img)

# Flatten the images into a 2D matrix
flattened_images = []
for img in resized_images:
    flattened_images.append(np.array(img).flatten())

# Stack the flattened images into a single 2D array
X = np.vstack(flattened_images)

# Determine the number of components based on the number of images and pixels
n_components = min(len(image_filenames), min_size * min_size)

# Perform PCA
pca = PCA(n_components=n_components)
X_pca = pca.fit_transform(X)

# Reconstruct the images from the PCA components
X_reconstructed = pca.inverse_transform(X_pca)

# Function to display an image
def display_image(img_array, title, size):
    plt.imshow(img_array.reshape(size), cmap='gray')
    plt.title(title)
    plt.axis('off')
    plt.show()

# Display the original images
for i, img in enumerate(resized_images):
    display_image(np.array(img), f'Original Image {i+1}', img.size)

# Display the reconstructed images from the PCA components
for i, reconstructed_img_flat in enumerate(X_reconstructed):
    display_image(reconstructed_img_flat, f'Reconstructed Image {i+1} from PCA', (min_size, min_size))

# Print the variance explained by each principal component
print("Variance Explained by Each Principal Component:")
print(pca.explained_variance_ratio_)
