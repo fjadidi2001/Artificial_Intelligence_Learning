











import numpy as np
import pandas as pd
import seaborn as sns
import matplotlib.pyplot as plt
import plotly.express as px


df = pd.read_csv("deliverytime.txt")
df.head()


df.info()


df.isnull().sum()











# Set the earth's radius (in kilometers)
R = 6371

# Convert degrees to radians
def deg_to_rad(degrees):
    return degrees * (np.pi/180)

# Function to calculate the distance between two points using the haversine formula
def distcalculate(lat1, lon1, lat2, lon2):
    d_lat = deg_to_rad(lat2-lat1)
    d_lon = deg_to_rad(lon2-lon1)
    a = np.sin(d_lat/2)**2 + np.cos(deg_to_rad(lat1)) * np.cos(deg_to_rad(lat2)) * np.sin(d_lon/2)**2
    c = 2 * np.arctan2(np.sqrt(a), np.sqrt(1-a))
    return R * c


# Calculate the distance between each pair of points
df['distance'] = np.nan

for i in range(len(df)):
    df.loc[i,'distance'] = distcalculate(df.loc[i, 'Restaurant_latitude'],
                                        df.loc[i, 'Restaurant_longitude'],
                                        df.loc[i, 'Delivery_location_latitude'],
                                        df.loc[i, 'Delivery_location_longitude'])





df.head()








figure = px.scatter(data_frame = df,
                   x = 'distance',
                   y = 'Time_taken(min)',
                   size = 'Time_taken(min)',
                   trendline = 'ols',
                   title = "Relationship Between Distance and Time Taken")

figure.show()








figure = px.scatter(data_frame = df,
                   x = 'Delivery_person_Age',
                   y = 'Time_taken(min)',
                   size = 'Time_taken(min)',
                   color = 'distance',
                   trendline = 'ols',
                   title = 'Relation between Age and time')

figure.show()








figure = px.scatter(data_frame = df,
                    x='Delivery_person_Ratings',
                    y = 'Time_taken(min)',
                    size = 'Time_taken(min)',
                    color = 'distance',
                    trendline = 'ols',
                    title = 'Relation between the Ratings and time taken')

figure.show()








figure = px.box(df,
               x = 'Type_of_vehicle',
               y = 'Time_taken(min)',
               color = 'Type_of_order')
figure.show()














#splitting data
from sklearn.model_selection import train_test_split

x = np.array(df[["Delivery_person_Age",
                  "Delivery_person_Ratings",
                  "distance"]])

y = np.array(df[["Time_taken(min)"]])

x_train,x_test,y_train,y_test = train_test_split(x,y,test_size = 0.10,random_state = 42)


# creating the LSTM neural network model
from keras.models import Sequential
from keras.layers import Dense, LSTM
model = Sequential()
model.add(LSTM(128,return_sequences = True,input_shape = (x_train.shape[1],1)))
model.add(LSTM(64,return_sequences = False))
model.add(Dense(25))
model.add(Dense(1))
model.summary()


# training the model
model.compile(optimizer = 'adam',loss = 'mean_squared_error')
model.fit(x_train,y_train,batch_size = 1, epochs = 10)





print("Fodd Delivery Time Prediction")
a = int(input("Age of Delivery Partner: "))
b = float(input("Ratings of Previous Delivery: "))
c = int(input("Total Distance: "))

features = np.array([[a,b,c]])
print("Predicted delivery Time in Minutes : ",model.predict(features))


from sklearn.metrics import mean_squared_error, r2_score

# Evaluate the model on the test set
y_pred = model.predict(x_test)
mse = mean_squared_error(y_test, y_pred)
r2 = r2_score(y_test, y_pred)

print(f'Mean Squared Error: {mse:.2f}')
print(f'R-squared: {r2:.2f}')



from sklearn.ensemble import RandomForestRegressor
from xgboost import XGBRegressor
from sklearn.metrics import mean_squared_error, r2_score

# Random Forest Regressor
rf_model = RandomForestRegressor(n_estimators=100, random_state=42)
rf_model.fit(x_train, y_train)
rf_pred = rf_model.predict(x_test)
rf_mse = mean_squared_error(y_test, rf_pred)
rf_r2 = r2_score(y_test, rf_pred)
print(f'Random Forest MSE: {rf_mse:.2f}')
print(f'Random Forest R-squared: {rf_r2:.2f}')

# XGBoost Regressor
xgb_model = XGBRegressor(random_state=42)
xgb_model.fit(x_train, y_train)
xgb_pred = xgb_model.predict(x_test)
xgb_mse = mean_squared_error(y_test, xgb_pred)
xgb_r2 = r2_score(y_test, xgb_pred)
print(f'XGBoost MSE: {xgb_mse:.2f}')
print(f'XGBoost R-squared: {xgb_r2:.2f}')







