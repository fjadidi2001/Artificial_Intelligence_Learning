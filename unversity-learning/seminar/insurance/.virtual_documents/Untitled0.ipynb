


from google.colab import files

# Upload the file
uploaded = files.upload()

