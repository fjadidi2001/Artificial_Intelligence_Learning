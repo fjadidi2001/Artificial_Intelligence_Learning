


from google.colab import drive
drive.mount('/content/drive')


# Mount Google Drive
from google.colab import drive
drive.mount('/content/drive')

# Specify file path
file_path = '/content/drive/My Drive/Dissertation/telematics_syn.csv'

# Import pandas (assuming you want to use it to read the CSV)
import pandas as pd

# Read the CSV file
df = pd.read_csv(file_path)

# Now you can work with the dataframe 'df'
print(df.head())  # Example: print the first few rows of the dataframe

