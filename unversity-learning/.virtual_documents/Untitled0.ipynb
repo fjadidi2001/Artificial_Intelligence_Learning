


from keras.datasets import boston_housing
(train_data, train_targets), (test_data, test_targets) = boston_housing.load_data()


print(train_data.shape)
print(train_targets.shape)


std = train_data.std(axis=0)
print(std)


import matplotlib.pylab as plt
print(train_targets)
plt.hist(train_targets, 30)



