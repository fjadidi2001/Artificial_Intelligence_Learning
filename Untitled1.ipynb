{
  "nbformat": 4,
  "nbformat_minor": 0,
  "metadata": {
    "colab": {
      "provenance": [],
      "authorship_tag": "ABX9TyMy5ItUFKltbmMTgbl7vKij",
      "include_colab_link": true
    },
    "kernelspec": {
      "name": "python3",
      "display_name": "Python 3"
    },
    "language_info": {
      "name": "python"
    }
  },
  "cells": [
    {
      "cell_type": "markdown",
      "metadata": {
        "id": "view-in-github",
        "colab_type": "text"
      },
      "source": [
        "<a href=\"https://colab.research.google.com/github/fjadidi2001/Artificial_Intelligence_Learning/blob/master/Untitled1.ipynb\" target=\"_parent\"><img src=\"https://colab.research.google.com/assets/colab-badge.svg\" alt=\"Open In Colab\"/></a>"
      ]
    },
    {
      "cell_type": "code",
      "source": [
        "from google.colab import files\n",
        "\n",
        "# Upload the file\n",
        "uploaded = files.upload()"
      ],
      "metadata": {
        "id": "gtqvAk5kT9s8"
      },
      "execution_count": null,
      "outputs": []
    },
    {
      "cell_type": "code",
      "source": [
        "import pandas as pd\n",
        "\n",
        "# Read the CSV file\n",
        "df = pd.read_csv('telematics_syn.csv')\n",
        "\n",
        "# Print the shape of the dataset\n",
        "print(\"Shape of the dataset:\", df.shape)"
      ],
      "metadata": {
        "id": "bLZr-TWbUVpc"
      },
      "execution_count": null,
      "outputs": []
    },
    {
      "cell_type": "code",
      "source": [
        "# Adjust display options to show all columns\n",
        "pd.set_option('display.max_columns', None)  # Show all columns\n",
        "pd.set_option('display.expand_frame_repr', False)  # Prevent line wrapping\n",
        "\n",
        "# Display the first few rows of the dataframe\n",
        "print(df.head())"
      ],
      "metadata": {
        "id": "WTwYgVoLUYae"
      },
      "execution_count": null,
      "outputs": []
    },
    {
      "cell_type": "code",
      "source": [
        "print(\"Summary statistics:\\n\", df.describe())"
      ],
      "metadata": {
        "id": "tko_wznHUmex"
      },
      "execution_count": null,
      "outputs": []
    },
    {
      "cell_type": "code",
      "source": [
        "print(\"Missing values:\\n\", df.isnull().sum())"
      ],
      "metadata": {
        "id": "CIim8hwcUpni"
      },
      "execution_count": null,
      "outputs": []
    },
    {
      "cell_type": "code",
      "source": [
        "import matplotlib.pyplot as plt\n",
        "import pandas as pd\n",
        "\n",
        "# Assuming df is your DataFrame\n",
        "missing_values = df.isnull().sum()\n",
        "\n",
        "# Plotting the missing values\n",
        "missing_values.plot(kind='bar', figsize=(15, 6))\n",
        "plt.title('Missing Values in Dataset')\n",
        "plt.xlabel('Columns')\n",
        "plt.ylabel('Number of Missing Values')\n",
        "plt.show()"
      ],
      "metadata": {
        "id": "jdbYQbHnUsQ8"
      },
      "execution_count": null,
      "outputs": []
    },
    {
      "cell_type": "code",
      "source": [
        "import seaborn as sns\n",
        "import matplotlib.pyplot as plt\n",
        "import pandas as pd\n",
        "\n",
        "# Numerical columns\n",
        "numerical_columns = df.select_dtypes(include=['int64', 'float64']).columns\n",
        "\n",
        "# Categorical columns\n",
        "categorical_columns = ['Insured.sex', 'Marital', 'Car.use', 'Region']\n",
        "\n",
        "# Subsample the data if necessary (e.g., 10% of the data)\n",
        "sample_size = int(len(df) * 0.1)\n",
        "df_sample = df.sample(n=sample_size, random_state=42)\n",
        "\n",
        "# Plot histograms for numerical columns\n",
        "for column in numerical_columns[:5]:  # Limit to first 5 numerical columns\n",
        "    plt.figure(figsize=(10, 4))\n",
        "    sns.histplot(df_sample[column], kde=True)\n",
        "    plt.title(f'Histogram of {column}')\n",
        "    plt.xlabel(column)\n",
        "    plt.ylabel('Frequency')\n",
        "    plt.show()\n",
        "\n",
        "# Plot box plots for numerical columns\n",
        "for column in numerical_columns[:5]:  # Limit to first 5 numerical columns\n",
        "    plt.figure(figsize=(10, 4))\n",
        "    sns.boxplot(x=df_sample[column])\n",
        "    plt.title(f'Box Plot of {column}')\n",
        "    plt.xlabel(column)\n",
        "    plt.show()\n",
        "\n",
        "# Plot bar plots for categorical columns\n",
        "for column in categorical_columns:\n",
        "    plt.figure(figsize=(10, 4))\n",
        "    sns.countplot(y=df_sample[column], order=df_sample[column].value_counts().index)\n",
        "    plt.title(f'Bar Plot of {column}')\n",
        "    plt.xlabel('Frequency')\n",
        "    plt.ylabel(column)\n",
        "    plt.show()\n",
        "\n",
        "# Plot box plots for numerical columns grouped by categorical columns\n",
        "for num_col in numerical_columns[:5]:  # Limit to first 5 numerical columns\n",
        "    for cat_col in categorical_columns:\n",
        "        plt.figure(figsize=(10, 4))\n",
        "        sns.boxplot(x=df_sample[cat_col], y=df_sample[num_col])\n",
        "        plt.title(f'Box Plot of {num_col} by {cat_col}')\n",
        "        plt.xlabel(cat_col)\n",
        "        plt.ylabel(num_col)\n",
        "        plt.show()\n",
        "\n"
      ],
      "metadata": {
        "id": "mS7fWZMeUvTi"
      },
      "execution_count": null,
      "outputs": []
    },
    {
      "cell_type": "code",
      "source": [
        "import seaborn as sns\n",
        "import matplotlib.pyplot as plt\n",
        "import pandas as pd\n",
        "\n",
        "# Numerical columns\n",
        "numerical_columns = df.select_dtypes(include=['int64', 'float64']).columns\n",
        "\n",
        "# Select a subset of numerical columns for the heatmap (e.g., first 10 columns)\n",
        "subset_columns = numerical_columns[:10]\n",
        "\n",
        "# Compute the correlation matrix for the subset\n",
        "correlation_matrix = df[subset_columns].corr()\n",
        "\n",
        "# Plot the heatmap\n",
        "plt.figure(figsize=(14, 10))\n",
        "sns.heatmap(correlation_matrix, annot=True, cmap='coolwarm', linewidths=0.5, fmt=\".2f\")\n",
        "plt.title('Correlation Heatmap')\n",
        "plt.show()"
      ],
      "metadata": {
        "id": "FDUOyxYxU352"
      },
      "execution_count": null,
      "outputs": []
    },
    {
      "cell_type": "code",
      "source": [
        "!pip install pytorch_tabnet"
      ],
      "metadata": {
        "id": "069URSBcU-rE"
      },
      "execution_count": null,
      "outputs": []
    },
    {
      "cell_type": "code",
      "source": [
        "# Necessary imports\n",
        "from sklearn.model_selection import train_test_split\n",
        "from sklearn.compose import ColumnTransformer\n",
        "from sklearn.pipeline import Pipeline\n",
        "from sklearn.preprocessing import StandardScaler, OneHotEncoder\n",
        "from sklearn.linear_model import LogisticRegression\n",
        "from xgboost import XGBClassifier\n",
        "from pytorch_tabnet.tab_model import TabNetClassifier\n",
        "from imblearn.over_sampling import SMOTE\n",
        "from sklearn.metrics import (\n",
        "    accuracy_score, precision_score, recall_score, f1_score, roc_auc_score,\n",
        "    matthews_corrcoef, log_loss, confusion_matrix\n",
        ")\n",
        "import torch\n",
        "import pandas as pd\n",
        "import numpy as np\n",
        "import matplotlib.pyplot as plt\n",
        "import seaborn as sns\n",
        "import warnings\n"
      ],
      "metadata": {
        "id": "5-EYI0CCU_Uw"
      },
      "execution_count": null,
      "outputs": []
    },
    {
      "cell_type": "code",
      "source": [
        "# Ignore warnings\n",
        "warnings.filterwarnings('ignore')\n"
      ],
      "metadata": {
        "id": "gTQvKtUwVRio"
      },
      "execution_count": null,
      "outputs": []
    },
    {
      "cell_type": "code",
      "source": [
        "# Assuming 'df' is your DataFrame and 'NB_Claim' is the target column\n",
        "X = df.drop('NB_Claim', axis=1)\n",
        "y = df['NB_Claim']"
      ],
      "metadata": {
        "id": "GgS0b5mwWgJ3"
      },
      "execution_count": null,
      "outputs": []
    },
    {
      "cell_type": "code",
      "source": [
        "# Identify categorical and numerical columns\n",
        "categorical_cols = X.select_dtypes(include=['object', 'category']).columns\n",
        "numerical_cols = X.select_dtypes(include=['int64', 'float64']).columns\n",
        "\n",
        "print(f\"Categorical columns: {categorical_cols}\")\n",
        "print(f\"Numerical columns: {numerical_cols}\")\n",
        "\n",
        "# Preprocessing pipelines for numerical and categorical data\n",
        "numerical_transformer = Pipeline(steps=[\n",
        "    ('scaler', StandardScaler())\n",
        "])\n",
        "\n",
        "categorical_transformer = Pipeline(steps=[\n",
        "    ('onehot', OneHotEncoder(handle_unknown='ignore', sparse=False))\n",
        "])\n",
        "\n",
        "# Combine preprocessing steps\n",
        "preprocessor = ColumnTransformer(\n",
        "    transformers=[\n",
        "        ('num', numerical_transformer, numerical_cols),\n",
        "        ('cat', categorical_transformer, categorical_cols)\n",
        "    ])\n"
      ],
      "metadata": {
        "id": "HltPwCd5ZjU2"
      },
      "execution_count": null,
      "outputs": []
    },
    {
      "cell_type": "code",
      "source": [
        "# Split the data\n",
        "X_train, X_test, y_train, y_test = train_test_split(X, y, test_size=0.2, random_state=42)"
      ],
      "metadata": {
        "id": "Frax8sYvZtcg"
      },
      "execution_count": null,
      "outputs": []
    },
    {
      "cell_type": "code",
      "source": [
        "# Define models\n",
        "models = {\n",
        "    'Logistic Regression': LogisticRegression(),\n",
        "    'XGBoost': XGBClassifier(),\n",
        "    'TabNet': TabNetClassifier()\n",
        "}\n",
        "\n",
        "# Split the data\n",
        "X_train, X_test, y_train, y_test = train_test_split(X, y, test_size=0.2, random_state=42)\n",
        "\n",
        "# Function to evaluate models\n",
        "def evaluate_model(model, X_train, X_test, y_train, y_test):\n",
        "    model.fit(X_train, y_train)\n",
        "    y_pred = model.predict(X_test)\n",
        "    return accuracy_score(y_test, y_pred)\n",
        "\n",
        "# Initial testing with raw data\n",
        "results = {}\n",
        "for name, model in models.items():\n",
        "    pipeline = Pipeline(steps=[('preprocessor', preprocessor),\n",
        "                               ('model', model)])\n",
        "    accuracy = evaluate_model(pipeline, X_train, X_test, y_train, y_test)\n",
        "    results[name] = accuracy\n",
        "\n",
        "print(\"Initial Model Performance with Raw Data and Default Hyperparameters:\")\n",
        "print(results)\n",
        "\n",
        "# Implement scaling, data normalization, and minor hyperparameter tuning\n",
        "# Update numerical transformer to use MinMaxScaler for comparison\n",
        "numerical_transformer_minmax = Pipeline(steps=[\n",
        "    ('scaler', MinMaxScaler())\n",
        "])\n",
        "\n",
        "# Combine preprocessing steps with MinMaxScaler\n",
        "preprocessor_minmax = ColumnTransformer(\n",
        "    transformers=[\n",
        "        ('num', numerical_transformer_minmax, numerical_cols),\n",
        "        ('cat', categorical_transformer, categorical_cols)\n",
        "    ])\n",
        "\n",
        "results_minmax = {}\n",
        "for name, model in models.items():\n",
        "    pipeline = Pipeline(steps=[('preprocessor', preprocessor_minmax),\n",
        "                               ('model', model)])\n",
        "    accuracy = evaluate_model(pipeline, X_train, X_test, y_train, y_test)\n",
        "    results_minmax[name] = accuracy\n",
        "\n",
        "print(\"Model Performance with MinMaxScaler and Default Hyperparameters:\")\n",
        "print(results_minmax)"
      ],
      "metadata": {
        "id": "lDGW0GgDaKYV"
      },
      "execution_count": null,
      "outputs": []
    }
  ]
}