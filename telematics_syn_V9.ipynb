{
  "nbformat": 4,
  "nbformat_minor": 0,
  "metadata": {
    "colab": {
      "provenance": [],
      "authorship_tag": "ABX9TyNXOR86xoSIufhdSdcA39rl",
      "include_colab_link": true
    },
    "kernelspec": {
      "name": "python3",
      "display_name": "Python 3"
    },
    "language_info": {
      "name": "python"
    }
  },
  "cells": [
    {
      "cell_type": "markdown",
      "metadata": {
        "id": "view-in-github",
        "colab_type": "text"
      },
      "source": [
        "<a href=\"https://colab.research.google.com/github/fjadidi2001/DataScienceJourney/blob/master/telematics_syn_V9.ipynb\" target=\"_parent\"><img src=\"https://colab.research.google.com/assets/colab-badge.svg\" alt=\"Open In Colab\"/></a>"
      ]
    },
    {
      "cell_type": "code",
      "execution_count": 4,
      "metadata": {
        "colab": {
          "base_uri": "https://localhost:8080/"
        },
        "id": "pFQeQ9QAwZwV",
        "outputId": "d98f91bd-f567-490d-8ab9-8e80c0e56844"
      },
      "outputs": [
        {
          "output_type": "stream",
          "name": "stdout",
          "text": [
            "Mounted at /content/drive\n",
            "(100000, 52)\n",
            "   Duration  Insured.age Insured.sex  Car.age  Marital  Car.use  Credit.score  \\\n",
            "0       366           45        Male       -1  Married  Commute         609.0   \n",
            "1       182           44      Female        3  Married  Commute         575.0   \n",
            "2       184           48      Female        6  Married  Commute         847.0   \n",
            "3       183           71        Male        6  Married  Private         842.0   \n",
            "4       183           84        Male       10  Married  Private         856.0   \n",
            "\n",
            "  Region  Annual.miles.drive  Years.noclaims  ...  Left.turn.intensity10  \\\n",
            "0  Urban             6213.71              25  ...                    1.0   \n",
            "1  Urban            12427.42              20  ...                   58.0   \n",
            "2  Urban            12427.42              14  ...                    0.0   \n",
            "3  Urban             6213.71              43  ...                    0.0   \n",
            "4  Urban             6213.71              65  ...                    2.0   \n",
            "\n",
            "   Left.turn.intensity11  Left.turn.intensity12  Right.turn.intensity08  \\\n",
            "0                    0.0                    0.0                     3.0   \n",
            "1                   24.0                   11.0                  1099.0   \n",
            "2                    0.0                    0.0                     0.0   \n",
            "3                    0.0                    0.0                     0.0   \n",
            "4                    0.0                    0.0                   325.0   \n",
            "\n",
            "   Right.turn.intensity09  Right.turn.intensity10  Right.turn.intensity11  \\\n",
            "0                     1.0                     0.0                     0.0   \n",
            "1                   615.0                   219.0                   101.0   \n",
            "2                     0.0                     0.0                     0.0   \n",
            "3                     0.0                     0.0                     0.0   \n",
            "4                   111.0                    18.0                     4.0   \n",
            "\n",
            "   Right.turn.intensity12  NB_Claim    AMT_Claim  \n",
            "0                     0.0         1  5100.171753  \n",
            "1                    40.0         1   883.554840  \n",
            "2                     0.0         0     0.000000  \n",
            "3                     0.0         0     0.000000  \n",
            "4                     2.0         0     0.000000  \n",
            "\n",
            "[5 rows x 52 columns]\n"
          ]
        }
      ],
      "source": [
        "# Mount Google Drive\n",
        "from google.colab import drive\n",
        "\n",
        "drive.mount('/content/drive')\n",
        "\n",
        "# Specify file path\n",
        "\n",
        "file_path = '/content/drive/My Drive/telematics_syn.csv'\n",
        "\n",
        "# Import pandas (assuming you want to use it to read the CSV)\n",
        "import pandas as pd\n",
        "\n",
        "# Read the CSV file\n",
        "df = pd.read_csv(file_path)\n",
        "print(df.shape)  # Should print (100000, 52)\n",
        "print(df.head()) # To check the first few rows"
      ]
    },
    {
      "cell_type": "code",
      "source": [
        "# Adjust display options to show all columns\n",
        "pd.set_option('display.max_columns', None)  # Show all columns\n",
        "pd.set_option('display.expand_frame_repr', False)  # Prevent line wrapping\n",
        "\n",
        "# Display the first few rows of the dataframe\n",
        "print(df.head())"
      ],
      "metadata": {
        "colab": {
          "base_uri": "https://localhost:8080/"
        },
        "id": "B1AZtlGZx79A",
        "outputId": "79badd07-d5f5-4db4-80d4-3e58033fe7ed"
      },
      "execution_count": 5,
      "outputs": [
        {
          "output_type": "stream",
          "name": "stdout",
          "text": [
            "   Duration  Insured.age Insured.sex  Car.age  Marital  Car.use  Credit.score Region  Annual.miles.drive  Years.noclaims  Territory  Annual.pct.driven  Total.miles.driven  Pct.drive.mon  Pct.drive.tue  Pct.drive.wed  Pct.drive.thr  Pct.drive.fri  Pct.drive.sat  Pct.drive.sun  Pct.drive.2hrs  Pct.drive.3hrs  Pct.drive.4hrs  Pct.drive.wkday  Pct.drive.wkend  Pct.drive.rush am  Pct.drive.rush pm  Avgdays.week  Accel.06miles  Accel.08miles  Accel.09miles  Accel.11miles  Accel.12miles  Accel.14miles  Brake.06miles  Brake.08miles  Brake.09miles  Brake.11miles  Brake.12miles  Brake.14miles  Left.turn.intensity08  Left.turn.intensity09  Left.turn.intensity10  Left.turn.intensity11  Left.turn.intensity12  Right.turn.intensity08  Right.turn.intensity09  Right.turn.intensity10  Right.turn.intensity11  Right.turn.intensity12  NB_Claim    AMT_Claim\n",
            "0       366           45        Male       -1  Married  Commute         609.0  Urban             6213.71              25         70           0.849315         8864.376247       0.148070       0.152466       0.143494       0.132412       0.169418       0.131632       0.122508        0.002607        0.000711        0.000000         0.744740         0.255260           0.199708           0.233929      6.528897           41.0            3.0            1.0            1.0            0.0            0.0           78.0           10.0            2.0            1.0            0.0            0.0                    7.0                    3.0                    1.0                    0.0                    0.0                     3.0                     1.0                     0.0                     0.0                     0.0         1  5100.171753\n",
            "1       182           44      Female        3  Married  Commute         575.0  Urban            12427.42              20         26           0.465753         8092.308208       0.147686       0.136917       0.135046       0.188125       0.159724       0.148017       0.084485        0.000377        0.000377        0.000188         0.766234         0.233766           0.150000           0.161883      6.500000           65.0            5.0            2.0            1.0            1.0            1.0           83.0           10.0            4.0            1.0            1.0            0.0                  469.0                  225.0                   58.0                   24.0                   11.0                  1099.0                   615.0                   219.0                   101.0                    40.0         1   883.554840\n",
            "2       184           48      Female        6  Married  Commute         847.0  Urban            12427.42              14         84           0.520548         3225.832512       0.153735       0.097124       0.129706       0.182424       0.168658       0.157462       0.110891        0.013296        0.000059        0.000000         0.730592         0.269408           0.040592           0.131185      5.388865           70.0           15.0           11.0            9.0            7.0            6.0          152.0           14.0           10.0            9.0            7.0            6.0                    0.0                    0.0                    0.0                    0.0                    0.0                     0.0                     0.0                     0.0                     0.0                     0.0         0     0.000000\n",
            "3       183           71        Male        6  Married  Private         842.0  Urban             6213.71              43         30           0.065753          253.024528       0.106702       0.056437       0.134039       0.185479       0.253381       0.235744       0.028218        0.000000        0.000000        0.000000         0.732963         0.267037           0.079259           0.141112      5.148138            9.0            3.0            0.0            0.0            0.0            0.0           93.0            4.0            1.0            0.0            0.0            0.0                    0.0                    0.0                    0.0                    0.0                    0.0                     0.0                     0.0                     0.0                     0.0                     0.0         0     0.000000\n",
            "4       183           84        Male       10  Married  Private         856.0  Urban             6213.71              65         70           0.441096         4374.379634       0.123807       0.169661       0.157235       0.165071       0.182776       0.105034       0.096416        0.002335        0.000833        0.000000         0.794932         0.205068           0.111583           0.058326      6.482803           73.0            3.0            0.0            0.0            0.0            0.0           27.0            2.0            1.0            0.0            0.0            0.0                   80.0                   22.0                    2.0                    0.0                    0.0                   325.0                   111.0                    18.0                     4.0                     2.0         0     0.000000\n"
          ]
        }
      ]
    },
    {
      "cell_type": "code",
      "source": [
        "import pandas as pd\n",
        "column_names = [\n",
        "    \"Duration\", \"Insured.age\", \"Insured.sex\", \"Car.age\", \"Marital\", \"Car.use\",\n",
        "    \"Credit.score\", \"Region\", \"Annual.miles.drive\", \"Years.noclaims\", \"Territory\",\n",
        "    \"Annual.pct.driven\", \"Total.miles.driven\", \"Pct.drive.mon\", \"Pct.drive.tue\",\n",
        "    \"Pct.drive.wed\", \"Pct.drive.thr\", \"Pct.drive.fri\", \"Pct.drive.sat\",\n",
        "    \"Pct.drive.sun\", \"Pct.drive.2hrs\", \"Pct.drive.3hrs\", \"Pct.drive.4hrs\",\n",
        "    \"Pct.drive.wkday\", \"Pct.drive.wkend\", \"Pct.drive.rush am\", \"Pct.drive.rush pm\",\n",
        "    \"Avgdays.week\", \"Accel.06miles\", \"Accel.08miles\", \"Accel.09miles\",\n",
        "    \"Accel.11miles\", \"Accel.12miles\", \"Accel.14miles\", \"Brake.06miles\",\n",
        "    \"Brake.08miles\", \"Brake.09miles\", \"Brake.11miles\", \"Brake.12miles\",\n",
        "    \"Brake.14miles\", \"Left.turn.intensity08\", \"Left.turn.intensity09\",\n",
        "    \"Left.turn.intensity10\", \"Left.turn.intensity11\", \"Left.turn.intensity12\",\n",
        "    \"Right.turn.intensity08\", \"Right.turn.intensity09\", \"Right.turn.intensity10\",\n",
        "    \"Right.turn.intensity11\", \"Right.turn.intensity12\", \"NB_Claim\", \"AMT_Claim\"\n",
        "]\n",
        "print(len(df))"
      ],
      "metadata": {
        "colab": {
          "base_uri": "https://localhost:8080/"
        },
        "id": "AfwpOZj0yQX5",
        "outputId": "7323f118-9339-42a4-bf1d-26293fc456e1"
      },
      "execution_count": 7,
      "outputs": [
        {
          "output_type": "stream",
          "name": "stdout",
          "text": [
            "100000\n"
          ]
        }
      ]
    },
    {
      "cell_type": "code",
      "source": [
        "# Exploratory Data Analysis (EDA)\n",
        "print(\"Summary statistics:\\n\", df.describe())"
      ],
      "metadata": {
        "colab": {
          "base_uri": "https://localhost:8080/"
        },
        "id": "0nLVLicn5DeO",
        "outputId": "586e973c-5289-4087-dd1c-23881635cd46"
      },
      "execution_count": 9,
      "outputs": [
        {
          "output_type": "stream",
          "name": "stdout",
          "text": [
            "Summary statistics:\n",
            "             Duration    Insured.age        Car.age   Credit.score  Annual.miles.drive  Years.noclaims      Territory  Annual.pct.driven  Total.miles.driven  Pct.drive.mon  Pct.drive.tue  Pct.drive.wed  Pct.drive.thr  Pct.drive.fri  Pct.drive.sat  Pct.drive.sun  Pct.drive.2hrs  Pct.drive.3hrs  Pct.drive.4hrs  Pct.drive.wkday  Pct.drive.wkend  Pct.drive.rush am  Pct.drive.rush pm   Avgdays.week  Accel.06miles  Accel.08miles  Accel.09miles  Accel.11miles  Accel.12miles  Accel.14miles  Brake.06miles  Brake.08miles  Brake.09miles  Brake.11miles  Brake.12miles  Brake.14miles  Left.turn.intensity08  Left.turn.intensity09  Left.turn.intensity10  Left.turn.intensity11  Left.turn.intensity12  Right.turn.intensity08  Right.turn.intensity09  Right.turn.intensity10  Right.turn.intensity11  Right.turn.intensity12      NB_Claim      AMT_Claim\n",
            "count  100000.000000  100000.000000  100000.000000  100000.000000       100000.000000   100000.000000  100000.000000      100000.000000       100000.000000  100000.000000  100000.000000  100000.000000  100000.000000  100000.000000  100000.000000   1.000000e+05   100000.000000   100000.000000   100000.000000    100000.000000    100000.000000      100000.000000      100000.000000  100000.000000  100000.000000  100000.000000  100000.000000  100000.000000  100000.000000  100000.000000  100000.000000  100000.000000  100000.000000  100000.000000  100000.000000  100000.000000          100000.000000          100000.000000          100000.000000          100000.000000          100000.000000           100000.000000           100000.000000           100000.000000           100000.000000           100000.000000  100000.00000  100000.000000\n",
            "mean      314.204060      51.378950       5.639720     800.888870         9124.122908       28.839960      56.531390           0.502294         4833.575303       0.139365       0.151262       0.148288       0.153009       0.157641       0.137912   1.125241e-01        0.003931        0.000868        0.000242         0.749550         0.250450           0.097823           0.137598       5.533067      43.097120       4.532490       1.753550       0.929150       0.525090       0.357030      83.652540       9.594090       3.102530       1.349240       0.589900       0.354990             915.676300             718.053600             551.574010             487.340690             447.758420              843.461830              565.056100              326.654840              246.713120              198.753690       0.04494     137.602253\n",
            "std        79.746222      15.467075       4.062135      83.382316         3826.144730       16.123717      24.036518           0.299189         4545.943016       0.042807       0.047612       0.044609       0.044418       0.043716       0.053069   4.986396e-02        0.008122        0.004005        0.002592         0.083039         0.083039           0.078752           0.069939       1.248339      62.104937      19.531385      14.560158      11.936031       9.699139       8.433604      80.229374      18.138818      12.701017      10.591411       9.124862       8.234056           16330.899091           15666.068925           14687.929802           14198.331308           13719.790281            11630.185503            10657.402935             9460.244357             8977.569994             8585.177049       0.21813    1264.320056\n",
            "min        27.000000      16.000000      -2.000000     422.000000            0.000000        0.000000      11.000000           0.002740            0.095298       0.000000       0.000000       0.000000       0.000000       0.000000       0.000000  -1.880000e-09        0.000000        0.000000        0.000000         0.000000         0.000000           0.000000           0.000000       0.200902       0.000000       0.000000       0.000000       0.000000       0.000000       0.000000       0.000000       0.000000       0.000000       0.000000       0.000000       0.000000               0.000000               0.000000               0.000000               0.000000               0.000000                0.000000                0.000000                0.000000                0.000000                0.000000       0.00000       0.000000\n",
            "25%       200.000000      39.000000       2.000000     766.000000         6213.710000       15.000000      35.000000           0.249315         1529.897500       0.120894       0.130084       0.129348       0.133619       0.138615       0.109415   8.525815e-02        0.000000        0.000000        0.000000         0.710336         0.204727           0.037389           0.090424       4.911596       9.000000       0.000000       0.000000       0.000000       0.000000       0.000000      33.000000       3.000000       1.000000       0.000000       0.000000       0.000000               7.000000               2.000000               0.000000               0.000000               0.000000               11.000000                3.000000                0.000000                0.000000                0.000000       0.00000       0.000000\n",
            "50%       365.000000      51.000000       5.000000     825.000000         7456.452000       29.000000      62.000000           0.490411         3468.287765       0.137909       0.147900       0.147083       0.151377       0.155996       0.134668   1.107058e-01        0.001308        0.000000        0.000000         0.752464         0.247536           0.078013           0.129842       5.890227      24.000000       1.000000       0.000000       0.000000       0.000000       0.000000      60.000000       6.000000       2.000000       1.000000       0.000000       0.000000              66.000000              22.000000               3.000000               1.000000               0.000000              122.000000               43.000000                7.000000                2.000000                0.000000       0.00000       0.000000\n",
            "75%       366.000000      63.000000       8.000000     856.000000        12427.420000       41.000000      78.000000           0.753425         6779.876842       0.155203       0.168479       0.165925       0.170582       0.174473       0.161304   1.347562e-01        0.004791        0.000584        0.000000         0.795273         0.289664           0.140843           0.174353       6.487471      52.000000       3.000000       1.000000       0.000000       0.000000       0.000000     107.000000      11.000000       3.000000       1.000000       0.000000       0.000000             361.000000             146.000000              30.000000               9.000000               2.000000              680.000000              321.000000               81.000000               27.000000                9.000000       0.00000       0.000000\n",
            "max       366.000000     103.000000      20.000000     900.000000        56731.172300       79.000000      91.000000           1.000000        47282.603936       0.998172       1.000000       1.000000       0.997900       0.998617       0.946596   9.760634e-01        0.455742        0.323831        0.265887         1.000000         1.000000           0.988042           0.993178       7.000000     621.000000     621.000000     621.000000     621.000000     621.000000     621.000000     621.000000     621.000000     621.000000     621.000000     621.000000     621.000000          794740.000000          794676.000000          794380.000000          793926.000000          793170.000000           841210.000000           841207.000000           841200.000000           841176.000000           841144.000000       3.00000  104074.886700\n"
          ]
        }
      ]
    },
    {
      "cell_type": "code",
      "source": [],
      "metadata": {
        "id": "RvwuFqQW5KQ1"
      },
      "execution_count": null,
      "outputs": []
    }
  ]
}