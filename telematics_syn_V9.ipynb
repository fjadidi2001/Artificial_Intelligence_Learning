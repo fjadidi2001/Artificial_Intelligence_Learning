{
  "nbformat": 4,
  "nbformat_minor": 0,
  "metadata": {
    "colab": {
      "provenance": [],
      "authorship_tag": "ABX9TyPBps0845ka2VGuNtHyw5mk",
      "include_colab_link": true
    },
    "kernelspec": {
      "name": "python3",
      "display_name": "Python 3"
    },
    "language_info": {
      "name": "python"
    }
  },
  "cells": [
    {
      "cell_type": "markdown",
      "metadata": {
        "id": "view-in-github",
        "colab_type": "text"
      },
      "source": [
        "<a href=\"https://colab.research.google.com/github/fjadidi2001/DataScienceJourney/blob/master/telematics_syn_V9.ipynb\" target=\"_parent\"><img src=\"https://colab.research.google.com/assets/colab-badge.svg\" alt=\"Open In Colab\"/></a>"
      ]
    },
    {
      "cell_type": "code",
      "execution_count": 1,
      "metadata": {
        "colab": {
          "base_uri": "https://localhost:8080/"
        },
        "id": "pFQeQ9QAwZwV",
        "outputId": "5a652431-627e-41e5-9f49-93297c2b387b"
      },
      "outputs": [
        {
          "output_type": "stream",
          "name": "stdout",
          "text": [
            "Mounted at /content/drive\n",
            "(100000, 52)\n",
            "   Duration  Insured.age Insured.sex  Car.age  Marital  Car.use  Credit.score  \\\n",
            "0       366           45        Male       -1  Married  Commute         609.0   \n",
            "1       182           44      Female        3  Married  Commute         575.0   \n",
            "2       184           48      Female        6  Married  Commute         847.0   \n",
            "3       183           71        Male        6  Married  Private         842.0   \n",
            "4       183           84        Male       10  Married  Private         856.0   \n",
            "\n",
            "  Region  Annual.miles.drive  Years.noclaims  ...  Left.turn.intensity10  \\\n",
            "0  Urban             6213.71              25  ...                    1.0   \n",
            "1  Urban            12427.42              20  ...                   58.0   \n",
            "2  Urban            12427.42              14  ...                    0.0   \n",
            "3  Urban             6213.71              43  ...                    0.0   \n",
            "4  Urban             6213.71              65  ...                    2.0   \n",
            "\n",
            "   Left.turn.intensity11  Left.turn.intensity12  Right.turn.intensity08  \\\n",
            "0                    0.0                    0.0                     3.0   \n",
            "1                   24.0                   11.0                  1099.0   \n",
            "2                    0.0                    0.0                     0.0   \n",
            "3                    0.0                    0.0                     0.0   \n",
            "4                    0.0                    0.0                   325.0   \n",
            "\n",
            "   Right.turn.intensity09  Right.turn.intensity10  Right.turn.intensity11  \\\n",
            "0                     1.0                     0.0                     0.0   \n",
            "1                   615.0                   219.0                   101.0   \n",
            "2                     0.0                     0.0                     0.0   \n",
            "3                     0.0                     0.0                     0.0   \n",
            "4                   111.0                    18.0                     4.0   \n",
            "\n",
            "   Right.turn.intensity12  NB_Claim    AMT_Claim  \n",
            "0                     0.0         1  5100.171753  \n",
            "1                    40.0         1   883.554840  \n",
            "2                     0.0         0     0.000000  \n",
            "3                     0.0         0     0.000000  \n",
            "4                     2.0         0     0.000000  \n",
            "\n",
            "[5 rows x 52 columns]\n"
          ]
        }
      ],
      "source": [
        "# Mount Google Drive\n",
        "from google.colab import drive\n",
        "\n",
        "drive.mount('/content/drive')\n",
        "\n",
        "# Specify file path\n",
        "\n",
        "file_path = '/content/drive/My Drive/telematics_syn.csv'\n",
        "\n",
        "# Import pandas (assuming you want to use it to read the CSV)\n",
        "import pandas as pd\n",
        "\n",
        "# Read the CSV file\n",
        "df = pd.read_csv(file_path)\n",
        "print(df.shape)  # Should print (100000, 52)\n",
        "print(df.head()) # To check the first few rows"
      ]
    },
    {
      "cell_type": "code",
      "source": [
        "# Adjust display options to show all columns\n",
        "pd.set_option('display.max_columns', None)  # Show all columns\n",
        "pd.set_option('display.expand_frame_repr', False)  # Prevent line wrapping\n",
        "\n",
        "# Display the first few rows of the dataframe\n",
        "print(df.head())"
      ],
      "metadata": {
        "colab": {
          "base_uri": "https://localhost:8080/"
        },
        "id": "B1AZtlGZx79A",
        "outputId": "a2cc88bc-f54e-47d2-8b98-a96b5ab1b0a7"
      },
      "execution_count": 2,
      "outputs": [
        {
          "output_type": "stream",
          "name": "stdout",
          "text": [
            "   Duration  Insured.age Insured.sex  Car.age  Marital  Car.use  Credit.score Region  Annual.miles.drive  Years.noclaims  Territory  Annual.pct.driven  Total.miles.driven  Pct.drive.mon  Pct.drive.tue  Pct.drive.wed  Pct.drive.thr  Pct.drive.fri  Pct.drive.sat  Pct.drive.sun  Pct.drive.2hrs  Pct.drive.3hrs  Pct.drive.4hrs  Pct.drive.wkday  Pct.drive.wkend  Pct.drive.rush am  Pct.drive.rush pm  Avgdays.week  Accel.06miles  Accel.08miles  Accel.09miles  Accel.11miles  Accel.12miles  Accel.14miles  Brake.06miles  Brake.08miles  Brake.09miles  Brake.11miles  Brake.12miles  Brake.14miles  Left.turn.intensity08  Left.turn.intensity09  Left.turn.intensity10  Left.turn.intensity11  Left.turn.intensity12  Right.turn.intensity08  Right.turn.intensity09  Right.turn.intensity10  Right.turn.intensity11  Right.turn.intensity12  NB_Claim    AMT_Claim\n",
            "0       366           45        Male       -1  Married  Commute         609.0  Urban             6213.71              25         70           0.849315         8864.376247       0.148070       0.152466       0.143494       0.132412       0.169418       0.131632       0.122508        0.002607        0.000711        0.000000         0.744740         0.255260           0.199708           0.233929      6.528897           41.0            3.0            1.0            1.0            0.0            0.0           78.0           10.0            2.0            1.0            0.0            0.0                    7.0                    3.0                    1.0                    0.0                    0.0                     3.0                     1.0                     0.0                     0.0                     0.0         1  5100.171753\n",
            "1       182           44      Female        3  Married  Commute         575.0  Urban            12427.42              20         26           0.465753         8092.308208       0.147686       0.136917       0.135046       0.188125       0.159724       0.148017       0.084485        0.000377        0.000377        0.000188         0.766234         0.233766           0.150000           0.161883      6.500000           65.0            5.0            2.0            1.0            1.0            1.0           83.0           10.0            4.0            1.0            1.0            0.0                  469.0                  225.0                   58.0                   24.0                   11.0                  1099.0                   615.0                   219.0                   101.0                    40.0         1   883.554840\n",
            "2       184           48      Female        6  Married  Commute         847.0  Urban            12427.42              14         84           0.520548         3225.832512       0.153735       0.097124       0.129706       0.182424       0.168658       0.157462       0.110891        0.013296        0.000059        0.000000         0.730592         0.269408           0.040592           0.131185      5.388865           70.0           15.0           11.0            9.0            7.0            6.0          152.0           14.0           10.0            9.0            7.0            6.0                    0.0                    0.0                    0.0                    0.0                    0.0                     0.0                     0.0                     0.0                     0.0                     0.0         0     0.000000\n",
            "3       183           71        Male        6  Married  Private         842.0  Urban             6213.71              43         30           0.065753          253.024528       0.106702       0.056437       0.134039       0.185479       0.253381       0.235744       0.028218        0.000000        0.000000        0.000000         0.732963         0.267037           0.079259           0.141112      5.148138            9.0            3.0            0.0            0.0            0.0            0.0           93.0            4.0            1.0            0.0            0.0            0.0                    0.0                    0.0                    0.0                    0.0                    0.0                     0.0                     0.0                     0.0                     0.0                     0.0         0     0.000000\n",
            "4       183           84        Male       10  Married  Private         856.0  Urban             6213.71              65         70           0.441096         4374.379634       0.123807       0.169661       0.157235       0.165071       0.182776       0.105034       0.096416        0.002335        0.000833        0.000000         0.794932         0.205068           0.111583           0.058326      6.482803           73.0            3.0            0.0            0.0            0.0            0.0           27.0            2.0            1.0            0.0            0.0            0.0                   80.0                   22.0                    2.0                    0.0                    0.0                   325.0                   111.0                    18.0                     4.0                     2.0         0     0.000000\n"
          ]
        }
      ]
    }
  ]
}