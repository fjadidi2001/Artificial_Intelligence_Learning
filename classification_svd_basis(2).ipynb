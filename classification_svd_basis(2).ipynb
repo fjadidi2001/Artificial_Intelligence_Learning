{
  "nbformat": 4,
  "nbformat_minor": 0,
  "metadata": {
    "colab": {
      "provenance": [],
      "include_colab_link": true
    },
    "kernelspec": {
      "name": "python3",
      "display_name": "Python 3"
    },
    "language_info": {
      "name": "python"
    }
  },
  "cells": [
    {
      "cell_type": "markdown",
      "metadata": {
        "id": "view-in-github",
        "colab_type": "text"
      },
      "source": [
        "<a href=\"https://colab.research.google.com/github/fjadidi2001/Artificial_Intelligence_Learning/blob/master/classification_svd_basis(2).ipynb\" target=\"_parent\"><img src=\"https://colab.research.google.com/assets/colab-badge.svg\" alt=\"Open In Colab\"/></a>"
      ]
    },
    {
      "cell_type": "markdown",
      "source": [
        "svd & least square residual"
      ],
      "metadata": {
        "id": "SLKrc91JHolm"
      }
    },
    {
      "cell_type": "code",
      "source": [
        "from keras.datasets import mnist\n",
        "import numpy as np\n",
        "(x_train, y_train), (x_test, y_test) = mnist.load_data()"
      ],
      "metadata": {
        "id": "Vsaxn-orHjU0"
      },
      "execution_count": 23,
      "outputs": []
    },
    {
      "cell_type": "code",
      "source": [
        "x_train = x_train.astype('float32') / 255.\n",
        "x_test = x_test.astype('float32') / 255.\n",
        "x_train = x_train.reshape((len(x_train), np.prod(x_train.shape[1:])))\n",
        "x_test = x_test.reshape((len(x_test), np.prod(x_test.shape[1:])))\n",
        "x_train = x_train.T\n",
        "x_test = x_test.T"
      ],
      "metadata": {
        "id": "KGyVruLTHkKr"
      },
      "execution_count": 24,
      "outputs": []
    },
    {
      "cell_type": "code",
      "source": [
        "x_train_list = []\n",
        "for k in range(10):\n",
        "    components = np.where(y_train == k)[0]\n",
        "    x_train_list.append(x_train[:, components])"
      ],
      "metadata": {
        "id": "DtcuhO3iH0bD"
      },
      "execution_count": 25,
      "outputs": []
    },
    {
      "cell_type": "code",
      "source": [
        "U_list = []\n",
        "for k in range(10):\n",
        "    U, D, V = np.linalg.svd(x_train_list[k])\n",
        "    U_list.append(U)"
      ],
      "metadata": {
        "id": "V5JoneVhH4Td"
      },
      "execution_count": null,
      "outputs": []
    },
    {
      "cell_type": "code",
      "source": [
        "mse_train = []\n",
        "for r in range(40):\n",
        "    n_train = x_train.shape[1]\n",
        "    y_train_predict = y_train.copy()\n",
        "    for i in range(0, n_train, 15):\n",
        "        x = x_train[:, i]\n",
        "        residual_list = np.ones((10))\n",
        "        for k in range(10):\n",
        "            U_r = U_list[k][:, :r+1]\n",
        "            alpha = np.dot(U_r.T, x)\n",
        "            residual = np.linalg.norm(x - np.dot(U_r, alpha))\n",
        "            residual_list[k] = residual\n",
        "\n",
        "        y_train_predict[i] = np.argmin(residual_list)\n",
        "        mse_train.append(np.mean(np.square(y_train - y_train_predict)))"
      ],
      "metadata": {
        "id": "tAZsmYd_H6yM"
      },
      "execution_count": null,
      "outputs": []
    },
    {
      "cell_type": "code",
      "source": [
        "mse_test = []\n",
        "for r in range(40):\n",
        "    n_test = x_test.shape[1]\n",
        "    y_test_predict = y_test.copy()\n",
        "    for i in range(0, n_test, 15):\n",
        "        x = x_test[:, i]\n",
        "        residual_list = np.ones((10))\n",
        "        for k in range(10):\n",
        "            U_r = U_list[k][:, :r+1]\n",
        "            alpha = np.dot(U_r.T, x)\n",
        "            residual = np.linalg.norm(x - np.dot(U_r, alpha))\n",
        "            residual_list[k] = residual\n",
        "\n",
        "        y_test_predict[i] = np.argmin(residual_list)\n",
        "        mse_test.append(np.mean(np.square(y_test - y_test_predict)))"
      ],
      "metadata": {
        "id": "ooXZOSSaH_aH"
      },
      "execution_count": null,
      "outputs": []
    },
    {
      "cell_type": "code",
      "source": [
        "import matplotlib.pyplot as plt\n",
        "\n",
        "# Select samples of test 3's and 7's\n",
        "test_3_indices = np.where(y_test == 3)[0]\n",
        "test_7_indices = np.where(y_test == 7)[0]\n",
        "\n",
        "n_bases = 10\n",
        "\n",
        "# Calculate relative residuals for test 3's\n",
        "relative_residues_3 = np.zeros((n_bases, len(test_3_indices)))\n",
        "for i, idx in enumerate(test_3_indices):\n",
        "    x = x_test[:, idx]\n",
        "    for r in range(n_bases):\n",
        "        U_r = U_list[3][:, :r+1]\n",
        "        alpha = np.dot(U_r.T, x)\n",
        "        x_hat = np.dot(U_r, alpha)\n",
        "        relative_residues_3[r, i] = np.linalg.norm(x - x_hat)\n",
        "\n",
        "# Calculate relative residuals for test 7's\n",
        "relative_residues_7 = np.zeros((n_bases, len(test_7_indices)))\n",
        "for i, idx in enumerate(test_7_indices):\n",
        "    x = x_test[:, idx]\n",
        "    for r in range(n_bases):\n",
        "        U_r = U_list[7][:, :r+1]\n",
        "        alpha = np.dot(U_r.T, x)\n",
        "        x_hat = np.dot(U_r, alpha)\n",
        "        relative_residues_7[r, i] = np.linalg.norm(x - x_hat)\n",
        "\n",
        "# Plot relative residuals for test 3's\n",
        "plt.figure(figsize=(10, 6))\n",
        "plt.subplot(2, 1, 1)\n",
        "plt.title('Relative Residuals of Test 3\\'s')\n",
        "plt.imshow(relative_residues_3, cmap='viridis', aspect='auto')\n",
        "plt.xlabel('Sample Index')\n",
        "plt.ylabel('Number of Bases')\n",
        "plt.colorbar(label='Relative Residual')\n",
        "\n",
        "# Plot relative residuals for test s's\n",
        "plt.subplot(2, 1, 2)\n",
        "plt.title('Relative Residuals of Test 7\\'s')\n",
        "plt.imshow(relative_residues_7, cmap='viridis', aspect='auto')\n",
        "plt.xlabel('Sample Index')\n",
        "plt.ylabel('Number of Bases')\n",
        "plt.colorbar(label='Relative Residual')\n",
        "\n",
        "plt.tight_layout()\n",
        "plt.show()"
      ],
      "metadata": {
        "id": "mfxggZ60IEwM"
      },
      "execution_count": null,
      "outputs": []
    },
    {
      "cell_type": "code",
      "source": [
        "import matplotlib.pyplot as plt\n",
        "\n",
        "# Pick an unknown \"3\" digit from the test set\n",
        "unknown_digit_indices = np.where(y_test == 3)[0]\n",
        "unknown_digit = x_test[:, unknown_digit_indices[0]]\n",
        "\n",
        "terms_list = [1, 3, 5, 7, 9]\n",
        "fig, axs = plt.subplots(2, len(terms_list), figsize=(16, 6))\n",
        "\n",
        "for i, r in enumerate(terms_list):\n",
        "    # Calculate the approximation using r terms in the 3-basis\n",
        "    U_r = U_list[3][:, :r]\n",
        "    alpha = np.dot(U_r.T, unknown_digit)\n",
        "    approximated_digit = np.dot(U_r, alpha)\n",
        "\n",
        "    # Plot the approximated digit\n",
        "    axs[0, i].imshow(approximated_digit.reshape(28, 28), cmap='gray')\n",
        "    axs[0, i].set_title(f\"{r} Terms in 3-Basis\")\n",
        "    axs[0, i].axis('off')\n",
        "\n",
        "    # Calculate the relative residual\n",
        "    residual = np.linalg.norm(unknown_digit - approximated_digit)\n",
        "    axs[1, i].text(0.5, 0.5, f'Relative Residual: {residual:.2f}', ha='center', va='center', fontsize=12)\n",
        "    axs[1, i].axis('off')\n",
        "\n",
        "plt.suptitle(\"Approximations of Unknown Digit (Nice 3) and Relative Residuals\", fontsize=16)\n",
        "plt.show()"
      ],
      "metadata": {
        "id": "1ot-VzyXVNNr"
      },
      "execution_count": null,
      "outputs": []
    },
    {
      "cell_type": "code",
      "source": [
        "import numpy as np\n",
        "import matplotlib.pyplot as plt\n",
        "\n",
        "# Assuming mse_test is already defined and contains the residuals\n",
        "# For demonstration, let's create a dummy mse_test array\n",
        "# Replace this with your actual mse_test data\n",
        "mse_test = np.random.rand(40, 5)  # 40 test points, 5 terms in 3-basis\n",
        "\n",
        "terms_list = [1, 3, 5, 7, 9]\n",
        "residuals = np.array(mse_test).reshape(-1, len(terms_list))  # Reshape to get residuals for each test point\n",
        "\n",
        "plt.figure(figsize=(10, 6))\n",
        "for i in range(residuals.shape[0]):\n",
        "    plt.plot(terms_list, residuals[i], marker='o', color='black', linewidth=0.5)\n",
        "\n",
        "plt.xlabel('Basis')\n",
        "plt.ylabel('Residual')\n",
        "plt.title('Parallel Coordinates Plot of Relative Residuals for Unknown Digit Approximations')\n",
        "plt.grid(True)\n",
        "plt.show()"
      ],
      "metadata": {
        "id": "rnkG59fqaGhc"
      },
      "execution_count": null,
      "outputs": []
    },
    {
      "cell_type": "code",
      "source": [
        "import numpy as np\n",
        "import matplotlib.pyplot as plt\n",
        "\n",
        "# Assuming U_list contains the list of U matrices for all digits\n",
        "# and x_train_list contains the training samples for all digits\n",
        "\n",
        "# Select the U matrix for the digit '3' and the number of terms to consider\n",
        "k = 3  # Assuming digit 3\n",
        "r_values = [1, 3, 5, 7, 9]\n",
        "\n",
        "# Calculate the relative residuals for each term value\n",
        "relative_residuals = []\n",
        "for r in r_values:\n",
        "    U_r = U_list[k][:, :r]\n",
        "    Ut_r = U_r.T\n",
        "    I_minus_UUt = np.eye(U_r.shape[0]) - np.dot(U_r, Ut_r)\n",
        "    z = x_train_list[k][:, 0]  # Taking the first sample for digit 3\n",
        "    residual = np.linalg.norm(np.dot(I_minus_UUt, z))**2 / np.linalg.norm(z)**2\n",
        "    relative_residuals.append(residual)\n",
        "\n",
        "# Plotting the relative residuals\n",
        "plt.figure(figsize=(10, 6))\n",
        "plt.plot(r_values, relative_residuals, 'kx--')\n",
        "plt.xlabel('# basis vectors')\n",
        "plt.ylabel('Residual')\n",
        "plt.title('Relative Residual in Least Squares Problem for Digit 3')\n",
        "plt.grid(True)\n",
        "plt.show()"
      ],
      "metadata": {
        "id": "eOGXmB1TehA5"
      },
      "execution_count": null,
      "outputs": []
    },
    {
      "cell_type": "code",
      "source": [
        "# Calculate Accuracy for Training Set\n",
        "mse_train = np.array(mse_train).reshape(40, -1)  # Reshape the MSE values\n",
        "\n",
        "# Calculate the corresponding accuracy for each r\n",
        "accuracy_train = 1 - mse_train / np.var(y_train)\n",
        "\n",
        "# Calculate the final accuracy for the training set\n",
        "final_accuracy_train = np.mean(accuracy_train)\n",
        "\n",
        "# Calculate Accuracy for Test Set\n",
        "mse_test = np.array(mse_test).reshape(40, -1)  # Reshape the MSE values\n",
        "\n",
        "# Calculate the corresponding accuracy for each r\n",
        "accuracy_test = 1 - mse_test / np.var(y_test)\n",
        "\n",
        "# Calculate the final accuracy for the test set\n",
        "final_accuracy_test = np.mean(accuracy_test)\n",
        "\n",
        "print(f\"Final Accuracy for Training Set: {final_accuracy_train}\")\n",
        "print(f\"Final Accuracy for Test Set: {final_accuracy_test}\")"
      ],
      "metadata": {
        "id": "bAsaPkzXagR4"
      },
      "execution_count": null,
      "outputs": []
    },
    {
      "cell_type": "markdown",
      "source": [
        "# edit by Jadidi"
      ],
      "metadata": {
        "id": "7cGXt0o3VZ4s"
      }
    },
    {
      "cell_type": "code",
      "source": [
        "import numpy as np\n",
        "from sklearn.datasets import load_digits\n",
        "from sklearn.model_selection import train_test_split\n",
        "from sklearn.metrics import accuracy_score\n",
        "from sklearn.decomposition import TruncatedSVD\n",
        "\n",
        "# Load the digits dataset\n",
        "digits = load_digits()\n",
        "\n",
        "# Split the dataset into training and testing sets\n",
        "X_train, X_test, y_train, y_test = train_test_split(digits.data, digits.target, test_size=0.2, random_state=42)\n",
        "\n",
        "# Apply SVD to the training data to obtain the bases\n",
        "svd = TruncatedSVD(n_components=64)  # We have 64 features in the digits dataset\n",
        "svd.fit(X_train)\n",
        "\n",
        "# Select the top 'r' bases\n",
        "r = 10  # Number of bases to select\n",
        "U_r = svd.components_[:r].T  # Transpose to get the bases as columns\n",
        "\n",
        "# Project the training and test data onto the selected bases\n",
        "X_train_projected = np.dot(X_train, U_r)\n",
        "X_test_projected = np.dot(X_test, U_r)\n",
        "\n",
        "# Classify the test data using the least squares method\n",
        "y_pred = []\n",
        "for x_test in X_test_projected:\n",
        "    # Calculate the residuals for each digit class\n",
        "    residuals = []\n",
        "    for digit in range(10):\n",
        "        # Get the mean of the projected training data for the current digit\n",
        "        mean_projected_train = np.mean(X_train_projected[y_train == digit], axis=0)\n",
        "        # Calculate the residual\n",
        "        residual = np.linalg.norm(x_test - mean_projected_train)\n",
        "        residuals.append(residual)\n",
        "    # The class with the smallest residual is the predicted class\n",
        "    y_pred.append(np.argmin(residuals))\n",
        "\n",
        "# Calculate the accuracy of the classifier\n",
        "accuracy = accuracy_score(y_test, y_pred)\n",
        "print(f\"Accuracy: {accuracy}\")"
      ],
      "metadata": {
        "id": "DlNtItiUVeMy"
      },
      "execution_count": null,
      "outputs": []
    },
    {
      "cell_type": "code",
      "source": [
        "import numpy as np\n",
        "import matplotlib.pyplot as plt\n",
        "from sklearn.datasets import load_digits\n",
        "from sklearn.model_selection import train_test_split\n",
        "from sklearn.metrics import accuracy_score, confusion_matrix, ConfusionMatrixDisplay\n",
        "from sklearn.decomposition import TruncatedSVD\n",
        "\n",
        "# Load the digits dataset\n",
        "digits = load_digits()\n",
        "\n",
        "# Split the dataset into training and testing sets\n",
        "X_train, X_test, y_train, y_test = train_test_split(digits.data, digits.target, test_size=0.2, random_state=42)\n",
        "\n",
        "# Apply SVD to the training data to obtain the bases\n",
        "svd = TruncatedSVD(n_components=64)  # We have 64 features in the digits dataset\n",
        "X_train_svd = svd.fit_transform(X_train)\n",
        "\n",
        "# Visualize the singular values\n",
        "plt.figure(figsize=(10, 6))\n",
        "plt.plot(svd.singular_values_, 'bo-')\n",
        "plt.xlabel('Component')\n",
        "plt.ylabel('Singular Value')\n",
        "plt.title('Singular Values')\n",
        "plt.grid(True)\n",
        "plt.show()\n",
        "\n",
        "# Select the top 'r' components\n",
        "r = 10  # Number of components to select\n",
        "U_r = svd.components_[:r]\n",
        "\n",
        "# Project the training and test data onto the selected components\n",
        "X_train_projected = np.dot(X_train, U_r.T)\n",
        "X_test_projected = np.dot(X_test, U_r.T)\n",
        "\n",
        "# Classify the test data using the least squares method\n",
        "y_pred = []\n",
        "for x_test in X_test_projected:\n",
        "    # Calculate the residuals for each digit class\n",
        "    residuals = []\n",
        "    for digit in range(10):\n",
        "        # Get the mean of the projected training data for the current digit\n",
        "        mean_projected_train = np.mean(X_train_projected[y_train == digit], axis=0)\n",
        "        # Calculate the residual\n",
        "        residual = np.linalg.norm(x_test - mean_projected_train)\n",
        "        residuals.append(residual)\n",
        "    # The class with the smallest residual is the predicted class\n",
        "    y_pred.append(np.argmin(residuals))\n",
        "\n",
        "# Calculate the accuracy of the classifier\n",
        "accuracy = accuracy_score(y_test, y_pred)\n",
        "print(f\"Accuracy: {accuracy}\")\n",
        "\n",
        "# Compute and display the confusion matrix\n",
        "cm = confusion_matrix(y_test, y_pred)\n",
        "disp = ConfusionMatrixDisplay(confusion_matrix=cm, display_labels=digits.target_names)\n",
        "disp.plot(cmap=plt.cm.Blues)\n",
        "plt.title('Confusion Matrix')\n",
        "plt.show()"
      ],
      "metadata": {
        "id": "tpi5inEiV2gt"
      },
      "execution_count": null,
      "outputs": []
    }
  ]
}