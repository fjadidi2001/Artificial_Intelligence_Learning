{
  "nbformat": 4,
  "nbformat_minor": 0,
  "metadata": {
    "colab": {
      "provenance": [],
      "authorship_tag": "ABX9TyOBzHF/Y7I0tFsNlbgmAmGl",
      "include_colab_link": true
    },
    "kernelspec": {
      "name": "python3",
      "display_name": "Python 3"
    },
    "language_info": {
      "name": "python"
    }
  },
  "cells": [
    {
      "cell_type": "markdown",
      "metadata": {
        "id": "view-in-github",
        "colab_type": "text"
      },
      "source": [
        "<a href=\"https://colab.research.google.com/github/fjadidi2001/Artificial_Intelligence_Learning/blob/master/RBFN_project.ipynb\" target=\"_parent\"><img src=\"https://colab.research.google.com/assets/colab-badge.svg\" alt=\"Open In Colab\"/></a>"
      ]
    },
    {
      "cell_type": "code",
      "execution_count": 1,
      "metadata": {
        "id": "bqBYm8iSgvK7"
      },
      "outputs": [],
      "source": [
        "import numpy as np # For numerical operations and array handling\n",
        "import matplotlib.pyplot as plt # To create insightful plots.\n",
        "from sklearn.datasets import make_classification # To generate a sample dataset, perform train-test splits, and evaluate our RBFN model.\n",
        "from sklearn.model_selection import train_test_split # To standardize our dataset.\n",
        "from sklearn.metrics import accuracy_score\n",
        "from sklearn.preprocessing import StandardScaler\n",
        "from scipy.spatial.distance import cdist # For calculating pairwise distances between data points."
      ]
    },
    {
      "cell_type": "code",
      "source": [],
      "metadata": {
        "id": "bplA2UcsjsUw"
      },
      "execution_count": null,
      "outputs": []
    }
  ]
}